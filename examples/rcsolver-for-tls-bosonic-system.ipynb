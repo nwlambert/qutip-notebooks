{
 "cells": [
  {
   "cell_type": "markdown",
   "metadata": {},
   "source": [
    "# Reaction coordinate solver for 2-level bosonic system  "
   ]
  },
  {
   "cell_type": "markdown",
   "metadata": {},
   "source": [
    "Author: Neill Lambert (nwlambert@gmail.com)\n",
    "        Anubhav Vardhan (anubhavvardhan@gmail.com)\n",
    "\n",
    "For more information about QuTiP see http://qutip.org"
   ]
  },
  {
   "cell_type": "markdown",
   "metadata": {},
   "source": [
    "### Introduction"
   ]
  },
  {
   "cell_type": "markdown",
   "metadata": {},
   "source": [
    "Reference: link.aps.org/doi/10.1103/PhysRevA.90.032114 "
   ]
  },
  {
   "cell_type": "markdown",
   "metadata": {},
   "source": [
    "In this model, we take a quantum system coupled to a bosonic environment and map to a model\n",
    "in which a collective mode of the environment, known as the reaction coordinate \n",
    "(RC), is incorporated within an effective system Hamiltonian. We then treat the \n",
    "residual environment within a full second-order Born-Markov master equation\n",
    "formalism. Thus, all important system-bath, and indeed intrabath, correlations \n",
    "are incorporated into the system-RC Hamiltonian in the regimes we study.\n",
    "\n"
   ]
  },
  {
   "cell_type": "markdown",
   "metadata": {},
   "source": [
    "\n"
   ]
  },
  {
   "cell_type": "code",
   "execution_count": 1,
   "metadata": {},
   "outputs": [
    {
     "name": "stdout",
     "output_type": "stream",
     "text": [
      "Populating the interactive namespace from numpy and matplotlib\n"
     ]
    }
   ],
   "source": [
    "%pylab inline\n",
    "from qutip import *"
   ]
  },
  {
   "cell_type": "code",
   "execution_count": 2,
   "metadata": {},
   "outputs": [],
   "source": [
    "from qutip import rcsolve"
   ]
  },
  {
   "cell_type": "markdown",
   "metadata": {},
   "source": [
    "### Defining the 2-level system"
   ]
  },
  {
   "cell_type": "code",
   "execution_count": 3,
   "metadata": {},
   "outputs": [],
   "source": [
    "Del = 1.0    # The number of qubits in the system.\n",
    "wq = 0.5     # Energy of the 2-level system.\n",
    "Hsys = 0.5 * wq * sigmaz() + 0.5 * Del * sigmax()"
   ]
  },
  {
   "cell_type": "code",
   "execution_count": 4,
   "metadata": {},
   "outputs": [],
   "source": [
    "Q = sigmaz()"
   ]
  },
  {
   "cell_type": "markdown",
   "metadata": {},
   "source": [
    "Defining the coupling Q such that:\n",
    "\n",
    "Decoupled Hamiltonian-\n",
    "#### $H_0 = \\omega a^\\dagger a + \\frac{1}{2}\\omega_q\\sigma_z + \\frac{1}{2}\\delta\\sigma_x$ \n",
    "\n",
    "Interaction-\n",
    "#### $H_1 = g(a^\\dagger + a)\\sigma_z$\n",
    "\n",
    "Total Hamiltonian-\n",
    "#### $H = H_0 + H_1$"
   ]
  },
  {
   "cell_type": "markdown",
   "metadata": {},
   "source": [
    "### Solving the RC master equation"
   ]
  },
  {
   "cell_type": "code",
   "execution_count": 8,
   "metadata": {},
   "outputs": [],
   "source": [
    "wc = 0.05                # Cutoff frequency.\n",
    "alpha = 2.5/pi           # Coupling strength.\n",
    "N = 10                   # Number of cavity fock states.\n",
    "Temperature = 1/0.95     # Tempertaure.\n",
    "tlist = np.linspace(0, 40, 600)\n",
    "initial_state = basis(2,1) * basis(2,1).dag()                # Initial state of the system.\n",
    "return_vals = [Q]            # List for which to calculate expectation value                                          \n",
    "options = Options(nsteps=15000, store_states=True)        # Options for the solver.\n",
    "\n",
    "output = rcsolve(Hsys, initial_state, tlist, return_vals, Q, wc, alpha, N, \n",
    "                Temperature, options=options)"
   ]
  },
  {
   "cell_type": "markdown",
   "metadata": {},
   "source": [
    "### Plotting the TLS state occupation"
   ]
  },
  {
   "cell_type": "code",
   "execution_count": 9,
   "metadata": {},
   "outputs": [
    {
     "data": {
      "text/plain": [
       "<matplotlib.legend.Legend at 0x119460cc0>"
      ]
     },
     "execution_count": 9,
     "metadata": {},
     "output_type": "execute_result"
    },
    {
     "data": {
      "image/png": "[encoded data removed]",
      "text/plain": [
       "<matplotlib.figure.Figure at 0x118f7a668>"
      ]
     },
     "metadata": {},
     "output_type": "display_data"
    }
   ],
   "source": [
    "fig, axes = subplots(1, 1, sharex=True, figsize=(8,4))\n",
    "axes.plot(tlist, real(output.expect[0]), 'b', linewidth=2, label=\"P12\")\n",
    "\n",
    "axes.legend(loc=0)"
   ]
  },
  {
   "cell_type": "markdown",
   "metadata": {},
   "source": [
    "### Plotting the photon distributions at arbitrary times"
   ]
  },
  {
   "cell_type": "code",
   "execution_count": 10,
   "metadata": {},
   "outputs": [
    {
     "data": {
      "text/latex": [
       "Quantum object: dims = [[10, 2], [10, 2]], shape = (20, 20), type = oper, isherm = True\\begin{equation*}\\left(\\begin{array}{*{11}c}0.0 & 0.0 & 0.0 & 0.0 & 0.0 & \\cdots & 0.0 & 0.0 & 0.0 & 0.0 & 0.0\\\\0.0 & 0.654 & 0.0 & 0.0 & 0.0 & \\cdots & 0.0 & 0.0 & 0.0 & 0.0 & 0.0\\\\0.0 & 0.0 & 0.0 & 0.0 & 0.0 & \\cdots & 0.0 & 0.0 & 0.0 & 0.0 & 0.0\\\\0.0 & 0.0 & 0.0 & 0.226 & 0.0 & \\cdots & 0.0 & 0.0 & 0.0 & 0.0 & 0.0\\\\0.0 & 0.0 & 0.0 & 0.0 & 0.0 & \\cdots & 0.0 & 0.0 & 0.0 & 0.0 & 0.0\\\\\\vdots & \\vdots & \\vdots & \\vdots & \\vdots & \\ddots & \\vdots & \\vdots & \\vdots & \\vdots & \\vdots\\\\0.0 & 0.0 & 0.0 & 0.0 & 0.0 & \\cdots & 3.862\\times10^{-04} & 0.0 & 0.0 & 0.0 & 0.0\\\\0.0 & 0.0 & 0.0 & 0.0 & 0.0 & \\cdots & 0.0 & 0.0 & 0.0 & 0.0 & 0.0\\\\0.0 & 0.0 & 0.0 & 0.0 & 0.0 & \\cdots & 0.0 & 0.0 & 1.335\\times10^{-04} & 0.0 & 0.0\\\\0.0 & 0.0 & 0.0 & 0.0 & 0.0 & \\cdots & 0.0 & 0.0 & 0.0 & 0.0 & 0.0\\\\0.0 & 0.0 & 0.0 & 0.0 & 0.0 & \\cdots & 0.0 & 0.0 & 0.0 & 0.0 & 4.616\\times10^{-05}\\\\\\end{array}\\right)\\end{equation*}"
      ],
      "text/plain": [
       "Quantum object: dims = [[10, 2], [10, 2]], shape = (20, 20), type = oper, isherm = True\n",
       "Qobj data =\n",
       "[[  0.00000000e+00   0.00000000e+00   0.00000000e+00   0.00000000e+00\n",
       "    0.00000000e+00   0.00000000e+00   0.00000000e+00   0.00000000e+00\n",
       "    0.00000000e+00   0.00000000e+00   0.00000000e+00   0.00000000e+00\n",
       "    0.00000000e+00   0.00000000e+00   0.00000000e+00   0.00000000e+00\n",
       "    0.00000000e+00   0.00000000e+00   0.00000000e+00   0.00000000e+00]\n",
       " [  0.00000000e+00   6.54298105e-01   0.00000000e+00   0.00000000e+00\n",
       "    0.00000000e+00   0.00000000e+00   0.00000000e+00   0.00000000e+00\n",
       "    0.00000000e+00   0.00000000e+00   0.00000000e+00   0.00000000e+00\n",
       "    0.00000000e+00   0.00000000e+00   0.00000000e+00   0.00000000e+00\n",
       "    0.00000000e+00   0.00000000e+00   0.00000000e+00   0.00000000e+00]\n",
       " [  0.00000000e+00   0.00000000e+00   0.00000000e+00   0.00000000e+00\n",
       "    0.00000000e+00   0.00000000e+00   0.00000000e+00   0.00000000e+00\n",
       "    0.00000000e+00   0.00000000e+00   0.00000000e+00   0.00000000e+00\n",
       "    0.00000000e+00   0.00000000e+00   0.00000000e+00   0.00000000e+00\n",
       "    0.00000000e+00   0.00000000e+00   0.00000000e+00   0.00000000e+00]\n",
       " [  0.00000000e+00   0.00000000e+00   0.00000000e+00   2.26202536e-01\n",
       "    0.00000000e+00   0.00000000e+00   0.00000000e+00   0.00000000e+00\n",
       "    0.00000000e+00   0.00000000e+00   0.00000000e+00   0.00000000e+00\n",
       "    0.00000000e+00   0.00000000e+00   0.00000000e+00   0.00000000e+00\n",
       "    0.00000000e+00   0.00000000e+00   0.00000000e+00   0.00000000e+00]\n",
       " [  0.00000000e+00   0.00000000e+00   0.00000000e+00   0.00000000e+00\n",
       "    0.00000000e+00   0.00000000e+00   0.00000000e+00   0.00000000e+00\n",
       "    0.00000000e+00   0.00000000e+00   0.00000000e+00   0.00000000e+00\n",
       "    0.00000000e+00   0.00000000e+00   0.00000000e+00   0.00000000e+00\n",
       "    0.00000000e+00   0.00000000e+00   0.00000000e+00   0.00000000e+00]\n",
       " [  0.00000000e+00   0.00000000e+00   0.00000000e+00   0.00000000e+00\n",
       "    0.00000000e+00   7.82022553e-02   0.00000000e+00   0.00000000e+00\n",
       "    0.00000000e+00   0.00000000e+00   0.00000000e+00   0.00000000e+00\n",
       "    0.00000000e+00   0.00000000e+00   0.00000000e+00   0.00000000e+00\n",
       "    0.00000000e+00   0.00000000e+00   0.00000000e+00   0.00000000e+00]\n",
       " [  0.00000000e+00   0.00000000e+00   0.00000000e+00   0.00000000e+00\n",
       "    0.00000000e+00   0.00000000e+00   0.00000000e+00   0.00000000e+00\n",
       "    0.00000000e+00   0.00000000e+00   0.00000000e+00   0.00000000e+00\n",
       "    0.00000000e+00   0.00000000e+00   0.00000000e+00   0.00000000e+00\n",
       "    0.00000000e+00   0.00000000e+00   0.00000000e+00   0.00000000e+00]\n",
       " [  0.00000000e+00   0.00000000e+00   0.00000000e+00   0.00000000e+00\n",
       "    0.00000000e+00   0.00000000e+00   0.00000000e+00   2.70359158e-02\n",
       "    0.00000000e+00   0.00000000e+00   0.00000000e+00   0.00000000e+00\n",
       "    0.00000000e+00   0.00000000e+00   0.00000000e+00   0.00000000e+00\n",
       "    0.00000000e+00   0.00000000e+00   0.00000000e+00   0.00000000e+00]\n",
       " [  0.00000000e+00   0.00000000e+00   0.00000000e+00   0.00000000e+00\n",
       "    0.00000000e+00   0.00000000e+00   0.00000000e+00   0.00000000e+00\n",
       "    0.00000000e+00   0.00000000e+00   0.00000000e+00   0.00000000e+00\n",
       "    0.00000000e+00   0.00000000e+00   0.00000000e+00   0.00000000e+00\n",
       "    0.00000000e+00   0.00000000e+00   0.00000000e+00   0.00000000e+00]\n",
       " [  0.00000000e+00   0.00000000e+00   0.00000000e+00   0.00000000e+00\n",
       "    0.00000000e+00   0.00000000e+00   0.00000000e+00   0.00000000e+00\n",
       "    0.00000000e+00   9.34679878e-03   0.00000000e+00   0.00000000e+00\n",
       "    0.00000000e+00   0.00000000e+00   0.00000000e+00   0.00000000e+00\n",
       "    0.00000000e+00   0.00000000e+00   0.00000000e+00   0.00000000e+00]\n",
       " [  0.00000000e+00   0.00000000e+00   0.00000000e+00   0.00000000e+00\n",
       "    0.00000000e+00   0.00000000e+00   0.00000000e+00   0.00000000e+00\n",
       "    0.00000000e+00   0.00000000e+00   0.00000000e+00   0.00000000e+00\n",
       "    0.00000000e+00   0.00000000e+00   0.00000000e+00   0.00000000e+00\n",
       "    0.00000000e+00   0.00000000e+00   0.00000000e+00   0.00000000e+00]\n",
       " [  0.00000000e+00   0.00000000e+00   0.00000000e+00   0.00000000e+00\n",
       "    0.00000000e+00   0.00000000e+00   0.00000000e+00   0.00000000e+00\n",
       "    0.00000000e+00   0.00000000e+00   0.00000000e+00   3.23135521e-03\n",
       "    0.00000000e+00   0.00000000e+00   0.00000000e+00   0.00000000e+00\n",
       "    0.00000000e+00   0.00000000e+00   0.00000000e+00   0.00000000e+00]\n",
       " [  0.00000000e+00   0.00000000e+00   0.00000000e+00   0.00000000e+00\n",
       "    0.00000000e+00   0.00000000e+00   0.00000000e+00   0.00000000e+00\n",
       "    0.00000000e+00   0.00000000e+00   0.00000000e+00   0.00000000e+00\n",
       "    0.00000000e+00   0.00000000e+00   0.00000000e+00   0.00000000e+00\n",
       "    0.00000000e+00   0.00000000e+00   0.00000000e+00   0.00000000e+00]\n",
       " [  0.00000000e+00   0.00000000e+00   0.00000000e+00   0.00000000e+00\n",
       "    0.00000000e+00   0.00000000e+00   0.00000000e+00   0.00000000e+00\n",
       "    0.00000000e+00   0.00000000e+00   0.00000000e+00   0.00000000e+00\n",
       "    0.00000000e+00   1.11713719e-03   0.00000000e+00   0.00000000e+00\n",
       "    0.00000000e+00   0.00000000e+00   0.00000000e+00   0.00000000e+00]\n",
       " [  0.00000000e+00   0.00000000e+00   0.00000000e+00   0.00000000e+00\n",
       "    0.00000000e+00   0.00000000e+00   0.00000000e+00   0.00000000e+00\n",
       "    0.00000000e+00   0.00000000e+00   0.00000000e+00   0.00000000e+00\n",
       "    0.00000000e+00   0.00000000e+00   0.00000000e+00   0.00000000e+00\n",
       "    0.00000000e+00   0.00000000e+00   0.00000000e+00   0.00000000e+00]\n",
       " [  0.00000000e+00   0.00000000e+00   0.00000000e+00   0.00000000e+00\n",
       "    0.00000000e+00   0.00000000e+00   0.00000000e+00   0.00000000e+00\n",
       "    0.00000000e+00   0.00000000e+00   0.00000000e+00   0.00000000e+00\n",
       "    0.00000000e+00   0.00000000e+00   0.00000000e+00   3.86214270e-04\n",
       "    0.00000000e+00   0.00000000e+00   0.00000000e+00   0.00000000e+00]\n",
       " [  0.00000000e+00   0.00000000e+00   0.00000000e+00   0.00000000e+00\n",
       "    0.00000000e+00   0.00000000e+00   0.00000000e+00   0.00000000e+00\n",
       "    0.00000000e+00   0.00000000e+00   0.00000000e+00   0.00000000e+00\n",
       "    0.00000000e+00   0.00000000e+00   0.00000000e+00   0.00000000e+00\n",
       "    0.00000000e+00   0.00000000e+00   0.00000000e+00   0.00000000e+00]\n",
       " [  0.00000000e+00   0.00000000e+00   0.00000000e+00   0.00000000e+00\n",
       "    0.00000000e+00   0.00000000e+00   0.00000000e+00   0.00000000e+00\n",
       "    0.00000000e+00   0.00000000e+00   0.00000000e+00   0.00000000e+00\n",
       "    0.00000000e+00   0.00000000e+00   0.00000000e+00   0.00000000e+00\n",
       "    0.00000000e+00   1.33521168e-04   0.00000000e+00   0.00000000e+00]\n",
       " [  0.00000000e+00   0.00000000e+00   0.00000000e+00   0.00000000e+00\n",
       "    0.00000000e+00   0.00000000e+00   0.00000000e+00   0.00000000e+00\n",
       "    0.00000000e+00   0.00000000e+00   0.00000000e+00   0.00000000e+00\n",
       "    0.00000000e+00   0.00000000e+00   0.00000000e+00   0.00000000e+00\n",
       "    0.00000000e+00   0.00000000e+00   0.00000000e+00   0.00000000e+00]\n",
       " [  0.00000000e+00   0.00000000e+00   0.00000000e+00   0.00000000e+00\n",
       "    0.00000000e+00   0.00000000e+00   0.00000000e+00   0.00000000e+00\n",
       "    0.00000000e+00   0.00000000e+00   0.00000000e+00   0.00000000e+00\n",
       "    0.00000000e+00   0.00000000e+00   0.00000000e+00   0.00000000e+00\n",
       "    0.00000000e+00   0.00000000e+00   0.00000000e+00   4.61606517e-05]]"
      ]
     },
     "execution_count": 10,
     "metadata": {},
     "output_type": "execute_result"
    }
   ],
   "source": [
    "output.states[0]"
   ]
  },
  {
   "cell_type": "code",
   "execution_count": 11,
   "metadata": {},
   "outputs": [
    {
     "data": {
      "image/png": "[encoded data removed]",
      "text/plain": [
       "<matplotlib.figure.Figure at 0x1194abf28>"
      ]
     },
     "metadata": {},
     "output_type": "display_data"
    }
   ],
   "source": [
    "t_idx_vec = range(0,len(tlist),200) \n",
    "\n",
    "fig, axes = subplots(len(t_idx_vec), 1, sharey=True, figsize=(8,2*len(t_idx_vec)))\n",
    "\n",
    "for idx, t_idx in enumerate(t_idx_vec):\n",
    "\n",
    "    psi_a = ptrace(output.states[t_idx], 0)\n",
    "    \n",
    "    cont1 = axes[idx].bar(range(0, N), real(psi_a.diag()))\n",
    "    \n",
    "fig.tight_layout()"
   ]
  },
  {
   "cell_type": "markdown",
   "metadata": {},
   "source": [
    "### Plotting the wigner function at arbitrary times"
   ]
  },
  {
   "cell_type": "code",
   "execution_count": 12,
   "metadata": {},
   "outputs": [
    {
     "data": {
      "image/png": "[encoded data removed]",
      "text/plain": [
       "<matplotlib.figure.Figure at 0x1198170b8>"
      ]
     },
     "metadata": {},
     "output_type": "display_data"
    }
   ],
   "source": [
    "xvec = linspace(-5,5,200)\n",
    "t_idx_vec = range(0,len(tlist),200) \n",
    "\n",
    "fig, axes = subplots(len(t_idx_vec), 1, sharex=True, sharey=True, figsize=(8,4*len(t_idx_vec)))\n",
    "\n",
    "for idx, t_idx in enumerate(t_idx_vec):\n",
    "    psi_a = ptrace(output.states[t_idx], 0)\n",
    "    \n",
    "    W_a = wigner(psi_a, xvec, xvec)\n",
    "    \n",
    "    \n",
    "    cont1 = axes[idx].contourf(xvec, xvec, W_a, 100)\n",
    "   "
   ]
  },
  {
   "cell_type": "markdown",
   "metadata": {},
   "source": [
    "### Software versions"
   ]
  },
  {
   "cell_type": "code",
   "execution_count": 13,
   "metadata": {},
   "outputs": [
    {
     "data": {
      "text/html": [
       "<table><tr><th>Software</th><th>Version</th></tr><tr><td>QuTiP</td><td>4.3.0.dev0+6e5b1d43</td></tr><tr><td>Numpy</td><td>1.13.1</td></tr><tr><td>SciPy</td><td>0.19.1</td></tr><tr><td>matplotlib</td><td>2.0.2</td></tr><tr><td>Cython</td><td>0.25.2</td></tr><tr><td>Number of CPUs</td><td>2</td></tr><tr><td>BLAS Info</td><td>INTEL MKL</td></tr><tr><td>IPython</td><td>6.1.0</td></tr><tr><td>Python</td><td>3.6.2 |Anaconda custom (x86_64)| (default, Jul 20 2017, 13:14:59) \n",
       "[GCC 4.2.1 Compatible Apple LLVM 6.0 (clang-600.0.57)]</td></tr><tr><td>OS</td><td>posix [darwin]</td></tr><tr><td colspan='2'>Thu Jul 20 22:41:41 2017 MDT</td></tr></table>"
      ],
      "text/plain": [
       "<IPython.core.display.HTML object>"
      ]
     },
     "execution_count": 13,
     "metadata": {},
     "output_type": "execute_result"
    }
   ],
   "source": [
    "from qutip.ipynbtools import version_table\n",
    "\n",
    "version_table()"
   ]
  },
  {
   "cell_type": "code",
   "execution_count": null,
   "metadata": {
    "collapsed": true
   },
   "outputs": [],
   "source": []
  }
 ],
 "metadata": {
  "kernelspec": {
   "display_name": "Python 3",
   "language": "python",
   "name": "python3"
  },
  "language_info": {
   "codemirror_mode": {
    "name": "ipython",
    "version": 3
   },
   "file_extension": ".py",
   "mimetype": "text/x-python",
   "name": "python",
   "nbconvert_exporter": "python",
   "pygments_lexer": "ipython3",
   "version": "3.6.2"
  }
 },
 "nbformat": 4,
 "nbformat_minor": 1
}
