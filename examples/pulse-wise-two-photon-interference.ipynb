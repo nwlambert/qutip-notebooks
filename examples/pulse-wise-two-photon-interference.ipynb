{
 "cells": [
  {
   "cell_type": "markdown",
   "metadata": {},
   "source": [
    "# QuTiP Lecture: Pulse-wise two-photon interference of emission from a two-level system"
   ]
  },
  {
   "cell_type": "markdown",
   "metadata": {},
   "source": [
    "K.A. Fischer, Stanford University\n",
    "\n",
    "This Jupyter notebook demonstrates how to simulate the two-photon interference between two potentially identical two-level systems, using QuTiP: The Quantum Toolbox in Python. The purpose is to help characterize the quality of a two-level system as a single-photon source and the capability of two such sources to interfere; ideal pulsed single-photon sources have both zero second-order coherence and complete first-order coherence, and the sources must match in spatio-temporal overlap to be indistinguishable. In this notebook, we will assume the spatial modes are comparable so we can focus on temporal effects. This notebook closely follows an example from my simulation paper, <a href=\"http://dx.doi.org/10.1088/1367-2630/18/11/113053\">Dynamical modeling of pulsed two-photon interference</a>, published as New J. Phys. 18 113053 (2016).\n",
    "\n",
    "For more information about QuTiP see the project web page: http://qutip.org/ "
   ]
  },
  {
   "cell_type": "code",
   "execution_count": 1,
   "metadata": {
    "collapsed": true
   },
   "outputs": [],
   "source": [
    "%matplotlib inline\n",
    "%config InlineBackend.figure_format = 'retina'"
   ]
  },
  {
   "cell_type": "code",
   "execution_count": 2,
   "metadata": {
    "collapsed": true
   },
   "outputs": [],
   "source": [
    "import matplotlib.pyplot as plt\n",
    "import numpy as np\n",
    "\n",
    "from scipy.interpolate import interp2d"
   ]
  },
  {
   "cell_type": "code",
   "execution_count": 3,
   "metadata": {},
   "outputs": [],
   "source": [
    "from qutip import *"
   ]
  },
  {
   "cell_type": "markdown",
   "metadata": {},
   "source": [
    "## Introduction\n",
    "\n",
    "The quantum two-level system (TLS) is the simplest possible model for quantum light-matter interaction. In the version we simulate here, the system is driven by a continuous-mode coherent state, whose dipolar interaction with the system is represented by the following Hamiltonain\n",
    "\n",
    "$$ H =\\hbar \\omega_0 \\sigma^\\dagger \\sigma + \\frac{\\hbar\\Omega(t)}{2}\\left( \\sigma\\textrm{e}^{-i\\omega_dt} + \\sigma^\\dagger \\textrm{e}^{i\\omega_dt}\\right),$$\n",
    "\n",
    "where $\\omega_0$ is the system's transition frequency, $\\sigma$ is the system's atomic lowering operator, $\\omega_d$ is the coherent state's center frequency, and $\\Omega(t)$ is the coherent state's driving strength.\n",
    "\n",
    "The time-dependence can be removed to simplify the simulation by a rotating frame transformation, and is particularly simple when the driving field is resonant with the transition frequency ($\\omega_d=\\omega_0$). Then,\n",
    "\n",
    "$$ H_r =\\frac{\\hbar\\Omega(t)}{2}\\left( \\sigma+ \\sigma^\\dagger \\right).$$"
   ]
  },
  {
   "cell_type": "markdown",
   "metadata": {},
   "source": [
    "### Problem parameters\n",
    "\n",
    "We will explore emission from the two-level system under two different regimes: under excitation by a short pulse which gives rise to an exponential wavepacket and under excitation by a long pulse which gives rise to a Gaussian wavepacket. (Short and long are relative to the spontaneous emission time of the atomic transition.) In both cases, the driving strengths are chosen such that the expected number of photodetections is unity, i.e.\n",
    "\n",
    "$$ \\gamma\\int \\langle \\sigma^\\dagger (t) \\sigma(t)\\rangle=1 .$$\n",
    "\n",
    "As a result, we can compare the statistics of the emission directly and the normalizations become trivial.\n",
    "\n",
    "Note, we use units where $\\hbar=1$."
   ]
  },
  {
   "cell_type": "code",
   "execution_count": 4,
   "metadata": {},
   "outputs": [],
   "source": [
    "# shared parameters\n",
    "gamma = 1                        # decay rate\n",
    "tlist = np.linspace(0, 13, 300)\n",
    "taulist = tlist\n",
    "\n",
    "# parameters for TLS with exponential shape wavepacket (short pulse)\n",
    "tp_e = 0.060                     # Gaussian pulse parameter\n",
    "Om_e = 19.40                     # driving strength\n",
    "t_offset_e = 0.405\n",
    "pulse_shape_e = Om_e/2 * np.exp(-(tlist - t_offset_e) ** 2 /\n",
    "                                (2 * tp_e ** 2))\n",
    "\n",
    "# parameters for TLS with Gaussian shape wavepacket (long pulse)\n",
    "tp_G = 2.000                     # Gaussian pulse parameter\n",
    "Om_G = 0.702                     # driving strength\n",
    "t_offset_G = 5\n",
    "pulse_shape_G = Om_G/2 * np.exp(-(tlist - t_offset_G) ** 2 /\n",
    "                                (2 * tp_G ** 2))"
   ]
  },
  {
   "cell_type": "markdown",
   "metadata": {},
   "source": [
    "### Setup the operators, Hamiltonian, and initial state"
   ]
  },
  {
   "cell_type": "code",
   "execution_count": 5,
   "metadata": {},
   "outputs": [],
   "source": [
    "# initial state\n",
    "psi0 = fock(2, 0)              # ground state\n",
    "\n",
    "# operators\n",
    "sm = destroy(2)                # atomic lowering operator\n",
    "n = [sm.dag()*sm]              # number operator\n",
    "\n",
    "# Hamiltonian\n",
    "H_I = sm + sm.dag()\n",
    "H_e = [[H_I, pulse_shape_e]]\n",
    "H_G = [[H_I, pulse_shape_G]]\n",
    "\n",
    "# collapse operator that describes dissipation\n",
    "c_ops = [np.sqrt(gamma) * sm]  # represents spontaneous emission"
   ]
  },
  {
   "cell_type": "markdown",
   "metadata": {},
   "source": [
    "## Calculate the emission flux\n",
    "\n",
    "We evolve the system with the Lindblad master equation solver, and we request that the expectation values of the number operator $\\hat{n}=\\sigma^{\\dagger} \\sigma$ are returned by the solver. If the probability of two photodetections were negligible over the course of the pulse, then $\\langle \\hat{n}(t) \\rangle$ would be the probability density of a detection occuring on an ideal detector at time $t$."
   ]
  },
  {
   "cell_type": "code",
   "execution_count": 6,
   "metadata": {},
   "outputs": [],
   "source": [
    "n_e = mesolve(H_e, psi0, tlist, c_ops, n).expect[0]\n",
    "n_G = mesolve(H_G, psi0, tlist, c_ops, n).expect[0]"
   ]
  },
  {
   "cell_type": "markdown",
   "metadata": {},
   "source": [
    "### Visualize the emission flux\n",
    "\n",
    "We plot the emission flux from two different three-level systems. The system labelled 'exponential wavepacket' was excited with a short pulse, while the system labelled 'Gaussian wavepacket' was excited with a long pulse."
   ]
  },
  {
   "cell_type": "code",
   "execution_count": 7,
   "metadata": {
    "scrolled": true
   },
   "outputs": [
    {
     "data": {
      "image/png": "[encoded data removed]",
      "text/plain": [
       "<matplotlib.figure.Figure at 0x11bd712b0>"
      ]
     },
     "metadata": {
      "image/png": {
       "height": 333,
       "width": 500
      }
     },
     "output_type": "display_data"
    }
   ],
   "source": [
    "fig, ax = plt.subplots(figsize=(8,5))\n",
    "ax.plot(tlist, n_e, 'r', label=\"exponential wavepacket\")\n",
    "ax.plot(tlist, n_G, 'b', label=\"Gaussian wavepacket\")\n",
    "ax.legend()\n",
    "ax.set_xlim(0, 13)\n",
    "ax.set_ylim(0, 1)\n",
    "ax.set_xlabel('Time, $t$ [$1/\\gamma$]')\n",
    "ax.set_ylabel('Emission flux [$\\gamma$]')\n",
    "ax.set_title('TLS emission shapes');"
   ]
  },
  {
   "cell_type": "markdown",
   "metadata": {},
   "source": [
    "## Calculate the correlators involved in two-photon interference\n",
    "\n",
    "When two indistinguishable photons impinge on two ports of a beamsplitter at the same time, they exit together. Such a configuration, with intensity detectors at each output, is known as a Hong-Ou-Mandel interferometer. This interferometer measures two-photon interference in the pulse-wise cross-correlation of the detection records of its photon counters.\n",
    "\n",
    "If each of the two interfering wavepackets has unity average photon number, then the formula for this normalized cross-correlation is\n",
    "\n",
    "$$ g^{(2)}_\\textrm{HOM}[0] = \\frac{1}{4}\\left(g^{(2)}_{aa}[0] + g^{(2)}_{bb}[0])\\right) + \\frac{1}{2}\\left(1-\\textrm{Re}\\iint \\mathop{\\textrm{d} t} \\mathop{\\textrm{d} t'}  \\left[G^{(1)}_a(t,t')\\right]^*G^{(1)}_b(t,t')\\right) ,$$\n",
    "\n",
    "where $a$ and $b$ label the wavepackets, $g^{(2)}_{aa(bb)}[0]$ are the sources' measured degrees of second-order coherence, and $G^{(1)}_{a(b)}(t,t')$ are the sources' first-order optical coherences. Specifically\n",
    "\n",
    "$$ G^{(1)}_{a(b)}(t,t') = \\gamma \\langle \\sigma_{a(b)}^\\dagger(t) \\sigma_{a(b)}(t') \\rangle,$$\n",
    "\n",
    "which we will calculate in this notebook with the master equation solver and quantum regression theorem. Importantly, if $g^{(2)}_\\textrm{HOM}[0]=0$ then the photons always exit an output port of the beamsplitter together. Note: for the sources in question $g^{(2)}_{aa(bb)}[0]$ was calculated in the QuTiP example, <i>Pulse-wise second-order optical coherences of emission from a two-level system</i>."
   ]
  },
  {
   "cell_type": "code",
   "execution_count": 8,
   "metadata": {},
   "outputs": [],
   "source": [
    "# specify relevant operators to calculate the correlation\n",
    "# <A(t+tau)B(t)>\n",
    "a_op = sm.dag()\n",
    "b_op = sm\n",
    "\n",
    "# calculate two-time correlations\n",
    "G1_t_tau_e = correlation_2op_2t(H_e, psi0, tlist, taulist, c_ops,\n",
    "                                a_op, b_op, reverse=True)\n",
    "G1_t_tau_e_r = correlation_2op_2t(H_e, psi0, tlist, taulist, c_ops,\n",
    "                                  a_op, b_op)\n",
    "G1_t_tau_G = correlation_2op_2t(H_G, psi0, tlist, taulist, c_ops,\n",
    "                                a_op, b_op, reverse=True)\n",
    "G1_t_tau_G_r = correlation_2op_2t(H_G, psi0, tlist, taulist, c_ops,\n",
    "                                  a_op, b_op)\n",
    "\n",
    "# g^(2)[0] values calculated for the sources in question in the\n",
    "# notebook 'Pulse-wise second-order optical coherences of emission\n",
    "# from a two-level system'\n",
    "g20_e = 0.03\n",
    "g20_G = 0.44"
   ]
  },
  {
   "cell_type": "markdown",
   "metadata": {},
   "source": [
    "### Interpolate these functions, in preparation for time delays"
   ]
  },
  {
   "cell_type": "code",
   "execution_count": 9,
   "metadata": {
    "collapsed": true
   },
   "outputs": [],
   "source": [
    "t_delay_list = np.linspace(-5, 0, 50)\n",
    "TAULIST, TLIST = np.meshgrid(taulist, tlist)\n",
    "\n",
    "c1_e = interp2d(taulist, tlist, np.real(G1_t_tau_e))\n",
    "c1_e_f = lambda tau, t: c1_e(tau, t)\n",
    "\n",
    "c2_e = interp2d(taulist, tlist, np.real(G1_t_tau_e_r))\n",
    "c2_e_f = lambda tau, t: c2_e(tau, t)\n",
    "\n",
    "c1_G = interp2d(taulist, tlist, np.real(G1_t_tau_G))\n",
    "c1_G_f = lambda tau, t: c1_G(tau, t)\n",
    "\n",
    "c2_G = interp2d(taulist, tlist, np.real(G1_t_tau_G_r))\n",
    "c2_G_f = lambda tau, t: c2_G(tau, t)"
   ]
  },
  {
   "cell_type": "markdown",
   "metadata": {},
   "source": [
    "## Calculate measured degrees of HOM cross-correlation"
   ]
  },
  {
   "cell_type": "code",
   "execution_count": 10,
   "metadata": {},
   "outputs": [],
   "source": [
    "# two delayed exponential wavepackets interfere\n",
    "g2HOM_e = np.zeros(50)\n",
    "for i, t_delay in enumerate(t_delay_list):\n",
    "    corr_e = np.array(\n",
    "        [[c1_e_f(tau, t)[0] * c2_e_f(tau, t - t_delay)[0] \n",
    "          for tau in taulist]\n",
    "         for t in tlist]\n",
    "    )\n",
    "    g2HOM_e[i] = g20_e/2 + 1/2*abs(1 -\n",
    "        2 * np.trapz(np.trapz(corr_e, TLIST, axis=0), taulist)\n",
    "    )"
   ]
  },
  {
   "cell_type": "code",
   "execution_count": null,
   "metadata": {},
   "outputs": [],
   "source": [
    "# two delayed Gaussian wavepackets interfere\n",
    "g2HOM_G = np.zeros(50)\n",
    "for i, t_delay in enumerate(t_delay_list):\n",
    "    corr_G = np.array(\n",
    "        [[c1_G_f(tau, t)[0] * c2_G_f(tau, t - t_delay)[0] \n",
    "          for tau in taulist]\n",
    "         for t in tlist]\n",
    "    )\n",
    "    g2HOM_G[i] = g20_G/2 + 1/2*abs(1 -\n",
    "        2 * np.trapz(np.trapz(corr_G, TLIST, axis=0), taulist)\n",
    "    )"
   ]
  },
  {
   "cell_type": "code",
   "execution_count": null,
   "metadata": {},
   "outputs": [],
   "source": [
    "# a delayed Gaussian wavepacket interferes with an exponential\n",
    "# wavepacket\n",
    "g2HOM_Ge = np.zeros(50)\n",
    "for i, t_delay in enumerate(t_delay_list + 5.45):\n",
    "    corr_Ge = np.array(\n",
    "        [[c1_e_f(tau, t)[0] * c2_G_f(tau, t - t_delay)[0] \n",
    "          for tau in taulist]\n",
    "         for t in tlist]\n",
    "    )\n",
    "    g2HOM_Ge[i] = (g20_e + g20_G)/4 + 1/2*abs(1 -\n",
    "        2 * np.trapz(np.trapz(corr_Ge, TLIST, axis=0), taulist)\n",
    "    )"
   ]
  },
  {
   "cell_type": "markdown",
   "metadata": {},
   "source": [
    "### Visualize the two-photon interference visibilities\n",
    "\n",
    "Here, the exponential wavepackets show good HOM interference visibility at zero delay, dipping down to almost zero (red). Meanwhile, in the case of the Gaussian wavepackets, the significant probability of re-excitation (due to $g^{(2)}_{aa}[0]=0.44$) partially destroys the HOM interference (blue); the HOM dip at zero delay still is below the nonclassical threshold (dashed line). However, if the Gaussian and exponential wavepackets, each generated by two-level systems, are interfered with one-another then the HOM interference is not below the nonclassical threshold (purple). This is a result of the re-excitation action that scrambles the phase of the first-order coherence."
   ]
  },
  {
   "cell_type": "code",
   "execution_count": null,
   "metadata": {},
   "outputs": [],
   "source": [
    "fig, ax = plt.subplots(figsize=(8,5))\n",
    "ax.plot(np.concatenate([t_delay_list, -t_delay_list[-2::-1]]),\n",
    "         np.concatenate([g2HOM_e, g2HOM_e[-2::-1]]), 'r',\n",
    "        label=\"Two exponential\")\n",
    "ax.plot(np.concatenate([t_delay_list, -t_delay_list[-2::-1]]),\n",
    "         np.concatenate([g2HOM_G, g2HOM_G[-2::-1]]), 'b',\n",
    "        label=\"Two Gaussian\")\n",
    "ax.plot(np.concatenate([t_delay_list, -t_delay_list[-2::-1]]),\n",
    "         np.concatenate([g2HOM_Ge, g2HOM_Ge[-2::-1]]), 'purple',\n",
    "        label=\"One exponential &\\n       one Gaussian\")\n",
    "ax.legend(loc=3)\n",
    "ax.set_xlim(-5, 5)\n",
    "ax.axhline(y=0.5, color='k', linestyle='dashed')\n",
    "ax.set_xlabel('Wavepacket delay [$1/\\gamma$]')\n",
    "ax.set_ylabel('$g^{(2)}_{HOM}[0]$')\n",
    "ax.set_title('Two-photon interference visibilities for '+\n",
    "             'delayed wavepackets');"
   ]
  },
  {
   "cell_type": "markdown",
   "metadata": {},
   "source": [
    "## Versions"
   ]
  },
  {
   "cell_type": "code",
   "execution_count": null,
   "metadata": {},
   "outputs": [],
   "source": [
    "from qutip.ipynbtools import version_table\n",
    "\n",
    "version_table()"
   ]
  }
 ],
 "metadata": {
  "kernelspec": {
   "display_name": "Python 3",
   "language": "python",
   "name": "python3"
  },
  "name": "G2(t,tau) Kevin Fischer"
 },
 "nbformat": 4,
 "nbformat_minor": 1
}
