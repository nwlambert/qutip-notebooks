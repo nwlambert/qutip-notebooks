{
 "cells": [
  {
   "cell_type": "markdown",
   "metadata": {},
   "source": [
    "# Steadystate of the Bloch-Redfield Master Equation"
   ]
  },
  {
   "cell_type": "code",
   "execution_count": 1,
   "metadata": {},
   "outputs": [],
   "source": [
    "%matplotlib inline\n",
    "import matplotlib.pyplot as plt"
   ]
  },
  {
   "cell_type": "code",
   "execution_count": 2,
   "metadata": {},
   "outputs": [],
   "source": [
    "import numpy as np\n",
    "from qutip import *\n",
    "from IPython.display import display"
   ]
  },
  {
   "cell_type": "markdown",
   "metadata": {},
   "source": [
    "## Compare steadystate of brmesolve and mesolve"
   ]
  },
  {
   "cell_type": "code",
   "execution_count": 15,
   "metadata": {},
   "outputs": [],
   "source": [
    "def solve(H, psi0, c_ops, a_ops, e_ops):\n",
    "    \n",
    "    result_me = mesolve(H, psi0, times, c_ops, e_ops)\n",
    "    result_brme = brmesolve(H, psi0, times, a_ops, e_ops)\n",
    "    \n",
    "    fig, ax = plot_expectation_values([result_me, result_brme])\n",
    "    display(fig)\n",
    "    plt.close(fig)\n",
    "    \n",
    "    R, ekets = bloch_redfield_tensor(H, a_ops)\n",
    "    print(\"=\"* 20 + \" Bloch-Redfield tensor: \")\n",
    "    display(R)\n",
    "    \n",
    "    \n",
    "    L = liouvillian(H, c_ops)\n",
    "    print(\"=\"* 20 + \" Lindblad liouvilllian: \")\n",
    "    display(L)\n",
    "    \n",
    "    print(\"=\"* 20 + \" Bloch-Redfield steadystate dm\")\n",
    "    R_rhoss_eb = steadystate(R)\n",
    "    R_rhoss = R_rhoss_eb.transform(ekets, True)\n",
    "    display(R_rhoss)\n",
    "    \n",
    "    print(\"=\"* 20 + \" Lindblad steadystate dm\")\n",
    "    L_rhoss = steadystate(L)\n",
    "    display(L_rhoss)\n",
    "\n",
    "    print(\"=\"* 20 + \" Steadystate expectation values\")\n",
    "    print(\"R_ob: \", [expect(e, R_rhoss) for e in e_ops])\n",
    "    print(\"R_eb: \", [expect(e.transform(ekets), R_rhoss_eb) for e in e_ops])\n",
    "    print(\"L   : \", [expect(e, L_rhoss) for e in e_ops])\n",
    "\n",
    "    print(\"=\"* 20 + \" Dynamics final states\")\n",
    "\n",
    "    print(\"R: \", [e[-1].real for e in result_brme.expect])\n",
    "    print(\"L: \", [e[-1] for e in result_me.expect])"
   ]
  },
  {
   "cell_type": "markdown",
   "metadata": {},
   "source": [
    "## Two-level system"
   ]
  },
  {
   "cell_type": "code",
   "execution_count": 16,
   "metadata": {},
   "outputs": [],
   "source": [
    "delta = 0.0 * 2 * np.pi\n",
    "epsilon = 0.5 * 2 * np.pi\n",
    "gamma = 0.25\n",
    "times = np.linspace(0, 50, 100)"
   ]
  },
  {
   "cell_type": "code",
   "execution_count": 17,
   "metadata": {},
   "outputs": [],
   "source": [
    "H = delta/2 * sigmay() + epsilon/2 * sigmaz()\n",
    "psi0 = (2 * basis(2, 0) + basis(2, 1)).unit()\n",
    "c_ops = [np.sqrt(gamma) * sigmam()]\n",
    "a_ops = [[sigmax(),lambda w : gamma * (w >= 0)]]\n",
    "e_ops = [sigmax(), sigmay(), sigmaz()]"
   ]
  },
  {
   "cell_type": "code",
   "execution_count": 18,
   "metadata": {},
   "outputs": [
    {
     "data": {
      "image/png": "[encoded data removed]",
      "text/plain": [
       "<matplotlib.figure.Figure at 0x10856cef0>"
      ]
     },
     "metadata": {},
     "output_type": "display_data"
    },
    {
     "name": "stdout",
     "output_type": "stream",
     "text": [
      "==================== Bloch-Redfield tensor: \n"
     ]
    },
    {
     "data": {
      "text/latex": [
       "Quantum object: dims = [[[2], [2]], [[2], [2]]], shape = (4, 4), type = super, isherm = False\\begin{equation*}\\left(\\begin{array}{*{11}c}0.0 & 0.0 & 0.0 & 0.250\\\\0.0 & (-0.125-3.142j) & 0.0 & 0.0\\\\0.0 & 0.0 & (-0.125+3.142j) & 0.0\\\\0.0 & 0.0 & 0.0 & -0.250\\\\\\end{array}\\right)\\end{equation*}"
      ],
      "text/plain": [
       "Quantum object: dims = [[[2], [2]], [[2], [2]]], shape = (4, 4), type = super, isherm = False\n",
       "Qobj data =\n",
       "[[ 0.000+0.j          0.000+0.j          0.000+0.j          0.250+0.j        ]\n",
       " [ 0.000+0.j         -0.125-3.14159265j  0.000+0.j          0.000+0.j        ]\n",
       " [ 0.000+0.j          0.000+0.j         -0.125+3.14159265j  0.000+0.j        ]\n",
       " [ 0.000+0.j          0.000+0.j          0.000+0.j         -0.250+0.j        ]]"
      ]
     },
     "metadata": {},
     "output_type": "display_data"
    },
    {
     "name": "stdout",
     "output_type": "stream",
     "text": [
      "==================== Lindblad liouvilllian: \n"
     ]
    },
    {
     "data": {
      "text/latex": [
       "Quantum object: dims = [[[2], [2]], [[2], [2]]], shape = (4, 4), type = super, isherm = False\\begin{equation*}\\left(\\begin{array}{*{11}c}-0.250 & 0.0 & 0.0 & 0.0\\\\0.0 & (-0.125+3.142j) & 0.0 & 0.0\\\\0.0 & 0.0 & (-0.125-3.142j) & 0.0\\\\0.250 & 0.0 & 0.0 & 0.0\\\\\\end{array}\\right)\\end{equation*}"
      ],
      "text/plain": [
       "Quantum object: dims = [[[2], [2]], [[2], [2]]], shape = (4, 4), type = super, isherm = False\n",
       "Qobj data =\n",
       "[[-0.250+0.j          0.000+0.j          0.000+0.j          0.000+0.j        ]\n",
       " [ 0.000+0.j         -0.125+3.14159265j  0.000+0.j          0.000+0.j        ]\n",
       " [ 0.000+0.j          0.000+0.j         -0.125-3.14159265j  0.000+0.j        ]\n",
       " [ 0.250+0.j          0.000+0.j          0.000+0.j          0.000+0.j        ]]"
      ]
     },
     "metadata": {},
     "output_type": "display_data"
    },
    {
     "name": "stdout",
     "output_type": "stream",
     "text": [
      "==================== Bloch-Redfield steadystate dm\n"
     ]
    },
    {
     "data": {
      "text/latex": [
       "Quantum object: dims = [[2], [2]], shape = (2, 2), type = oper, isherm = True\\begin{equation*}\\left(\\begin{array}{*{11}c}0.0 & 0.0\\\\0.0 & 1.0\\\\\\end{array}\\right)\\end{equation*}"
      ],
      "text/plain": [
       "Quantum object: dims = [[2], [2]], shape = (2, 2), type = oper, isherm = True\n",
       "Qobj data =\n",
       "[[ 0.  0.]\n",
       " [ 0.  1.]]"
      ]
     },
     "metadata": {},
     "output_type": "display_data"
    },
    {
     "name": "stdout",
     "output_type": "stream",
     "text": [
      "==================== Lindblad steadystate dm\n"
     ]
    },
    {
     "data": {
      "text/latex": [
       "Quantum object: dims = [[2], [2]], shape = (2, 2), type = oper, isherm = True\\begin{equation*}\\left(\\begin{array}{*{11}c}0.0 & 0.0\\\\0.0 & 1.0\\\\\\end{array}\\right)\\end{equation*}"
      ],
      "text/plain": [
       "Quantum object: dims = [[2], [2]], shape = (2, 2), type = oper, isherm = True\n",
       "Qobj data =\n",
       "[[ 0.  0.]\n",
       " [ 0.  1.]]"
      ]
     },
     "metadata": {},
     "output_type": "display_data"
    },
    {
     "name": "stdout",
     "output_type": "stream",
     "text": [
      "==================== Steadystate expectation values\n",
      "R_ob:  [0.0, 0.0, -1.0]\n",
      "R_eb:  [0.0, 0.0, -1.0]\n",
      "L   :  [0.0, 0.0, -1.0]\n",
      "==================== Dynamics final states\n",
      "R:  [0.0015427968283087687, 2.506068854864511e-07, -0.999994037354897]\n",
      "L:  [0.001542796828343541, 2.5060686974779289e-07, -0.99999403735489634]\n"
     ]
    }
   ],
   "source": [
    "solve(H, psi0, c_ops, a_ops, e_ops)"
   ]
  },
  {
   "cell_type": "markdown",
   "metadata": {},
   "source": [
    "## Harmonic oscillator"
   ]
  },
  {
   "cell_type": "code",
   "execution_count": 25,
   "metadata": {},
   "outputs": [],
   "source": [
    "N = 10\n",
    "\n",
    "w0 = 1.0 * 2 * np.pi\n",
    "g = 0.05 * w0\n",
    "kappa = 0.15\n",
    "\n",
    "times = np.linspace(0, 50, 1000)"
   ]
  },
  {
   "cell_type": "code",
   "execution_count": 26,
   "metadata": {},
   "outputs": [],
   "source": [
    "a = destroy(N)\n",
    "H = w0 * a.dag() * a + g * (a + a.dag())\n",
    "psi0 = ket2dm((basis(N, 4) + basis(N, 2) + basis(N,0)).unit())\n",
    "a_ops = [[a + a.dag(),lambda w : kappa * (w >= 0)]]\n",
    "e_ops = [a.dag() * a, a + a.dag()]"
   ]
  },
  {
   "cell_type": "markdown",
   "metadata": {},
   "source": [
    "### Zero temperature"
   ]
  },
  {
   "cell_type": "code",
   "execution_count": 27,
   "metadata": {},
   "outputs": [],
   "source": [
    "c_ops = [np.sqrt(kappa) * a]"
   ]
  },
  {
   "cell_type": "code",
   "execution_count": 28,
   "metadata": {},
   "outputs": [
    {
     "data": {
      "image/png": "[encoded data removed]",
      "text/plain": [
       "<matplotlib.figure.Figure at 0x110cdacf8>"
      ]
     },
     "metadata": {},
     "output_type": "display_data"
    },
    {
     "name": "stdout",
     "output_type": "stream",
     "text": [
      "==================== Bloch-Redfield tensor: \n"
     ]
    },
    {
     "data": {
      "text/latex": [
       "Quantum object: dims = [[[10], [10]], [[10], [10]]], shape = (100, 100), type = super, isherm = False\\begin{equation*}\\left(\\begin{array}{*{11}c}0.0 & 0.0 & 0.0 & 0.0 & 0.0 & \\cdots & 0.0 & 0.0 & 0.0 & 0.0 & 1.926\\times10^{-25}\\\\0.0 & (-0.075-6.283j) & 0.0 & 0.0 & 0.0 & \\cdots & 0.0 & 0.0 & 0.0 & 0.0 & 0.0\\\\0.0 & 0.0 & (-0.150-12.566j) & 0.0 & 0.0 & \\cdots & 0.0 & 0.0 & 0.0 & 0.0 & 0.0\\\\0.0 & 0.0 & 0.0 & (-0.225-18.850j) & 0.0 & \\cdots & 0.0 & 0.0 & 0.0 & 0.0 & 0.0\\\\0.0 & 0.0 & 0.0 & 0.0 & (-0.300-25.133j) & \\cdots & 0.0 & 0.0 & 0.0 & 0.0 & 0.0\\\\\\vdots & \\vdots & \\vdots & \\vdots & \\vdots & \\ddots & \\vdots & \\vdots & \\vdots & \\vdots & \\vdots\\\\0.0 & 0.0 & 0.0 & 0.0 & 0.0 & \\cdots & (-1.090+25.288j) & 0.0 & 0.0 & 0.0 & 0.0\\\\0.0 & 0.0 & 0.0 & 0.0 & 0.0 & \\cdots & 0.0 & (-1.165+19.005j) & 0.0 & 0.0 & 0.0\\\\0.0 & 0.0 & 0.0 & 0.0 & 0.0 & \\cdots & 0.0 & 0.0 & (-1.240+12.722j) & 0.0 & 0.0\\\\0.0 & 0.0 & 0.0 & 0.0 & 0.0 & \\cdots & 0.0 & 0.0 & 0.0 & (-1.312+6.437j) & 0.0\\\\0.0 & 0.0 & 0.0 & 0.0 & 0.0 & \\cdots & 0.0 & 0.0 & 0.0 & 0.0 & -1.286\\\\\\end{array}\\right)\\end{equation*}"
      ],
      "text/plain": [
       "Quantum object: dims = [[[10], [10]], [[10], [10]]], shape = (100, 100), type = super, isherm = False\n",
       "Qobj data =\n",
       "[[  0.00000000e+00 +0.j           0.00000000e+00 +0.j           0.00000000e+00 +0.j\n",
       "  ...,   0.00000000e+00 +0.j           0.00000000e+00 +0.j\n",
       "    1.92616723e-25 +0.j        ]\n",
       " [  0.00000000e+00 +0.j          -7.50000000e-02 -6.28318531j\n",
       "    0.00000000e+00 +0.j         ...,   0.00000000e+00 +0.j\n",
       "    0.00000000e+00 +0.j           0.00000000e+00 +0.j        ]\n",
       " [  0.00000000e+00 +0.j           0.00000000e+00 +0.j\n",
       "   -1.50000000e-01-12.56637061j ...,   0.00000000e+00 +0.j\n",
       "    0.00000000e+00 +0.j           0.00000000e+00 +0.j        ]\n",
       " ..., \n",
       " [  0.00000000e+00 +0.j           0.00000000e+00 +0.j           0.00000000e+00 +0.j\n",
       "  ...,  -1.23986225e+00+12.72172562j   0.00000000e+00 +0.j\n",
       "    0.00000000e+00 +0.j        ]\n",
       " [  0.00000000e+00 +0.j           0.00000000e+00 +0.j           0.00000000e+00 +0.j\n",
       "  ...,   0.00000000e+00 +0.j          -1.31151418e+00 +6.43683307j\n",
       "    0.00000000e+00 +0.j        ]\n",
       " [  0.00000000e+00 +0.j           0.00000000e+00 +0.j           0.00000000e+00 +0.j\n",
       "  ...,   0.00000000e+00 +0.j           0.00000000e+00 +0.j\n",
       "   -1.28616458e+00 +0.j        ]]"
      ]
     },
     "metadata": {},
     "output_type": "display_data"
    },
    {
     "name": "stdout",
     "output_type": "stream",
     "text": [
      "==================== Lindblad liouvilllian: \n"
     ]
    },
    {
     "data": {
      "text/latex": [
       "Quantum object: dims = [[[10], [10]], [[10], [10]]], shape = (100, 100), type = super, isherm = False\\begin{equation*}\\left(\\begin{array}{*{11}c}0.0 & -0.314j & 0.0 & 0.0 & 0.0 & \\cdots & 0.0 & 0.0 & 0.0 & 0.0 & 0.0\\\\-0.314j & (-0.075-6.283j) & -0.444j & 0.0 & 0.0 & \\cdots & 0.0 & 0.0 & 0.0 & 0.0 & 0.0\\\\0.0 & -0.444j & (-0.150-12.566j) & -0.544j & 0.0 & \\cdots & 0.0 & 0.0 & 0.0 & 0.0 & 0.0\\\\0.0 & 0.0 & -0.544j & (-0.225-18.850j) & -0.628j & \\cdots & 0.0 & 0.0 & 0.0 & 0.0 & 0.0\\\\0.0 & 0.0 & 0.0 & -0.628j & (-0.300-25.133j) & \\cdots & 0.0 & 0.0 & 0.0 & 0.0 & 0.0\\\\\\vdots & \\vdots & \\vdots & \\vdots & \\vdots & \\ddots & \\vdots & \\vdots & \\vdots & \\vdots & \\vdots\\\\0.0 & 0.0 & 0.0 & 0.0 & 0.0 & \\cdots & (-1.050+25.133j) & -0.770j & 0.0 & 0.0 & 0.0\\\\0.0 & 0.0 & 0.0 & 0.0 & 0.0 & \\cdots & -0.770j & (-1.125+18.850j) & -0.831j & 0.0 & 0.0\\\\0.0 & 0.0 & 0.0 & 0.0 & 0.0 & \\cdots & 0.0 & -0.831j & (-1.200+12.566j) & -0.889j & 0.0\\\\0.0 & 0.0 & 0.0 & 0.0 & 0.0 & \\cdots & 0.0 & 0.0 & -0.889j & (-1.275+6.283j) & -0.942j\\\\0.0 & 0.0 & 0.0 & 0.0 & 0.0 & \\cdots & 0.0 & 0.0 & 0.0 & -0.942j & -1.350\\\\\\end{array}\\right)\\end{equation*}"
      ],
      "text/plain": [
       "Quantum object: dims = [[[10], [10]], [[10], [10]]], shape = (100, 100), type = super, isherm = False\n",
       "Qobj data =\n",
       "[[ 0.000 +0.j          0.000 -0.31415927j  0.000 +0.j         ...,\n",
       "   0.000 +0.j          0.000 +0.j          0.000 +0.j        ]\n",
       " [ 0.000 -0.31415927j -0.075 -6.28318531j  0.000 -0.44428829j ...,\n",
       "   0.000 +0.j          0.000 +0.j          0.000 +0.j        ]\n",
       " [ 0.000 +0.j          0.000 -0.44428829j -0.150-12.56637061j ...,\n",
       "   0.000 +0.j          0.000 +0.j          0.000 +0.j        ]\n",
       " ..., \n",
       " [ 0.000 +0.j          0.000 +0.j          0.000 +0.j         ...,\n",
       "  -1.200+12.56637061j  0.000 -0.88857659j  0.000 +0.j        ]\n",
       " [ 0.000 +0.j          0.000 +0.j          0.000 +0.j         ...,\n",
       "   0.000 -0.88857659j -1.275 +6.28318531j  0.000 -0.9424778j ]\n",
       " [ 0.000 +0.j          0.000 +0.j          0.000 +0.j         ...,\n",
       "   0.000 +0.j          0.000 -0.9424778j  -1.350 +0.j        ]]"
      ]
     },
     "metadata": {},
     "output_type": "display_data"
    },
    {
     "name": "stdout",
     "output_type": "stream",
     "text": [
      "==================== Bloch-Redfield steadystate dm\n"
     ]
    },
    {
     "data": {
      "text/latex": [
       "Quantum object: dims = [[10], [10]], shape = (10, 10), type = oper, isherm = True\\begin{equation*}\\left(\\begin{array}{*{11}c}0.998 & -0.050 & 0.002 & -5.090\\times10^{-05} & 1.273\\times10^{-06} & -2.846\\times10^{-08} & 5.809\\times10^{-10} & -1.098\\times10^{-11} & 0.0 & 0.0\\\\-0.050 & 0.002 & -8.817\\times10^{-05} & 2.545\\times10^{-06} & -6.363\\times10^{-08} & 1.423\\times10^{-09} & -2.904\\times10^{-11} & 0.0 & 0.0 & 0.0\\\\0.002 & -8.817\\times10^{-05} & 3.117\\times10^{-06} & -8.999\\times10^{-08} & 2.250\\times10^{-09} & -5.030\\times10^{-11} & 1.027\\times10^{-12} & 0.0 & 0.0 & 0.0\\\\-5.090\\times10^{-05} & 2.545\\times10^{-06} & -8.999\\times10^{-08} & 2.598\\times10^{-09} & -6.494\\times10^{-11} & 1.452\\times10^{-12} & 0.0 & 0.0 & 0.0 & 0.0\\\\1.273\\times10^{-06} & -6.363\\times10^{-08} & 2.250\\times10^{-09} & -6.494\\times10^{-11} & 1.624\\times10^{-12} & 0.0 & 0.0 & 0.0 & 0.0 & 0.0\\\\-2.846\\times10^{-08} & 1.423\\times10^{-09} & -5.030\\times10^{-11} & 1.452\\times10^{-12} & 0.0 & 0.0 & 0.0 & 0.0 & 0.0 & 0.0\\\\5.809\\times10^{-10} & -2.904\\times10^{-11} & 1.027\\times10^{-12} & 0.0 & 0.0 & 0.0 & 0.0 & 0.0 & 0.0 & 0.0\\\\-1.098\\times10^{-11} & 0.0 & 0.0 & 0.0 & 0.0 & 0.0 & 0.0 & 0.0 & 0.0 & 0.0\\\\0.0 & 0.0 & 0.0 & 0.0 & 0.0 & 0.0 & 0.0 & 0.0 & 0.0 & 0.0\\\\0.0 & 0.0 & 0.0 & 0.0 & 0.0 & 0.0 & 0.0 & 0.0 & 0.0 & 0.0\\\\\\end{array}\\right)\\end{equation*}"
      ],
      "text/plain": [
       "Quantum object: dims = [[10], [10]], shape = (10, 10), type = oper, isherm = True\n",
       "Qobj data =\n",
       "[[  9.97503122e-01  -4.98751561e-02   1.76335306e-03  -5.09036181e-05\n",
       "    1.27259045e-06  -2.84559877e-08   5.80853629e-10  -1.09769055e-11\n",
       "    0.00000000e+00   0.00000000e+00]\n",
       " [ -4.98751561e-02   2.49375781e-03  -8.81676528e-05   2.54518090e-06\n",
       "   -6.36295226e-08   1.42279939e-09  -2.90426815e-11   0.00000000e+00\n",
       "    0.00000000e+00   0.00000000e+00]\n",
       " [  1.76335306e-03  -8.81676528e-05   3.11719726e-06  -8.99857338e-08\n",
       "    2.24964334e-09  -5.03035547e-11   1.02681385e-12   0.00000000e+00\n",
       "    0.00000000e+00   0.00000000e+00]\n",
       " [ -5.09036181e-05   2.54518090e-06  -8.99857338e-08   2.59766438e-09\n",
       "   -6.49416095e-11   1.45213854e-12   0.00000000e+00   0.00000000e+00\n",
       "    0.00000000e+00   0.00000000e+00]\n",
       " [  1.27259045e-06  -6.36295226e-08   2.24964334e-09  -6.49416095e-11\n",
       "    1.62354024e-12   0.00000000e+00   0.00000000e+00   0.00000000e+00\n",
       "    0.00000000e+00   0.00000000e+00]\n",
       " [ -2.84559877e-08   1.42279939e-09  -5.03035547e-11   1.45213854e-12\n",
       "    0.00000000e+00   0.00000000e+00   0.00000000e+00   0.00000000e+00\n",
       "    0.00000000e+00   0.00000000e+00]\n",
       " [  5.80853629e-10  -2.90426815e-11   1.02681385e-12   0.00000000e+00\n",
       "    0.00000000e+00   0.00000000e+00   0.00000000e+00   0.00000000e+00\n",
       "    0.00000000e+00   0.00000000e+00]\n",
       " [ -1.09769055e-11   0.00000000e+00   0.00000000e+00   0.00000000e+00\n",
       "    0.00000000e+00   0.00000000e+00   0.00000000e+00   0.00000000e+00\n",
       "    0.00000000e+00   0.00000000e+00]\n",
       " [  0.00000000e+00   0.00000000e+00   0.00000000e+00   0.00000000e+00\n",
       "    0.00000000e+00   0.00000000e+00   0.00000000e+00   0.00000000e+00\n",
       "    0.00000000e+00   0.00000000e+00]\n",
       " [  0.00000000e+00   0.00000000e+00   0.00000000e+00   0.00000000e+00\n",
       "    0.00000000e+00   0.00000000e+00   0.00000000e+00   0.00000000e+00\n",
       "    0.00000000e+00   0.00000000e+00]]"
      ]
     },
     "metadata": {},
     "output_type": "display_data"
    },
    {
     "name": "stdout",
     "output_type": "stream",
     "text": [
      "==================== Lindblad steadystate dm\n"
     ]
    },
    {
     "data": {
      "text/latex": [
       "Quantum object: dims = [[10], [10]], shape = (10, 10), type = oper, isherm = True\\begin{equation*}\\left(\\begin{array}{*{11}c}0.998 & (-0.050+5.953\\times10^{-04}j) & (0.002-4.208\\times10^{-05}j) & (-5.086\\times10^{-05}+1.822\\times10^{-06}j) & (1.271\\times10^{-06}-6.072\\times10^{-08}j) & (-2.840\\times10^{-08}+1.697\\times10^{-09}j) & (5.791\\times10^{-10}-4.155\\times10^{-11}j) & -1.093\\times10^{-11} & 1.931\\times10^{-13} & -3.213\\times10^{-15}\\\\(-0.050-5.953\\times10^{-04}j) & 0.002 & (-8.814\\times10^{-05}+1.052\\times10^{-06}j) & (2.544\\times10^{-06}-6.074\\times10^{-08}j) & (-6.357\\times10^{-08}+2.277\\times10^{-09}j) & (1.421\\times10^{-09}-6.788\\times10^{-11}j) & (-2.898\\times10^{-11}+1.731\\times10^{-12}j) & 5.471\\times10^{-13} & -9.662\\times10^{-15} & 1.608\\times10^{-16}\\\\(0.002+4.208\\times10^{-05}j) & (-8.814\\times10^{-05}-1.052\\times10^{-06}j) & 3.116\\times10^{-06} & (-8.995\\times10^{-08}+1.074\\times10^{-09}j) & (2.248\\times10^{-09}-5.368\\times10^{-11}j) & (-5.025\\times10^{-11}+1.800\\times10^{-12}j) & 1.025\\times10^{-12} & -1.936\\times10^{-14} & 3.419\\times10^{-16} & -5.691\\times10^{-18}\\\\(-5.086\\times10^{-05}-1.822\\times10^{-06}j) & (2.544\\times10^{-06}+6.074\\times10^{-08}j) & (-8.995\\times10^{-08}-1.074\\times10^{-09}j) & 2.597\\times10^{-09} & -6.490\\times10^{-11} & 1.451\\times10^{-12} & -2.960\\times10^{-14} & 5.591\\times10^{-16} & -9.877\\times10^{-18} & 1.644\\times10^{-19}\\\\(1.271\\times10^{-06}+6.072\\times10^{-08}j) & (-6.357\\times10^{-08}-2.277\\times10^{-09}j) & (2.248\\times10^{-09}+5.368\\times10^{-11}j) & -6.490\\times10^{-11} & 1.623\\times10^{-12} & -3.628\\times10^{-14} & 7.403\\times10^{-16} & -1.398\\times10^{-17} & 2.471\\times10^{-19} & -4.114\\times10^{-21}\\\\(-2.840\\times10^{-08}-1.697\\times10^{-09}j) & (1.421\\times10^{-09}+6.788\\times10^{-11}j) & (-5.025\\times10^{-11}-1.800\\times10^{-12}j) & 1.451\\times10^{-12} & -3.628\\times10^{-14} & 8.112\\times10^{-16} & -1.655\\times10^{-17} & 3.127\\times10^{-19} & -5.524\\times10^{-21} & 9.192\\times10^{-23}\\\\(5.791\\times10^{-10}+4.155\\times10^{-11}j) & (-2.898\\times10^{-11}-1.731\\times10^{-12}j) & 1.025\\times10^{-12} & -2.960\\times10^{-14} & 7.403\\times10^{-16} & -1.655\\times10^{-17} & 3.378\\times10^{-19} & -6.370\\times10^{-21} & 1.120\\times10^{-22} & -1.841\\times10^{-24}\\\\-1.093\\times10^{-11} & 5.471\\times10^{-13} & -1.936\\times10^{-14} & 5.591\\times10^{-16} & -1.398\\times10^{-17} & 3.127\\times10^{-19} & -6.370\\times10^{-21} & 1.188\\times10^{-22} & -1.992\\times10^{-24} & 2.766\\times10^{-26}\\\\1.931\\times10^{-13} & -9.662\\times10^{-15} & 3.419\\times10^{-16} & -9.877\\times10^{-18} & 2.471\\times10^{-19} & -5.524\\times10^{-21} & 1.120\\times10^{-22} & -1.992\\times10^{-24} & 2.369\\times10^{-26} & 3.484\\times10^{-28}\\\\-3.213\\times10^{-15} & 1.608\\times10^{-16} & -5.691\\times10^{-18} & 1.644\\times10^{-19} & -4.114\\times10^{-21} & 9.192\\times10^{-23} & -1.841\\times10^{-24} & 2.766\\times10^{-26} & 3.484\\times10^{-28} & -8.010\\times10^{-29}\\\\\\end{array}\\right)\\end{equation*}"
      ],
      "text/plain": [
       "Quantum object: dims = [[10], [10]], shape = (10, 10), type = oper, isherm = True\n",
       "Qobj data =\n",
       "[[  9.97503478e-01 +0.00000000e+00j  -4.98680685e-02 +5.95256221e-04j\n",
       "    1.76260012e-03 -4.20849746e-05j  -5.08601343e-05 +1.82198671e-06j\n",
       "    1.27077858e-06 -6.07184696e-08j  -2.83952207e-08 +1.69664924e-09j\n",
       "    5.79119104e-10 -4.15454326e-11j  -1.09333927e-11 +9.15642639e-13j\n",
       "    1.93056167e-13 -1.84908648e-14j  -3.21257403e-15 +3.46442788e-16j]\n",
       " [ -4.98680685e-02 -5.95256221e-04j   2.49340343e-03 +0.00000000e+00j\n",
       "   -8.81425648e-05 +1.05212437e-06j   2.54373169e-06 -6.07357748e-08j\n",
       "   -6.35661108e-08 +2.27715893e-09j   1.42057124e-09 -6.78756417e-11j\n",
       "   -2.89766221e-11 +1.73138868e-12j   5.47138159e-13 -3.92511512e-14j\n",
       "   -9.66246754e-15 +8.09206030e-16j   1.60812556e-16 -1.54025809e-17j]\n",
       " [  1.76260012e-03 +4.20849746e-05j  -8.81425648e-05 -1.05212437e-06j\n",
       "    3.11631026e-06 +0.00000000e+00j  -8.99473125e-08 +1.07366696e-09j\n",
       "    2.24804211e-09 -5.36757000e-11j  -5.02462638e-11 +1.79999574e-12j\n",
       "    1.02506293e-12 -4.89780467e-14j  -1.93580619e-14 +1.15666793e-15j\n",
       "    3.41912604e-16 -2.45284728e-17j  -5.69127181e-18 +4.76628925e-19j]\n",
       " [ -5.08601343e-05 -1.82198671e-06j   2.54373169e-06 +6.07357748e-08j\n",
       "   -8.99473125e-08 -1.07366696e-09j   2.59655517e-09 +0.00000000e+00j\n",
       "   -6.49046278e-11 +7.74741527e-13j   1.45089791e-12 -3.46425398e-14j\n",
       "   -2.96036648e-14 +1.06050451e-15j   5.59137614e-16 -2.67158291e-17j\n",
       "   -9.87720035e-18 +5.90172958e-19j   1.64433401e-19 -1.17962398e-20j]\n",
       " [  1.27077858e-06 +6.07184696e-08j  -6.35661108e-08 -2.27715893e-09j\n",
       "    2.24804211e-09 +5.36757000e-11j  -6.49046278e-11 -7.74741527e-13j\n",
       "    1.62261480e-12 +0.00000000e+00j  -3.62775547e-14 +4.33031052e-16j\n",
       "    7.40299332e-16 -1.76757755e-17j  -1.39842885e-17 +5.00960288e-19j\n",
       "    2.47066572e-19 -1.18047401e-20j  -4.11364573e-21 +2.45787665e-22j]\n",
       " [ -2.83952207e-08 -1.69664924e-09j   1.42057124e-09 +6.78756417e-11j\n",
       "   -5.02462638e-11 -1.79999574e-12j   1.45089791e-12 +3.46425398e-14j\n",
       "   -3.62775547e-14 -4.33031052e-16j   8.11177618e-16 +0.00000000e+00j\n",
       "   -1.65547224e-17 +1.97509629e-19j   3.12713175e-19 -7.45602586e-21j\n",
       "   -5.52363764e-21 +1.97260939e-22j   9.19177499e-23 -4.36560125e-24j]\n",
       " [  5.79119104e-10 +4.15454326e-11j  -2.89766221e-11 -1.73138868e-12j\n",
       "    1.02506293e-12 +4.89780467e-14j  -2.96036648e-14 -1.06050451e-15j\n",
       "    7.40299332e-16 +1.76757755e-17j  -1.65547224e-17 -1.97509629e-19j\n",
       "    3.37754589e-19 +0.00000000e+00j  -6.37014963e-21 +7.50583351e-23j\n",
       "    1.11975592e-22 -2.58487182e-24j  -1.84139730e-24 +6.09271373e-26j]\n",
       " [ -1.09333927e-11 -9.15642639e-13j   5.47138159e-13 +3.92511512e-14j\n",
       "   -1.93580619e-14 -1.15666793e-15j   5.59137614e-16 +2.67158291e-17j\n",
       "   -1.39842885e-17 -5.00960288e-19j   3.12713175e-19 +7.45602586e-21j\n",
       "   -6.37014963e-21 -7.50583351e-23j   1.18833398e-22 +0.00000000e+00j\n",
       "   -1.99215302e-24 +1.59960502e-26j   2.76568124e-26 +1.85158933e-28j]\n",
       " [  1.93056167e-13 +1.84908648e-14j  -9.66246754e-15 -8.09206030e-16j\n",
       "    3.41912604e-16 +2.45284728e-17j  -9.87720035e-18 -5.90172958e-19j\n",
       "    2.47066572e-19 +1.18047401e-20j  -5.52363764e-21 -1.97260939e-22j\n",
       "    1.11975592e-22 +2.58487182e-24j  -1.99215302e-24 -1.59960502e-26j\n",
       "    2.36895262e-26 +0.00000000e+00j   3.48404384e-28 -5.73702069e-29j]\n",
       " [ -3.21257403e-15 -3.46442788e-16j   1.60812556e-16 +1.54025809e-17j\n",
       "   -5.69127181e-18 -4.76628925e-19j   1.64433401e-19 +1.17962398e-20j\n",
       "   -4.11364573e-21 -2.45787665e-22j   9.19177499e-23 +4.36560125e-24j\n",
       "   -1.84139730e-24 -6.09271373e-26j   2.76568124e-26 -1.85158933e-28j\n",
       "    3.48404384e-28 +5.73702069e-29j  -8.01039202e-29 +0.00000000e+00j]]"
      ]
     },
     "metadata": {},
     "output_type": "display_data"
    },
    {
     "name": "stdout",
     "output_type": "stream",
     "text": [
      "==================== Steadystate expectation values\n",
      "R_ob:  [0.0024999999999958857, -0.09999999999983651]\n",
      "R_eb:  [0.0024999999999999467, -0.09999999999999895]\n",
      "L   :  [0.0024996438434595246, -0.09998575373839921]\n",
      "==================== Dynamics final states\n",
      "R:  [0.0034899627568894909, -0.097648226112852135]\n",
      "L:  [0.0034896231351718215, -0.097634314487055257]\n"
     ]
    }
   ],
   "source": [
    "solve(H, psi0, c_ops, a_ops, e_ops)"
   ]
  },
  {
   "cell_type": "markdown",
   "metadata": {},
   "source": [
    "### Finite temperature"
   ]
  },
  {
   "cell_type": "code",
   "execution_count": 29,
   "metadata": {},
   "outputs": [],
   "source": [
    "n_th = 1.5\n",
    "c_ops = [np.sqrt(kappa * (n_th + 1)) * a, np.sqrt(kappa * n_th) * a.dag()]\n",
    "w_th = w0/np.log(1 + 1/n_th)\n",
    "\n",
    "def S_w_func(w):\n",
    "    if w >= 0:\n",
    "        return (n_th + 1) * kappa\n",
    "    else:\n",
    "        return (n_th + 1) * kappa * np.exp(w / w_th)\n",
    "    \n",
    "a_ops = [[a + a.dag(), S_w_func]]"
   ]
  },
  {
   "cell_type": "code",
   "execution_count": 30,
   "metadata": {},
   "outputs": [
    {
     "data": {
      "image/png": "[encoded data removed]",
      "text/plain": [
       "<matplotlib.figure.Figure at 0x107cc5860>"
      ]
     },
     "metadata": {},
     "output_type": "display_data"
    },
    {
     "name": "stdout",
     "output_type": "stream",
     "text": [
      "==================== Bloch-Redfield tensor: \n"
     ]
    },
    {
     "data": {
      "text/latex": [
       "Quantum object: dims = [[[10], [10]], [[10], [10]]], shape = (100, 100), type = super, isherm = False\\begin{equation*}\\left(\\begin{array}{*{11}c}-0.225 & 0.0 & 0.0 & 0.0 & 0.0 & \\cdots & 0.0 & 0.0 & 0.0 & 0.0 & 4.815\\times10^{-25}\\\\0.0 & (-0.525-6.283j) & 0.0 & 0.0 & 0.0 & \\cdots & 0.0 & 0.0 & 0.0 & 0.0 & 0.0\\\\0.0 & 0.0 & (-0.825-12.566j) & 0.0 & 0.0 & \\cdots & 0.0 & 0.0 & 0.0 & 0.0 & 0.0\\\\0.0 & 0.0 & 0.0 & (-1.125-18.850j) & 0.0 & \\cdots & 0.0 & 0.0 & 0.0 & 0.0 & 0.0\\\\0.0 & 0.0 & 0.0 & 0.0 & (-1.425-25.133j) & \\cdots & 0.0 & 0.0 & 0.0 & 0.0 & 0.0\\\\\\vdots & \\vdots & \\vdots & \\vdots & \\vdots & \\ddots & \\vdots & \\vdots & \\vdots & \\vdots & \\vdots\\\\0.0 & 0.0 & 0.0 & 0.0 & 0.0 & \\cdots & (-3.400+25.288j) & 0.0 & 0.0 & 0.0 & 0.0\\\\0.0 & 0.0 & 0.0 & 0.0 & 0.0 & \\cdots & 0.0 & (-3.700+19.005j) & 0.0 & 0.0 & 0.0\\\\0.0 & 0.0 & 0.0 & 0.0 & 0.0 & \\cdots & 0.0 & 0.0 & (-3.999+12.722j) & 0.0 & 0.0\\\\0.0 & 0.0 & 0.0 & 0.0 & 0.0 & \\cdots & 0.0 & 0.0 & 0.0 & (-4.231+6.437j) & 0.0\\\\4.792\\times10^{-27} & 0.0 & 0.0 & 0.0 & 0.0 & \\cdots & 0.0 & 0.0 & 0.0 & 0.0 & -3.215\\\\\\end{array}\\right)\\end{equation*}"
      ],
      "text/plain": [
       "Quantum object: dims = [[[10], [10]], [[10], [10]]], shape = (100, 100), type = super, isherm = False\n",
       "Qobj data =\n",
       "[[ -2.25000000e-01 +0.j           0.00000000e+00 +0.j           0.00000000e+00 +0.j\n",
       "  ...,   0.00000000e+00 +0.j           0.00000000e+00 +0.j\n",
       "    4.81541807e-25 +0.j        ]\n",
       " [  0.00000000e+00 +0.j          -5.25000000e-01 -6.28318531j\n",
       "    0.00000000e+00 +0.j         ...,   0.00000000e+00 +0.j\n",
       "    0.00000000e+00 +0.j           0.00000000e+00 +0.j        ]\n",
       " [  0.00000000e+00 +0.j           0.00000000e+00 +0.j\n",
       "   -8.25000000e-01-12.56637061j ...,   0.00000000e+00 +0.j\n",
       "    0.00000000e+00 +0.j           0.00000000e+00 +0.j        ]\n",
       " ..., \n",
       " [  0.00000000e+00 +0.j           0.00000000e+00 +0.j           0.00000000e+00 +0.j\n",
       "  ...,  -3.99916053e+00+12.72172562j   0.00000000e+00 +0.j\n",
       "    0.00000000e+00 +0.j        ]\n",
       " [  0.00000000e+00 +0.j           0.00000000e+00 +0.j           0.00000000e+00 +0.j\n",
       "  ...,   0.00000000e+00 +0.j          -4.23143288e+00 +6.43683307j\n",
       "    0.00000000e+00 +0.j        ]\n",
       " [  4.79192180e-27 +0.j           0.00000000e+00 +0.j           0.00000000e+00 +0.j\n",
       "  ...,   0.00000000e+00 +0.j           0.00000000e+00 +0.j\n",
       "   -3.21541145e+00 +0.j        ]]"
      ]
     },
     "metadata": {},
     "output_type": "display_data"
    },
    {
     "name": "stdout",
     "output_type": "stream",
     "text": [
      "==================== Lindblad liouvilllian: \n"
     ]
    },
    {
     "data": {
      "text/latex": [
       "Quantum object: dims = [[[10], [10]], [[10], [10]]], shape = (100, 100), type = super, isherm = False\\begin{equation*}\\left(\\begin{array}{*{11}c}-0.225 & -0.314j & 0.0 & 0.0 & 0.0 & \\cdots & 0.0 & 0.0 & 0.0 & 0.0 & 0.0\\\\-0.314j & (-0.525-6.283j) & -0.444j & 0.0 & 0.0 & \\cdots & 0.0 & 0.0 & 0.0 & 0.0 & 0.0\\\\0.0 & -0.444j & (-0.825-12.566j) & -0.544j & 0.0 & \\cdots & 0.0 & 0.0 & 0.0 & 0.0 & 0.0\\\\0.0 & 0.0 & -0.544j & (-1.125-18.850j) & -0.628j & \\cdots & 0.0 & 0.0 & 0.0 & 0.0 & 0.0\\\\0.0 & 0.0 & 0.0 & -0.628j & (-1.425-25.133j) & \\cdots & 0.0 & 0.0 & 0.0 & 0.0 & 0.0\\\\\\vdots & \\vdots & \\vdots & \\vdots & \\vdots & \\ddots & \\vdots & \\vdots & \\vdots & \\vdots & \\vdots\\\\0.0 & 0.0 & 0.0 & 0.0 & 0.0 & \\cdots & (-3.300+25.133j) & -0.770j & 0.0 & 0.0 & 0.0\\\\0.0 & 0.0 & 0.0 & 0.0 & 0.0 & \\cdots & -0.770j & (-3.600+18.850j) & -0.831j & 0.0 & 0.0\\\\0.0 & 0.0 & 0.0 & 0.0 & 0.0 & \\cdots & 0.0 & -0.831j & (-3.900+12.566j) & -0.889j & 0.0\\\\0.0 & 0.0 & 0.0 & 0.0 & 0.0 & \\cdots & 0.0 & 0.0 & -0.889j & (-4.200+6.283j) & -0.942j\\\\0.0 & 0.0 & 0.0 & 0.0 & 0.0 & \\cdots & 0.0 & 0.0 & 0.0 & -0.942j & -3.375\\\\\\end{array}\\right)\\end{equation*}"
      ],
      "text/plain": [
       "Quantum object: dims = [[[10], [10]], [[10], [10]]], shape = (100, 100), type = super, isherm = False\n",
       "Qobj data =\n",
       "[[-0.225 +0.j          0.000 -0.31415927j  0.000 +0.j         ...,\n",
       "   0.000 +0.j          0.000 +0.j          0.000 +0.j        ]\n",
       " [ 0.000 -0.31415927j -0.525 -6.28318531j  0.000 -0.44428829j ...,\n",
       "   0.000 +0.j          0.000 +0.j          0.000 +0.j        ]\n",
       " [ 0.000 +0.j          0.000 -0.44428829j -0.825-12.56637061j ...,\n",
       "   0.000 +0.j          0.000 +0.j          0.000 +0.j        ]\n",
       " ..., \n",
       " [ 0.000 +0.j          0.000 +0.j          0.000 +0.j         ...,\n",
       "  -3.900+12.56637061j  0.000 -0.88857659j  0.000 +0.j        ]\n",
       " [ 0.000 +0.j          0.000 +0.j          0.000 +0.j         ...,\n",
       "   0.000 -0.88857659j -4.200 +6.28318531j  0.000 -0.9424778j ]\n",
       " [ 0.000 +0.j          0.000 +0.j          0.000 +0.j         ...,\n",
       "   0.000 +0.j          0.000 -0.9424778j  -3.375 +0.j        ]]"
      ]
     },
     "metadata": {},
     "output_type": "display_data"
    },
    {
     "name": "stdout",
     "output_type": "stream",
     "text": [
      "==================== Bloch-Redfield steadystate dm\n"
     ]
    },
    {
     "data": {
      "text/latex": [
       "Quantum object: dims = [[10], [10]], shape = (10, 10), type = oper, isherm = True\\begin{equation*}\\left(\\begin{array}{*{11}c}0.402 & -0.008 & 1.137\\times10^{-04} & -1.313\\times10^{-06} & 1.313\\times10^{-08} & -1.174\\times10^{-10} & 0.0 & 0.0 & 0.0 & 0.0\\\\-0.008 & 0.241 & -0.007 & 1.182\\times10^{-04} & -1.576\\times10^{-06} & 1.762\\times10^{-08} & -1.726\\times10^{-10} & 1.521\\times10^{-12} & 0.0 & 0.0\\\\1.137\\times10^{-04} & -0.007 & 0.145 & -0.005 & 1.003\\times10^{-04} & -1.495\\times10^{-06} & 1.831\\times10^{-08} & -1.938\\times10^{-10} & 1.827\\times10^{-12} & 0.0\\\\-1.313\\times10^{-06} & 1.182\\times10^{-04} & -0.005 & 0.087 & -0.003 & 7.773\\times10^{-05} & -1.269\\times10^{-06} & 1.679\\times10^{-08} & -1.899\\times10^{-10} & 1.899\\times10^{-12}\\\\1.313\\times10^{-08} & -1.576\\times10^{-06} & 1.003\\times10^{-04} & -0.003 & 0.052 & -0.002 & 5.713\\times10^{-05} & -1.007\\times10^{-06} & 1.425\\times10^{-08} & -1.709\\times10^{-10}\\\\-1.174\\times10^{-10} & 1.762\\times10^{-08} & -1.495\\times10^{-06} & 7.773\\times10^{-05} & -0.002 & 0.031 & -0.002 & 4.057\\times10^{-05} & -7.647\\times10^{-07} & 1.147\\times10^{-08}\\\\0.0 & -1.726\\times10^{-10} & 1.831\\times10^{-08} & -1.269\\times10^{-06} & 5.713\\times10^{-05} & -0.002 & 0.019 & -9.946\\times10^{-04} & 2.811\\times10^{-05} & -5.619\\times10^{-07}\\\\0.0 & 1.521\\times10^{-12} & -1.938\\times10^{-10} & 1.679\\times10^{-08} & -1.007\\times10^{-06} & 4.057\\times10^{-05} & -9.946\\times10^{-04} & 0.011 & -6.382\\times10^{-04} & 1.912\\times10^{-05}\\\\0.0 & 0.0 & 1.827\\times10^{-12} & -1.899\\times10^{-10} & 1.425\\times10^{-08} & -7.647\\times10^{-07} & 2.811\\times10^{-05} & -6.382\\times10^{-04} & 0.007 & -4.059\\times10^{-04}\\\\0.0 & 0.0 & 0.0 & 1.899\\times10^{-12} & -1.709\\times10^{-10} & 1.147\\times10^{-08} & -5.619\\times10^{-07} & 1.912\\times10^{-05} & -4.059\\times10^{-04} & 0.004\\\\\\end{array}\\right)\\end{equation*}"
      ],
      "text/plain": [
       "Quantum object: dims = [[10], [10]], shape = (10, 10), type = oper, isherm = True\n",
       "Qobj data =\n",
       "[[  4.02051975e-01  -8.04103950e-03   1.13717471e-04  -1.31309625e-06\n",
       "    1.31309625e-08  -1.17446957e-10   0.00000000e+00   0.00000000e+00\n",
       "    0.00000000e+00   0.00000000e+00]\n",
       " [ -8.04103950e-03   2.41392006e-01  -6.82532262e-03   1.18204925e-04\n",
       "   -1.57597812e-06   1.76193838e-08  -1.72630262e-10   1.52100275e-12\n",
       "    0.00000000e+00   0.00000000e+00]\n",
       " [  1.13717471e-04  -6.82532262e-03   1.44931728e-01  -5.01723899e-03\n",
       "    1.00322492e-04  -1.49535330e-06   1.83130421e-08  -1.93798310e-10\n",
       "    1.82687728e-12   0.00000000e+00]\n",
       " [ -1.31309625e-06   1.18204925e-04  -5.01723899e-03   8.70169709e-02\n",
       "   -3.47720356e-03   7.77267351e-05  -1.26906081e-06   1.67864181e-08\n",
       "   -1.89903973e-10   1.89889807e-12]\n",
       " [  1.31309625e-08  -1.57597812e-06   1.00322492e-04  -3.47720356e-03\n",
       "    5.22449546e-02  -2.33335633e-03   5.71299428e-05  -1.00745365e-06\n",
       "    1.42456470e-08  -1.70914413e-10]\n",
       " [ -1.17446957e-10   1.76193838e-08  -1.49535330e-06   7.77267351e-05\n",
       "   -2.33335633e-03   3.13678429e-02  -1.53414926e-03   4.05672469e-05\n",
       "   -7.64730963e-07   1.14673179e-08]\n",
       " [  0.00000000e+00  -1.72630262e-10   1.83130421e-08  -1.26906081e-06\n",
       "    5.71299428e-05  -1.53414926e-03   1.88332320e-02  -9.94573586e-04\n",
       "    2.81120554e-05  -5.61923266e-07]\n",
       " [  0.00000000e+00   1.52100275e-12  -1.93798310e-10   1.67864181e-08\n",
       "   -1.00745365e-06   4.05672469e-05  -9.94573586e-04   1.13074575e-02\n",
       "   -6.38158717e-04   1.91222361e-05]\n",
       " [  0.00000000e+00   0.00000000e+00   1.82687728e-12  -1.89903973e-10\n",
       "    1.42456470e-08  -7.64730963e-07   2.81120554e-05  -6.38158717e-04\n",
       "    6.78897970e-03  -4.05914647e-04]\n",
       " [  0.00000000e+00   0.00000000e+00   0.00000000e+00   1.89889807e-12\n",
       "   -1.70914413e-10   1.14673179e-08  -5.61923266e-07   1.91222361e-05\n",
       "   -4.05914647e-04   4.06485344e-03]]"
      ]
     },
     "metadata": {},
     "output_type": "display_data"
    },
    {
     "name": "stdout",
     "output_type": "stream",
     "text": [
      "==================== Lindblad steadystate dm\n"
     ]
    },
    {
     "data": {
      "text/latex": [
       "Quantum object: dims = [[10], [10]], shape = (10, 10), type = oper, isherm = True\\begin{equation*}\\left(\\begin{array}{*{11}c}0.402 & (-0.008+9.596\\times10^{-05}j) & (1.137\\times10^{-04}-2.714\\times10^{-06}j) & (-1.312\\times10^{-06}+4.705\\times10^{-08}j) & (1.312\\times10^{-08}-6.319\\times10^{-10}j) & (-1.178\\times10^{-10}+6.493\\times10^{-12}j) & 9.423\\times10^{-13} & -4.294\\times10^{-15} & -7.474\\times10^{-17} & 1.605\\times10^{-18}\\\\(-0.008-9.596\\times10^{-05}j) & 0.241 & (-0.007+8.146\\times10^{-05}j) & (1.181\\times10^{-04}-2.818\\times10^{-06}j) & (-1.574\\times10^{-06}+5.621\\times10^{-08}j) & (1.756\\times10^{-08}-8.970\\times10^{-10}j) & (-1.757\\times10^{-10}+1.454\\times10^{-11}j) & 1.853\\times10^{-12} & -2.153\\times10^{-14} & 4.078\\times10^{-17}\\\\(1.137\\times10^{-04}+2.714\\times10^{-06}j) & (-0.007-8.146\\times10^{-05}j) & 0.145 & (-0.005+5.991\\times10^{-05}j) & (1.003\\times10^{-04}-2.396\\times10^{-06}j) & (-1.495\\times10^{-06}+5.069\\times10^{-08}j) & (1.800\\times10^{-08}-7.440\\times10^{-10}j) & (-1.758\\times10^{-10}+2.574\\times10^{-11}j) & (1.790\\times10^{-12}-1.344\\times10^{-12}j) & -4.383\\times10^{-14}\\\\(-1.312\\times10^{-06}-4.705\\times10^{-08}j) & (1.181\\times10^{-04}+2.818\\times10^{-06}j) & (-0.005-5.991\\times10^{-05}j) & 0.087 & (-0.003+4.153\\times10^{-05}j) & (7.770\\times10^{-05}-1.924\\times10^{-06}j) & (-1.279\\times10^{-06}+4.505\\times10^{-08}j) & (1.710\\times10^{-08}+1.921\\times10^{-10}j) & (-1.533\\times10^{-10}-4.118\\times10^{-11}j) & -6.294\\times10^{-13}\\\\(1.312\\times10^{-08}+6.319\\times10^{-10}j) & (-1.574\\times10^{-06}-5.621\\times10^{-08}j) & (1.003\\times10^{-04}+2.396\\times10^{-06}j) & (-0.003-4.153\\times10^{-05}j) & 0.052 & (-0.002+2.718\\times10^{-05}j) & (5.688\\times10^{-05}-1.483\\times10^{-06}j) & (-1.015\\times10^{-06}+6.915\\times10^{-08}j) & (1.666\\times10^{-08}-1.361\\times10^{-09}j) & (-2.725\\times10^{-10}-3.558\\times10^{-11}j)\\\\(-1.178\\times10^{-10}-6.493\\times10^{-12}j) & (1.756\\times10^{-08}+8.970\\times10^{-10}j) & (-1.495\\times10^{-06}-5.069\\times10^{-08}j) & (7.770\\times10^{-05}+1.924\\times10^{-06}j) & (-0.002-2.718\\times10^{-05}j) & 0.031 & (-0.002+1.615\\times10^{-05}j) & (4.000\\times10^{-05}-4.783\\times10^{-07}j) & (-6.958\\times10^{-07}+6.183\\times10^{-08}j) & (1.025\\times10^{-08}-4.287\\times10^{-09}j)\\\\9.423\\times10^{-13} & (-1.757\\times10^{-10}-1.454\\times10^{-11}j) & (1.800\\times10^{-08}+7.440\\times10^{-10}j) & (-1.279\\times10^{-06}-4.505\\times10^{-08}j) & (5.688\\times10^{-05}+1.483\\times10^{-06}j) & (-0.002-1.615\\times10^{-05}j) & 0.019 & (-0.001+1.302\\times10^{-05}j) & (2.875\\times10^{-05}+9.020\\times10^{-07}j) & (-5.015\\times10^{-07}-5.299\\times10^{-08}j)\\\\-4.294\\times10^{-15} & 1.853\\times10^{-12} & (-1.758\\times10^{-10}-2.574\\times10^{-11}j) & (1.710\\times10^{-08}-1.921\\times10^{-10}j) & (-1.015\\times10^{-06}-6.915\\times10^{-08}j) & (4.000\\times10^{-05}+4.783\\times10^{-07}j) & (-0.001-1.302\\times10^{-05}j) & 0.011 & (-6.459\\times10^{-04}+2.824\\times10^{-05}j) & (2.157\\times10^{-05}-9.632\\times10^{-07}j)\\\\-7.474\\times10^{-17} & -2.153\\times10^{-14} & (1.790\\times10^{-12}+1.344\\times10^{-12}j) & (-1.533\\times10^{-10}+4.118\\times10^{-11}j) & (1.666\\times10^{-08}+1.361\\times10^{-09}j) & (-6.958\\times10^{-07}-6.183\\times10^{-08}j) & (2.875\\times10^{-05}-9.020\\times10^{-07}j) & (-6.459\\times10^{-04}-2.824\\times10^{-05}j) & 0.007 & (-3.735\\times10^{-04}+5.327\\times10^{-05}j)\\\\1.605\\times10^{-18} & 4.078\\times10^{-17} & -4.383\\times10^{-14} & -6.294\\times10^{-13} & (-2.725\\times10^{-10}+3.558\\times10^{-11}j) & (1.025\\times10^{-08}+4.287\\times10^{-09}j) & (-5.015\\times10^{-07}+5.299\\times10^{-08}j) & (2.157\\times10^{-05}+9.632\\times10^{-07}j) & (-3.735\\times10^{-04}-5.327\\times10^{-05}j) & 0.004\\\\\\end{array}\\right)\\end{equation*}"
      ],
      "text/plain": [
       "Quantum object: dims = [[10], [10]], shape = (10, 10), type = oper, isherm = True\n",
       "Qobj data =\n",
       "[[  4.02029887e-01 +0.00000000e+00j  -8.03945243e-03 +9.59634656e-05j\n",
       "    1.13662383e-04 -2.71378066e-06j  -1.31187151e-06 +4.70539718e-08j\n",
       "    1.31186656e-08 -6.31877686e-10j  -1.17849817e-10 +6.49255768e-12j\n",
       "    9.42303550e-13 -1.32186907e-14j  -4.29432831e-15 -4.68339168e-16j\n",
       "   -7.47398192e-17 -6.56792895e-17j   1.60514096e-18 +4.17525690e-18j]\n",
       " [ -8.03945243e-03 -9.59634656e-05j   2.41378721e-01 +0.00000000e+00j\n",
       "   -6.82398017e-03 +8.14565544e-05j   1.18148666e-04 -2.81847808e-06j\n",
       "   -1.57404145e-06 +5.62120774e-08j   1.75584150e-08 -8.97039669e-10j\n",
       "   -1.75710537e-10 +1.45389688e-11j   1.85263873e-12 -5.98104959e-14j\n",
       "   -2.15323378e-14 -1.25913674e-14j   4.07834561e-17 +5.63705154e-16j]\n",
       " [  1.13662383e-04 +2.71378066e-06j  -6.82398017e-03 -8.14565544e-05j\n",
       "    1.44923740e-01 +0.00000000e+00j  -5.01624370e-03 +5.99144006e-05j\n",
       "    1.00289712e-04 -2.39557300e-06j  -1.49454743e-06 +5.06886177e-08j\n",
       "    1.80035173e-08 -7.43994717e-10j  -1.75763041e-10 +2.57404719e-11j\n",
       "    1.78986724e-12 -1.34352058e-12j  -4.38282283e-14 +3.73690023e-14j]\n",
       " [ -1.31187151e-06 -4.70539718e-08j   1.18148666e-04 +2.81847808e-06j\n",
       "   -5.01624370e-03 -5.99144006e-05j   8.70122026e-02 +0.00000000e+00j\n",
       "   -3.47632946e-03 +4.15329568e-05j   7.77005727e-05 -1.92435419e-06j\n",
       "   -1.27927661e-06 +4.50460076e-08j   1.70996659e-08 +1.92072770e-10j\n",
       "   -1.53284071e-10 -4.11750376e-11j  -6.29395969e-13 +5.37458752e-13j]\n",
       " [  1.31186656e-08 +6.31877686e-10j  -1.57404145e-06 -5.62120774e-08j\n",
       "    1.00289712e-04 +2.39557300e-06j  -3.47632946e-03 -4.15329568e-05j\n",
       "    5.22421161e-02 +0.00000000e+00j  -2.33253493e-03 +2.71824960e-05j\n",
       "    5.68778149e-05 -1.48316736e-06j  -1.01520384e-06 +6.91540319e-08j\n",
       "    1.66646190e-08 -1.36108159e-09j  -2.72461403e-10 -3.55824924e-11j]\n",
       " [ -1.17849817e-10 -6.49255768e-12j   1.75584150e-08 +8.97039669e-10j\n",
       "   -1.49454743e-06 -5.06886177e-08j   7.77005727e-05 +1.92435419e-06j\n",
       "   -2.33253493e-03 -2.71824960e-05j   3.13656379e-02 +0.00000000e+00j\n",
       "   -1.53548065e-03 +1.61535002e-05j   4.00018350e-05 -4.78275238e-07j\n",
       "   -6.95751563e-07 +6.18312661e-08j   1.02464804e-08 -4.28685263e-09j]\n",
       " [  9.42303550e-13 +1.32186907e-14j  -1.75710537e-10 -1.45389688e-11j\n",
       "    1.80035173e-08 +7.43994717e-10j  -1.27927661e-06 -4.50460076e-08j\n",
       "    5.68778149e-05 +1.48316736e-06j  -1.53548065e-03 -1.61535002e-05j\n",
       "    1.88304321e-02 +0.00000000e+00j  -1.00230107e-03 +1.30201232e-05j\n",
       "    2.87517843e-05 +9.01978510e-07j  -5.01506947e-07 -5.29934643e-08j]\n",
       " [ -4.29432831e-15 +4.68339168e-16j   1.85263873e-12 +5.98104959e-14j\n",
       "   -1.75763041e-10 -2.57404719e-11j   1.70996659e-08 -1.92072770e-10j\n",
       "   -1.01520384e-06 -6.91540319e-08j   4.00018350e-05 +4.78275238e-07j\n",
       "   -1.00230107e-03 -1.30201232e-05j   1.13065047e-02 +0.00000000e+00j\n",
       "   -6.45891261e-04 +2.82365071e-05j   2.15713823e-05 -9.63170631e-07j]\n",
       " [ -7.47398192e-17 +6.56792895e-17j  -2.15323378e-14 +1.25913674e-14j\n",
       "    1.78986724e-12 +1.34352058e-12j  -1.53284071e-10 +4.11750376e-11j\n",
       "    1.66646190e-08 +1.36108159e-09j  -6.95751563e-07 -6.18312661e-08j\n",
       "    2.87517843e-05 -9.01978510e-07j  -6.45891261e-04 -2.82365071e-05j\n",
       "    6.80062971e-03 +0.00000000e+00j  -3.73496392e-04 +5.32693105e-05j]\n",
       " [  1.60514096e-18 -4.17525690e-18j   4.07834561e-17 -5.63705154e-16j\n",
       "   -4.38282283e-14 -3.73690023e-14j  -6.29395969e-13 -5.37458752e-13j\n",
       "   -2.72461403e-10 +3.55824924e-11j   1.02464804e-08 +4.28685263e-09j\n",
       "   -5.01506947e-07 +5.29934643e-08j   2.15713823e-05 +9.63170631e-07j\n",
       "   -3.73496392e-04 -5.32693105e-05j   4.11012902e-03 +0.00000000e+00j]]"
      ]
     },
     "metadata": {},
     "output_type": "display_data"
    },
    {
     "name": "stdout",
     "output_type": "stream",
     "text": [
      "==================== Steadystate expectation values\n",
      "R_ob:  [1.441172521173384, -0.09593514655834637]\n",
      "R_eb:  [1.4411725211733848, -0.0959351465583464]\n",
      "L   :  [1.4415837865925414, -0.09581420257265144]\n",
      "==================== Dynamics final states\n",
      "R:  [1.4412697964611352, -0.094946706436505962]\n",
      "L:  [1.4416807381001973, -0.094807209086397559]\n"
     ]
    }
   ],
   "source": [
    "solve(H, psi0, c_ops, a_ops, e_ops)"
   ]
  },
  {
   "cell_type": "markdown",
   "metadata": {},
   "source": [
    "## Atom-Cavity"
   ]
  },
  {
   "cell_type": "code",
   "execution_count": 34,
   "metadata": {},
   "outputs": [],
   "source": [
    "N = 10\n",
    "a = tensor(destroy(N), identity(2))\n",
    "sm = tensor(identity(N), destroy(2))\n",
    "psi0 = ket2dm(tensor(basis(N, 1), basis(2, 0)))\n",
    "a_ops = [[a + a.dag(),lambda w : kappa*(w > 0)]]\n",
    "e_ops = [a.dag() * a, sm.dag() * sm]"
   ]
  },
  {
   "cell_type": "markdown",
   "metadata": {},
   "source": [
    "### Weak coupling"
   ]
  },
  {
   "cell_type": "code",
   "execution_count": 35,
   "metadata": {},
   "outputs": [],
   "source": [
    "w0 = 1.0 * 2 * np.pi\n",
    "g = 0.05 * 2 * np.pi\n",
    "kappa = 0.05\n",
    "times = np.linspace(0, 150 * 2 * np.pi / g, 1000)\n",
    "c_ops = [np.sqrt(kappa) * a]\n",
    "H = w0 * a.dag() * a + w0 * sm.dag() * sm + g * (a + a.dag()) * (sm + sm.dag())"
   ]
  },
  {
   "cell_type": "code",
   "execution_count": 36,
   "metadata": {},
   "outputs": [
    {
     "data": {
      "image/png": "[encoded data removed]",
      "text/plain": [
       "<matplotlib.figure.Figure at 0x1140bbef0>"
      ]
     },
     "metadata": {},
     "output_type": "display_data"
    },
    {
     "name": "stdout",
     "output_type": "stream",
     "text": [
      "==================== Bloch-Redfield tensor: \n"
     ]
    },
    {
     "data": {
      "text/latex": [
       "Quantum object: dims = [[[10, 2], [10, 2]], [[10, 2], [10, 2]]], shape = (400, 400), type = super, isherm = False\\begin{equation*}\\left(\\begin{array}{*{11}c}0.0 & 0.0 & 0.0 & 0.0 & 0.0 & \\cdots & 0.0 & 0.0 & 0.0 & 0.0 & 0.0\\\\0.0 & (-0.013-5.969j) & 0.0 & 0.0 & 0.0 & \\cdots & 0.0 & 0.0 & 0.0 & 0.0 & 0.0\\\\0.0 & 0.0 & (-0.012-6.597j) & 0.0 & 0.0 & \\cdots & 0.0 & 0.0 & 0.0 & 0.0 & 0.0\\\\0.0 & 0.0 & 0.0 & (-0.039-12.122j) & 0.0 & \\cdots & 0.0 & 0.0 & 0.0 & 0.0 & 0.0\\\\0.0 & 0.0 & 0.0 & 0.0 & (-0.036-13.010j) & \\cdots & 0.0 & 0.0 & 0.0 & 0.0 & 0.0\\\\\\vdots & \\vdots & \\vdots & \\vdots & \\vdots & \\ddots & \\vdots & \\vdots & \\vdots & \\vdots & \\vdots\\\\0.0 & 0.0 & 0.0 & 0.0 & 0.0 & \\cdots & (-0.419+13.531j) & 0.0 & 0.0 & 0.0 & 0.0\\\\0.0 & 0.0 & 0.0 & 0.0 & 0.0 & \\cdots & 0.0 & (-0.413+11.758j) & 0.0 & 0.0 & 0.0\\\\0.0 & 0.0 & 0.0 & 0.0 & 0.0 & \\cdots & 0.0 & 0.0 & (-0.441+7.263j) & 0.0 & 0.0\\\\0.0 & 0.0 & 0.0 & 0.0 & 0.0 & \\cdots & 0.0 & 0.0 & 0.0 & (-0.436+5.382j) & 0.0\\\\0.0 & 0.0 & 0.0 & 0.0 & 0.0 & \\cdots & 0.0 & 0.0 & 0.0 & 0.0 & -0.457\\\\\\end{array}\\right)\\end{equation*}"
      ],
      "text/plain": [
       "Quantum object: dims = [[[10, 2], [10, 2]], [[10, 2], [10, 2]]], shape = (400, 400), type = super, isherm = False\n",
       "Qobj data =\n",
       "[[ 0.00000000+0.j          0.00000000+0.j          0.00000000+0.j         ...,\n",
       "   0.00000000+0.j          0.00000000+0.j          0.00000000+0.j        ]\n",
       " [ 0.00000000+0.j         -0.01348632-5.96911979j  0.00000000+0.j         ...,\n",
       "   0.00000000+0.j          0.00000000+0.j          0.00000000+0.j        ]\n",
       " [ 0.00000000+0.j          0.00000000+0.j         -0.01160761-6.59724095j\n",
       "  ...,  0.00000000+0.j          0.00000000+0.j          0.00000000+0.j        ]\n",
       " ..., \n",
       " [ 0.00000000+0.j          0.00000000+0.j          0.00000000+0.j         ...,\n",
       "  -0.44114336+7.26287912j  0.00000000+0.j          0.00000000+0.j        ]\n",
       " [ 0.00000000+0.j          0.00000000+0.j          0.00000000+0.j         ...,\n",
       "   0.00000000+0.j         -0.43647128+5.38162336j  0.00000000+0.j        ]\n",
       " [ 0.00000000+0.j          0.00000000+0.j          0.00000000+0.j         ...,\n",
       "   0.00000000+0.j          0.00000000+0.j         -0.45670914+0.j        ]]"
      ]
     },
     "metadata": {},
     "output_type": "display_data"
    },
    {
     "name": "stdout",
     "output_type": "stream",
     "text": [
      "==================== Lindblad liouvilllian: \n"
     ]
    },
    {
     "data": {
      "text/latex": [
       "Quantum object: dims = [[[10, 2], [10, 2]], [[10, 2], [10, 2]]], shape = (400, 400), type = super, isherm = False\\begin{equation*}\\left(\\begin{array}{*{11}c}0.0 & 0.0 & 0.0 & -0.314j & 0.0 & \\cdots & 0.0 & 0.0 & 0.0 & 0.0 & 0.0\\\\0.0 & -6.283j & -0.314j & 0.0 & 0.0 & \\cdots & 0.0 & 0.0 & 0.0 & 0.0 & 0.0\\\\0.0 & -0.314j & (-0.025-6.283j) & 0.0 & 0.0 & \\cdots & 0.0 & 0.0 & 0.0 & 0.0 & 0.0\\\\-0.314j & 0.0 & 0.0 & (-0.025-12.566j) & -0.444j & \\cdots & 0.0 & 0.0 & 0.0 & 0.0 & 0.0\\\\0.0 & 0.0 & 0.0 & -0.444j & (-0.050-12.566j) & \\cdots & 0.0 & 0.0 & 0.0 & 0.0 & 0.0\\\\\\vdots & \\vdots & \\vdots & \\vdots & \\vdots & \\ddots & \\vdots & \\vdots & \\vdots & \\vdots & \\vdots\\\\0.0 & 0.0 & 0.0 & 0.0 & 0.0 & \\cdots & (-0.400+12.566j) & -0.889j & 0.0 & 0.0 & 0.0\\\\0.0 & 0.0 & 0.0 & 0.0 & 0.0 & \\cdots & -0.889j & (-0.425+12.566j) & 0.0 & 0.0 & -0.942j\\\\0.0 & 0.0 & 0.0 & 0.0 & 0.0 & \\cdots & 0.0 & 0.0 & (-0.425+6.283j) & -0.942j & 0.0\\\\0.0 & 0.0 & 0.0 & 0.0 & 0.0 & \\cdots & 0.0 & 0.0 & -0.942j & (-0.450+6.283j) & 0.0\\\\0.0 & 0.0 & 0.0 & 0.0 & 0.0 & \\cdots & 0.0 & -0.942j & 0.0 & 0.0 & -0.450\\\\\\end{array}\\right)\\end{equation*}"
      ],
      "text/plain": [
       "Quantum object: dims = [[[10, 2], [10, 2]], [[10, 2], [10, 2]]], shape = (400, 400), type = super, isherm = False\n",
       "Qobj data =\n",
       "[[ 0.000+0.j          0.000+0.j          0.000+0.j         ...,  0.000+0.j\n",
       "   0.000+0.j          0.000+0.j        ]\n",
       " [ 0.000+0.j          0.000-6.28318531j  0.000-0.31415927j ...,  0.000+0.j\n",
       "   0.000+0.j          0.000+0.j        ]\n",
       " [ 0.000+0.j          0.000-0.31415927j -0.025-6.28318531j ...,  0.000+0.j\n",
       "   0.000+0.j          0.000+0.j        ]\n",
       " ..., \n",
       " [ 0.000+0.j          0.000+0.j          0.000+0.j         ...,\n",
       "  -0.425+6.28318531j  0.000-0.9424778j   0.000+0.j        ]\n",
       " [ 0.000+0.j          0.000+0.j          0.000+0.j         ...,\n",
       "   0.000-0.9424778j  -0.450+6.28318531j  0.000+0.j        ]\n",
       " [ 0.000+0.j          0.000+0.j          0.000+0.j         ...,  0.000+0.j\n",
       "   0.000+0.j         -0.450+0.j        ]]"
      ]
     },
     "metadata": {},
     "output_type": "display_data"
    },
    {
     "name": "stdout",
     "output_type": "stream",
     "text": [
      "==================== Bloch-Redfield steadystate dm\n"
     ]
    },
    {
     "data": {
      "text/latex": [
       "Quantum object: dims = [[10, 2], [10, 2]], shape = (20, 20), type = oper, isherm = True\\begin{equation*}\\left(\\begin{array}{*{11}c}0.999 & 0.0 & 0.0 & -0.025 & 8.842\\times10^{-04} & \\cdots & -3.013\\times10^{-12} & 0.0 & 0.0 & 0.0 & 0.0\\\\0.0 & 0.0 & 0.0 & 0.0 & 0.0 & \\cdots & 0.0 & 0.0 & 0.0 & 0.0 & 0.0\\\\0.0 & 0.0 & 0.0 & 0.0 & 0.0 & \\cdots & 0.0 & 0.0 & 0.0 & 0.0 & 0.0\\\\-0.025 & 0.0 & 0.0 & 6.254\\times10^{-04} & -2.212\\times10^{-05} & \\cdots & 0.0 & 0.0 & 0.0 & 0.0 & 0.0\\\\8.842\\times10^{-04} & 0.0 & 0.0 & -2.212\\times10^{-05} & 7.822\\times10^{-07} & \\cdots & 0.0 & 0.0 & 0.0 & 0.0 & 0.0\\\\\\vdots & \\vdots & \\vdots & \\vdots & \\vdots & \\ddots & \\vdots & \\vdots & \\vdots & \\vdots & \\vdots\\\\-3.013\\times10^{-12} & 0.0 & 0.0 & 0.0 & 0.0 & \\cdots & 0.0 & 0.0 & 0.0 & 0.0 & 0.0\\\\0.0 & 0.0 & 0.0 & 0.0 & 0.0 & \\cdots & 0.0 & 0.0 & 0.0 & 0.0 & 0.0\\\\0.0 & 0.0 & 0.0 & 0.0 & 0.0 & \\cdots & 0.0 & 0.0 & 0.0 & 0.0 & 0.0\\\\0.0 & 0.0 & 0.0 & 0.0 & 0.0 & \\cdots & 0.0 & 0.0 & 0.0 & 0.0 & 0.0\\\\0.0 & 0.0 & 0.0 & 0.0 & 0.0 & \\cdots & 0.0 & 0.0 & 0.0 & 0.0 & 0.0\\\\\\end{array}\\right)\\end{equation*}"
      ],
      "text/plain": [
       "Quantum object: dims = [[10, 2], [10, 2]], shape = (20, 20), type = oper, isherm = True\n",
       "Qobj data =\n",
       "[[  9.99373827e-01   0.00000000e+00   0.00000000e+00  -2.49999707e-02\n",
       "    8.84158652e-04   0.00000000e+00   0.00000000e+00  -1.91485790e-05\n",
       "    4.78814187e-07   0.00000000e+00   0.00000000e+00  -8.92403421e-09\n",
       "    1.82189287e-10   0.00000000e+00   0.00000000e+00  -3.01314674e-12\n",
       "    0.00000000e+00   0.00000000e+00   0.00000000e+00   0.00000000e+00]\n",
       " [  0.00000000e+00   0.00000000e+00   0.00000000e+00   0.00000000e+00\n",
       "    0.00000000e+00   0.00000000e+00   0.00000000e+00   0.00000000e+00\n",
       "    0.00000000e+00   0.00000000e+00   0.00000000e+00   0.00000000e+00\n",
       "    0.00000000e+00   0.00000000e+00   0.00000000e+00   0.00000000e+00\n",
       "    0.00000000e+00   0.00000000e+00   0.00000000e+00   0.00000000e+00]\n",
       " [  0.00000000e+00   0.00000000e+00   0.00000000e+00   0.00000000e+00\n",
       "    0.00000000e+00   0.00000000e+00   0.00000000e+00   0.00000000e+00\n",
       "    0.00000000e+00   0.00000000e+00   0.00000000e+00   0.00000000e+00\n",
       "    0.00000000e+00   0.00000000e+00   0.00000000e+00   0.00000000e+00\n",
       "    0.00000000e+00   0.00000000e+00   0.00000000e+00   0.00000000e+00]\n",
       " [ -2.49999707e-02   0.00000000e+00   0.00000000e+00   6.25390135e-04\n",
       "   -2.21177899e-05   0.00000000e+00   0.00000000e+00   4.79013859e-07\n",
       "   -1.19778408e-08   0.00000000e+00   0.00000000e+00   2.23240380e-10\n",
       "   -4.55758067e-12   0.00000000e+00   0.00000000e+00   0.00000000e+00\n",
       "    0.00000000e+00   0.00000000e+00   0.00000000e+00   0.00000000e+00]\n",
       " [  8.84158652e-04   0.00000000e+00   0.00000000e+00  -2.21177899e-05\n",
       "    7.82226331e-07   0.00000000e+00   0.00000000e+00  -1.69409898e-08\n",
       "    4.23612954e-10   0.00000000e+00   0.00000000e+00  -7.89520541e-12\n",
       "    0.00000000e+00   0.00000000e+00   0.00000000e+00   0.00000000e+00\n",
       "    0.00000000e+00   0.00000000e+00   0.00000000e+00   0.00000000e+00]\n",
       " [  0.00000000e+00   0.00000000e+00   0.00000000e+00   0.00000000e+00\n",
       "    0.00000000e+00   0.00000000e+00   0.00000000e+00   0.00000000e+00\n",
       "    0.00000000e+00   0.00000000e+00   0.00000000e+00   0.00000000e+00\n",
       "    0.00000000e+00   0.00000000e+00   0.00000000e+00   0.00000000e+00\n",
       "    0.00000000e+00   0.00000000e+00   0.00000000e+00   0.00000000e+00]\n",
       " [  0.00000000e+00   0.00000000e+00   0.00000000e+00   0.00000000e+00\n",
       "    0.00000000e+00   0.00000000e+00   0.00000000e+00   0.00000000e+00\n",
       "    0.00000000e+00   0.00000000e+00   0.00000000e+00   0.00000000e+00\n",
       "    0.00000000e+00   0.00000000e+00   0.00000000e+00   0.00000000e+00\n",
       "    0.00000000e+00   0.00000000e+00   0.00000000e+00   0.00000000e+00]\n",
       " [ -1.91485790e-05   0.00000000e+00   0.00000000e+00   4.79013859e-07\n",
       "   -1.69409898e-08   0.00000000e+00   0.00000000e+00   3.66897650e-10\n",
       "   -9.17451558e-12   0.00000000e+00   0.00000000e+00   0.00000000e+00\n",
       "    0.00000000e+00   0.00000000e+00   0.00000000e+00   0.00000000e+00\n",
       "    0.00000000e+00   0.00000000e+00   0.00000000e+00   0.00000000e+00]\n",
       " [  4.78814187e-07   0.00000000e+00   0.00000000e+00  -1.19778408e-08\n",
       "    4.23612954e-10   0.00000000e+00   0.00000000e+00  -9.17451558e-12\n",
       "    0.00000000e+00   0.00000000e+00   0.00000000e+00   0.00000000e+00\n",
       "    0.00000000e+00   0.00000000e+00   0.00000000e+00   0.00000000e+00\n",
       "    0.00000000e+00   0.00000000e+00   0.00000000e+00   0.00000000e+00]\n",
       " [  0.00000000e+00   0.00000000e+00   0.00000000e+00   0.00000000e+00\n",
       "    0.00000000e+00   0.00000000e+00   0.00000000e+00   0.00000000e+00\n",
       "    0.00000000e+00   0.00000000e+00   0.00000000e+00   0.00000000e+00\n",
       "    0.00000000e+00   0.00000000e+00   0.00000000e+00   0.00000000e+00\n",
       "    0.00000000e+00   0.00000000e+00   0.00000000e+00   0.00000000e+00]\n",
       " [  0.00000000e+00   0.00000000e+00   0.00000000e+00   0.00000000e+00\n",
       "    0.00000000e+00   0.00000000e+00   0.00000000e+00   0.00000000e+00\n",
       "    0.00000000e+00   0.00000000e+00   0.00000000e+00   0.00000000e+00\n",
       "    0.00000000e+00   0.00000000e+00   0.00000000e+00   0.00000000e+00\n",
       "    0.00000000e+00   0.00000000e+00   0.00000000e+00   0.00000000e+00]\n",
       " [ -8.92403421e-09   0.00000000e+00   0.00000000e+00   2.23240380e-10\n",
       "   -7.89520541e-12   0.00000000e+00   0.00000000e+00   0.00000000e+00\n",
       "    0.00000000e+00   0.00000000e+00   0.00000000e+00   0.00000000e+00\n",
       "    0.00000000e+00   0.00000000e+00   0.00000000e+00   0.00000000e+00\n",
       "    0.00000000e+00   0.00000000e+00   0.00000000e+00   0.00000000e+00]\n",
       " [  1.82189287e-10   0.00000000e+00   0.00000000e+00  -4.55758067e-12\n",
       "    0.00000000e+00   0.00000000e+00   0.00000000e+00   0.00000000e+00\n",
       "    0.00000000e+00   0.00000000e+00   0.00000000e+00   0.00000000e+00\n",
       "    0.00000000e+00   0.00000000e+00   0.00000000e+00   0.00000000e+00\n",
       "    0.00000000e+00   0.00000000e+00   0.00000000e+00   0.00000000e+00]\n",
       " [  0.00000000e+00   0.00000000e+00   0.00000000e+00   0.00000000e+00\n",
       "    0.00000000e+00   0.00000000e+00   0.00000000e+00   0.00000000e+00\n",
       "    0.00000000e+00   0.00000000e+00   0.00000000e+00   0.00000000e+00\n",
       "    0.00000000e+00   0.00000000e+00   0.00000000e+00   0.00000000e+00\n",
       "    0.00000000e+00   0.00000000e+00   0.00000000e+00   0.00000000e+00]\n",
       " [  0.00000000e+00   0.00000000e+00   0.00000000e+00   0.00000000e+00\n",
       "    0.00000000e+00   0.00000000e+00   0.00000000e+00   0.00000000e+00\n",
       "    0.00000000e+00   0.00000000e+00   0.00000000e+00   0.00000000e+00\n",
       "    0.00000000e+00   0.00000000e+00   0.00000000e+00   0.00000000e+00\n",
       "    0.00000000e+00   0.00000000e+00   0.00000000e+00   0.00000000e+00]\n",
       " [ -3.01314674e-12   0.00000000e+00   0.00000000e+00   0.00000000e+00\n",
       "    0.00000000e+00   0.00000000e+00   0.00000000e+00   0.00000000e+00\n",
       "    0.00000000e+00   0.00000000e+00   0.00000000e+00   0.00000000e+00\n",
       "    0.00000000e+00   0.00000000e+00   0.00000000e+00   0.00000000e+00\n",
       "    0.00000000e+00   0.00000000e+00   0.00000000e+00   0.00000000e+00]\n",
       " [  0.00000000e+00   0.00000000e+00   0.00000000e+00   0.00000000e+00\n",
       "    0.00000000e+00   0.00000000e+00   0.00000000e+00   0.00000000e+00\n",
       "    0.00000000e+00   0.00000000e+00   0.00000000e+00   0.00000000e+00\n",
       "    0.00000000e+00   0.00000000e+00   0.00000000e+00   0.00000000e+00\n",
       "    0.00000000e+00   0.00000000e+00   0.00000000e+00   0.00000000e+00]\n",
       " [  0.00000000e+00   0.00000000e+00   0.00000000e+00   0.00000000e+00\n",
       "    0.00000000e+00   0.00000000e+00   0.00000000e+00   0.00000000e+00\n",
       "    0.00000000e+00   0.00000000e+00   0.00000000e+00   0.00000000e+00\n",
       "    0.00000000e+00   0.00000000e+00   0.00000000e+00   0.00000000e+00\n",
       "    0.00000000e+00   0.00000000e+00   0.00000000e+00   0.00000000e+00]\n",
       " [  0.00000000e+00   0.00000000e+00   0.00000000e+00   0.00000000e+00\n",
       "    0.00000000e+00   0.00000000e+00   0.00000000e+00   0.00000000e+00\n",
       "    0.00000000e+00   0.00000000e+00   0.00000000e+00   0.00000000e+00\n",
       "    0.00000000e+00   0.00000000e+00   0.00000000e+00   0.00000000e+00\n",
       "    0.00000000e+00   0.00000000e+00   0.00000000e+00   0.00000000e+00]\n",
       " [  0.00000000e+00   0.00000000e+00   0.00000000e+00   0.00000000e+00\n",
       "    0.00000000e+00   0.00000000e+00   0.00000000e+00   0.00000000e+00\n",
       "    0.00000000e+00   0.00000000e+00   0.00000000e+00   0.00000000e+00\n",
       "    0.00000000e+00   0.00000000e+00   0.00000000e+00   0.00000000e+00\n",
       "    0.00000000e+00   0.00000000e+00   0.00000000e+00   0.00000000e+00]]"
      ]
     },
     "metadata": {},
     "output_type": "display_data"
    },
    {
     "name": "stdout",
     "output_type": "stream",
     "text": [
      "==================== Lindblad steadystate dm\n"
     ]
    },
    {
     "data": {
      "text/latex": [
       "Quantum object: dims = [[10, 2], [10, 2]], shape = (20, 20), type = oper, isherm = True\\begin{equation*}\\left(\\begin{array}{*{11}c}0.998 & 0.0 & 0.0 & (-0.025+4.974\\times10^{-05}j) & (8.830\\times10^{-04}-5.270\\times10^{-06}j) & \\cdots & -3.008\\times10^{-12} & 5.318\\times10^{-14} & 0.0 & 0.0 & -7.975\\times10^{-16}\\\\0.0 & 6.282\\times10^{-04} & (-3.128\\times10^{-05}+4.971\\times10^{-05}j) & 0.0 & 0.0 & \\cdots & 0.0 & 0.0 & -2.686\\times10^{-16} & 5.694\\times10^{-18} & 0.0\\\\0.0 & (-3.128\\times10^{-05}-4.971\\times10^{-05}j) & 6.250\\times10^{-04} & 0.0 & 0.0 & \\cdots & 0.0 & 0.0 & -5.325\\times10^{-15} & 9.983\\times10^{-17} & 0.0\\\\(-0.025-4.974\\times10^{-05}j) & 0.0 & 0.0 & 6.247\\times10^{-04} & (-2.210\\times10^{-05}+1.024\\times10^{-07}j) & \\cdots & 7.512\\times10^{-14} & -1.326\\times10^{-15} & 0.0 & 0.0 & 1.984\\times10^{-17}\\\\(8.830\\times10^{-04}+5.270\\times10^{-06}j) & 0.0 & 0.0 & (-2.210\\times10^{-05}-1.024\\times10^{-07}j) & 9.114\\times10^{-07} & \\cdots & -7.964\\times10^{-15} & 1.720\\times10^{-16} & 0.0 & 0.0 & -3.048\\times10^{-18}\\\\\\vdots & \\vdots & \\vdots & \\vdots & \\vdots & \\ddots & \\vdots & \\vdots & \\vdots & \\vdots & \\vdots\\\\-3.008\\times10^{-12} & 0.0 & 0.0 & 7.512\\times10^{-14} & -7.964\\times10^{-15} & \\cdots & 1.865\\times10^{-19} & -1.888\\times10^{-18} & 0.0 & 0.0 & 9.101\\times10^{-20}\\\\5.318\\times10^{-14} & 0.0 & 0.0 & -1.326\\times10^{-15} & 1.720\\times10^{-16} & \\cdots & -1.888\\times10^{-18} & 2.620\\times10^{-19} & 0.0 & 0.0 & 1.290\\times10^{-20}\\\\0.0 & -2.686\\times10^{-16} & -5.325\\times10^{-15} & 0.0 & 0.0 & \\cdots & 0.0 & 0.0 & -6.197\\times10^{-17} & 3.031\\times10^{-18} & 0.0\\\\0.0 & 5.694\\times10^{-18} & 9.983\\times10^{-17} & 0.0 & 0.0 & \\cdots & 0.0 & 0.0 & 3.031\\times10^{-18} & -6.198\\times10^{-17} & 0.0\\\\-7.975\\times10^{-16} & 0.0 & 0.0 & 1.984\\times10^{-17} & -3.048\\times10^{-18} & \\cdots & 9.101\\times10^{-20} & 1.290\\times10^{-20} & 0.0 & 0.0 & 3.143\\times10^{-19}\\\\\\end{array}\\right)\\end{equation*}"
      ],
      "text/plain": [
       "Quantum object: dims = [[10, 2], [10, 2]], shape = (20, 20), type = oper, isherm = True\n",
       "Qobj data =\n",
       "[[  9.98120425e-01 +0.00000000e+00j   0.00000000e+00 +0.00000000e+00j\n",
       "    0.00000000e+00 +0.00000000e+00j  -2.49685135e-02 +4.97352698e-05j\n",
       "    8.83024879e-04 -5.27010997e-06j   0.00000000e+00 +0.00000000e+00j\n",
       "    0.00000000e+00 +0.00000000e+00j  -1.91235099e-05 +1.71178575e-07j\n",
       "    4.78162691e-07 -6.18105497e-09j   0.00000000e+00 +0.00000000e+00j\n",
       "    0.00000000e+00 +0.00000000e+00j  -8.91141216e-09 +1.44721909e-10j\n",
       "    1.81917269e-10 -3.67755077e-12j   0.00000000e+00 +0.00000000e+00j\n",
       "    0.00000000e+00 +0.00000000e+00j  -3.00839702e-12 +7.12827202e-14j\n",
       "    5.31822729e-14 -1.47158804e-15j   0.00000000e+00 +0.00000000e+00j\n",
       "    0.00000000e+00 +0.00000000e+00j  -7.97545642e-16 +2.49256213e-17j]\n",
       " [  0.00000000e+00 +0.00000000e+00j   6.28152194e-04 +0.00000000e+00j\n",
       "   -3.12778095e-05 +4.97148485e-05j   0.00000000e+00 +0.00000000e+00j\n",
       "    0.00000000e+00 +0.00000000e+00j   5.46429986e-07 -1.75764210e-06j\n",
       "    7.25220144e-10 +7.58647875e-08j   0.00000000e+00 +0.00000000e+00j\n",
       "    0.00000000e+00 +0.00000000e+00j  -3.25193267e-10 -1.89163256e-09j\n",
       "    1.77261532e-11 +5.26368750e-11j   0.00000000e+00 +0.00000000e+00j\n",
       "    0.00000000e+00 +0.00000000e+00j  -4.80179827e-13 -1.07018050e-12j\n",
       "    1.32117713e-14 +2.34694956e-14j   0.00000000e+00 +0.00000000e+00j\n",
       "    0.00000000e+00 +0.00000000e+00j  -2.68581639e-16 -4.12852081e-16j\n",
       "    5.69428219e-18 +7.69299860e-18j   0.00000000e+00 +0.00000000e+00j]\n",
       " [  0.00000000e+00 +0.00000000e+00j  -3.12778095e-05 -4.97148485e-05j\n",
       "    6.24991833e-04 +0.00000000e+00j   0.00000000e+00 +0.00000000e+00j\n",
       "    0.00000000e+00 +0.00000000e+00j  -2.20964012e-05 +8.81302255e-08j\n",
       "    9.56743176e-07 -9.53446270e-09j   0.00000000e+00 +0.00000000e+00j\n",
       "    0.00000000e+00 +0.00000000e+00j  -2.39247010e-08 +3.33808680e-10j\n",
       "    6.68860999e-10 -1.26645298e-11j   0.00000000e+00 +0.00000000e+00j\n",
       "    0.00000000e+00 +0.00000000e+00j  -1.36565545e-11 +3.13019488e-13j\n",
       "    3.01164543e-13 -8.30347885e-15j   0.00000000e+00 +0.00000000e+00j\n",
       "    0.00000000e+00 +0.00000000e+00j  -5.32501829e-15 +1.68047250e-16j\n",
       "    9.98305291e-17 -3.59823864e-18j   0.00000000e+00 +0.00000000e+00j]\n",
       " [ -2.49685135e-02 -4.97352698e-05j   0.00000000e+00 +0.00000000e+00j\n",
       "    0.00000000e+00 +0.00000000e+00j   6.24735211e-04 +0.00000000e+00j\n",
       "   -2.21019666e-05 +1.02418516e-07j   0.00000000e+00 +0.00000000e+00j\n",
       "    0.00000000e+00 +0.00000000e+00j   4.78725279e-07 -3.96056529e-09j\n",
       "   -1.19681568e-08 +1.62237112e-10j   0.00000000e+00 +0.00000000e+00j\n",
       "    0.00000000e+00 +0.00000000e+00j   2.22964388e-10 -4.05232344e-12j\n",
       "   -4.54752332e-12 +1.09619209e-13j   0.00000000e+00 +0.00000000e+00j\n",
       "    0.00000000e+00 +0.00000000e+00j   7.51191358e-14 -2.21909688e-15j\n",
       "   -1.32557278e-15 +4.78904703e-17j   0.00000000e+00 +0.00000000e+00j\n",
       "    0.00000000e+00 +0.00000000e+00j   1.98387077e-17 -8.39857331e-19j]\n",
       " [  8.83024879e-04 +5.27010997e-06j   0.00000000e+00 +0.00000000e+00j\n",
       "    0.00000000e+00 +0.00000000e+00j  -2.21019666e-05 -1.02418516e-07j\n",
       "    9.11415636e-07 +0.00000000e+00j   0.00000000e+00 +0.00000000e+00j\n",
       "    0.00000000e+00 +0.00000000e+00j  -2.25479129e-08 +8.40698056e-11j\n",
       "    7.04130963e-10 -6.86171201e-12j   0.00000000e+00 +0.00000000e+00j\n",
       "    0.00000000e+00 +0.00000000e+00j  -1.57391849e-11 +2.29665211e-13j\n",
       "    4.01418535e-13 -8.28453460e-15j   0.00000000e+00 +0.00000000e+00j\n",
       "    0.00000000e+00 +0.00000000e+00j  -7.96384228e-15 +2.03991358e-16j\n",
       "    1.72035043e-16 -5.38293370e-18j   0.00000000e+00 +0.00000000e+00j\n",
       "    0.00000000e+00 +0.00000000e+00j  -3.04843697e-18 +1.10137921e-19j]\n",
       " [  0.00000000e+00 +0.00000000e+00j   5.46429986e-07 +1.75764210e-06j\n",
       "   -2.20964012e-05 -8.81302255e-08j   0.00000000e+00 +0.00000000e+00j\n",
       "    0.00000000e+00 +0.00000000e+00j   7.81755867e-07 +0.00000000e+00j\n",
       "   -3.38741559e-08 +2.08024698e-10j   0.00000000e+00 +0.00000000e+00j\n",
       "    0.00000000e+00 +0.00000000e+00j   8.47383780e-10 -8.71995134e-12j\n",
       "   -2.36974711e-11 +3.69581663e-13j   0.00000000e+00 +0.00000000e+00j\n",
       "    0.00000000e+00 +0.00000000e+00j   4.83914697e-13 -9.63203053e-15j\n",
       "   -1.06718621e-14 +2.67183764e-16j   0.00000000e+00 +0.00000000e+00j\n",
       "    0.00000000e+00 +0.00000000e+00j   1.88676613e-16 -5.56661981e-18j\n",
       "   -3.53631802e-18 +1.22457007e-19j   0.00000000e+00 +0.00000000e+00j]\n",
       " [  0.00000000e+00 +0.00000000e+00j   7.25220144e-10 -7.58647875e-08j\n",
       "    9.56743176e-07 +9.53446270e-09j   0.00000000e+00 +0.00000000e+00j\n",
       "    0.00000000e+00 +0.00000000e+00j  -3.38741559e-08 -2.08024698e-10j\n",
       "    1.50906582e-09 +0.00000000e+00j   0.00000000e+00 +0.00000000e+00j\n",
       "    0.00000000e+00 +0.00000000e+00j  -3.87709741e-11 +1.62554468e-13j\n",
       "    1.14098202e-12 -1.12410083e-14j   0.00000000e+00 +0.00000000e+00j\n",
       "    0.00000000e+00 +0.00000000e+00j  -2.44566894e-14 +3.54606529e-16j\n",
       "    5.77611741e-16 -1.16856341e-17j   0.00000000e+00 +0.00000000e+00j\n",
       "    0.00000000e+00 +0.00000000e+00j  -1.08889725e-17 +2.74486781e-19j\n",
       "    2.21007339e-19 -6.84990627e-21j   0.00000000e+00 +0.00000000e+00j]\n",
       " [ -1.91235099e-05 -1.71178575e-07j   0.00000000e+00 +0.00000000e+00j\n",
       "    0.00000000e+00 +0.00000000e+00j   4.78725279e-07 +3.96056529e-09j\n",
       "   -2.25479129e-08 -8.40698056e-11j   0.00000000e+00 +0.00000000e+00j\n",
       "    0.00000000e+00 +0.00000000e+00j   6.10137502e-10 +0.00000000e+00j\n",
       "   -2.13517121e-11 +1.39266685e-13j   0.00000000e+00 +0.00000000e+00j\n",
       "    0.00000000e+00 +0.00000000e+00j   5.11659927e-13 -5.97988036e-15j\n",
       "   -1.39284682e-14 +2.56487211e-16j   0.00000000e+00 +0.00000000e+00j\n",
       "    0.00000000e+00 +0.00000000e+00j   2.87950822e-16 -6.92560258e-18j\n",
       "   -6.44709447e-18 +1.98650062e-19j   0.00000000e+00 +0.00000000e+00j\n",
       "    0.00000000e+00 +0.00000000e+00j   1.16991297e-19 -4.30247160e-21j]\n",
       " [  4.78162691e-07 +6.18105497e-09j   0.00000000e+00 +0.00000000e+00j\n",
       "    0.00000000e+00 +0.00000000e+00j  -1.19681568e-08 -1.62237112e-10j\n",
       "    7.04130963e-10 +6.86171201e-12j   0.00000000e+00 +0.00000000e+00j\n",
       "    0.00000000e+00 +0.00000000e+00j  -2.13517121e-11 -1.39266685e-13j\n",
       "    8.75531817e-13 +0.00000000e+00j   0.00000000e+00 +0.00000000e+00j\n",
       "    0.00000000e+00 +0.00000000e+00j  -2.33656656e-14 +1.19359348e-16j\n",
       "    7.34061430e-16 -9.09129576e-18j   0.00000000e+00 +0.00000000e+00j\n",
       "    0.00000000e+00 +0.00000000e+00j  -1.70743040e-17 +3.14403141e-19j\n",
       "    4.42103274e-19 -1.12732485e-20j   0.00000000e+00 +0.00000000e+00j\n",
       "    0.00000000e+00 +0.00000000e+00j  -9.08577031e-21 +3.03788710e-22j]\n",
       " [  0.00000000e+00 +0.00000000e+00j  -3.25193267e-10 +1.89163256e-09j\n",
       "   -2.39247010e-08 -3.33808680e-10j   0.00000000e+00 +0.00000000e+00j\n",
       "    0.00000000e+00 +0.00000000e+00j   8.47383780e-10 +8.71995134e-12j\n",
       "   -3.87709741e-11 -1.62554468e-13j   0.00000000e+00 +0.00000000e+00j\n",
       "    0.00000000e+00 +0.00000000e+00j   1.02088510e-12 +0.00000000e+00j\n",
       "   -3.13930681e-14 +1.88132863e-16j   0.00000000e+00 +0.00000000e+00j\n",
       "    0.00000000e+00 +0.00000000e+00j   6.99140078e-16 -7.69868473e-18j\n",
       "   -1.73405438e-17 +3.00627428e-19j   0.00000000e+00 +0.00000000e+00j\n",
       "    0.00000000e+00 +0.00000000e+00j   3.40787839e-19 -7.72089658e-21j\n",
       "   -7.20654987e-21 +2.08148332e-22j   0.00000000e+00 +0.00000000e+00j]\n",
       " [  0.00000000e+00 +0.00000000e+00j   1.77261532e-11 -5.26368750e-11j\n",
       "    6.68860999e-10 +1.26645298e-11j   0.00000000e+00 +0.00000000e+00j\n",
       "    0.00000000e+00 +0.00000000e+00j  -2.36974711e-11 -3.69581663e-13j\n",
       "    1.14098202e-12 +1.12410083e-14j   0.00000000e+00 +0.00000000e+00j\n",
       "    0.00000000e+00 +0.00000000e+00j  -3.13930681e-14 -1.88132863e-16j\n",
       "    1.06552426e-15 +0.00000000e+00j   0.00000000e+00 +0.00000000e+00j\n",
       "    0.00000000e+00 +0.00000000e+00j  -2.58385589e-17 +1.27283644e-19j\n",
       "    7.20660965e-19 -6.79480555e-20j   0.00000000e+00 +0.00000000e+00j\n",
       "    0.00000000e+00 +0.00000000e+00j  -8.43461013e-21 +3.97521624e-21j\n",
       "    1.61422551e-21 -1.19065192e-22j   0.00000000e+00 +0.00000000e+00j]\n",
       " [ -8.91141216e-09 -1.44721909e-10j   0.00000000e+00 +0.00000000e+00j\n",
       "    0.00000000e+00 +0.00000000e+00j   2.22964388e-10 +4.05232344e-12j\n",
       "   -1.57391849e-11 -2.29665211e-13j   0.00000000e+00 +0.00000000e+00j\n",
       "    0.00000000e+00 +0.00000000e+00j   5.11659927e-13 +5.97988036e-15j\n",
       "   -2.33656656e-14 -1.19359348e-16j   0.00000000e+00 +0.00000000e+00j\n",
       "    0.00000000e+00 +0.00000000e+00j   6.77478810e-16 +0.00000000e+00j\n",
       "   -2.35092964e-17 +1.96998721e-20j   0.00000000e+00 +0.00000000e+00j\n",
       "    0.00000000e+00 +0.00000000e+00j   5.71214434e-19 -8.62047402e-21j\n",
       "   -2.12841762e-20 +5.13036449e-21j   0.00000000e+00 +0.00000000e+00j\n",
       "    0.00000000e+00 +0.00000000e+00j   7.69439905e-22 +8.23118414e-22j]\n",
       " [  1.81917269e-10 +3.67755077e-12j   0.00000000e+00 +0.00000000e+00j\n",
       "    0.00000000e+00 +0.00000000e+00j  -4.54752332e-12 -1.09619209e-13j\n",
       "    4.01418535e-13 +8.28453460e-15j   0.00000000e+00 +0.00000000e+00j\n",
       "    0.00000000e+00 +0.00000000e+00j  -1.39284682e-14 -2.56487211e-16j\n",
       "    7.34061430e-16 +9.09129576e-18j   0.00000000e+00 +0.00000000e+00j\n",
       "    0.00000000e+00 +0.00000000e+00j  -2.35092964e-17 -1.96998721e-20j\n",
       "    7.52733632e-18 +0.00000000e+00j   0.00000000e+00 +0.00000000e+00j\n",
       "    0.00000000e+00 +0.00000000e+00j  -4.76502436e-19 -2.95719718e-19j\n",
       "   -9.20673961e-20 +5.27277664e-20j   0.00000000e+00 +0.00000000e+00j\n",
       "    0.00000000e+00 +0.00000000e+00j   6.98187869e-21 +3.32389616e-20j]\n",
       " [  0.00000000e+00 +0.00000000e+00j  -4.80179827e-13 +1.07018050e-12j\n",
       "   -1.36565545e-11 -3.13019488e-13j   0.00000000e+00 +0.00000000e+00j\n",
       "    0.00000000e+00 +0.00000000e+00j   4.83914697e-13 +9.63203053e-15j\n",
       "   -2.44566894e-14 -3.54606529e-16j   0.00000000e+00 +0.00000000e+00j\n",
       "    0.00000000e+00 +0.00000000e+00j   6.99140078e-16 +7.69868473e-18j\n",
       "   -2.58385589e-17 -1.27283644e-19j   0.00000000e+00 +0.00000000e+00j\n",
       "    0.00000000e+00 +0.00000000e+00j   5.96609746e-18 +0.00000000e+00j\n",
       "   -2.70324961e-19 -9.19555492e-19j   0.00000000e+00 +0.00000000e+00j\n",
       "    0.00000000e+00 +0.00000000e+00j   2.61747653e-19 +5.13768811e-20j\n",
       "    4.90229425e-20 +1.52414735e-21j   0.00000000e+00 +0.00000000e+00j]\n",
       " [  0.00000000e+00 +0.00000000e+00j   1.32117713e-14 -2.34694956e-14j\n",
       "    3.01164543e-13 +8.30347885e-15j   0.00000000e+00 +0.00000000e+00j\n",
       "    0.00000000e+00 +0.00000000e+00j  -1.06718621e-14 -2.67183764e-16j\n",
       "    5.77611741e-16 +1.16856341e-17j   0.00000000e+00 +0.00000000e+00j\n",
       "    0.00000000e+00 +0.00000000e+00j  -1.73405438e-17 -3.00627428e-19j\n",
       "    7.20660965e-19 +6.79480555e-20j   0.00000000e+00 +0.00000000e+00j\n",
       "    0.00000000e+00 +0.00000000e+00j  -2.70324961e-19 +9.19555492e-19j\n",
       "    5.81839820e-18 +0.00000000e+00j   0.00000000e+00 +0.00000000e+00j\n",
       "    0.00000000e+00 +0.00000000e+00j   4.21958823e-18 -1.41488616e-19j\n",
       "   -1.12981083e-19 +1.71431163e-20j   0.00000000e+00 +0.00000000e+00j]\n",
       " [ -3.00839702e-12 -7.12827202e-14j   0.00000000e+00 +0.00000000e+00j\n",
       "    0.00000000e+00 +0.00000000e+00j   7.51191358e-14 +2.21909688e-15j\n",
       "   -7.96384228e-15 -2.03991358e-16j   0.00000000e+00 +0.00000000e+00j\n",
       "    0.00000000e+00 +0.00000000e+00j   2.87950822e-16 +6.92560258e-18j\n",
       "   -1.70743040e-17 -3.14403141e-19j   0.00000000e+00 +0.00000000e+00j\n",
       "    0.00000000e+00 +0.00000000e+00j   5.71214434e-19 +8.62047402e-21j\n",
       "   -4.76502436e-19 +2.95719718e-19j   0.00000000e+00 +0.00000000e+00j\n",
       "    0.00000000e+00 +0.00000000e+00j   1.86532649e-19 +0.00000000e+00j\n",
       "   -1.88772631e-18 +5.29147216e-19j   0.00000000e+00 +0.00000000e+00j\n",
       "    0.00000000e+00 +0.00000000e+00j   9.10090387e-20 +1.06722729e-18j]\n",
       " [  5.31822729e-14 +1.47158804e-15j   0.00000000e+00 +0.00000000e+00j\n",
       "    0.00000000e+00 +0.00000000e+00j  -1.32557278e-15 -4.78904703e-17j\n",
       "    1.72035043e-16 +5.38293370e-18j   0.00000000e+00 +0.00000000e+00j\n",
       "    0.00000000e+00 +0.00000000e+00j  -6.44709447e-18 -1.98650062e-19j\n",
       "    4.42103274e-19 +1.12732485e-20j   0.00000000e+00 +0.00000000e+00j\n",
       "    0.00000000e+00 +0.00000000e+00j  -2.12841762e-20 -5.13036449e-21j\n",
       "   -9.20673961e-20 -5.27277664e-20j   0.00000000e+00 +0.00000000e+00j\n",
       "    0.00000000e+00 +0.00000000e+00j  -1.88772631e-18 -5.29147216e-19j\n",
       "    2.61955339e-19 +0.00000000e+00j   0.00000000e+00 +0.00000000e+00j\n",
       "    0.00000000e+00 +0.00000000e+00j   1.28969452e-20 +7.50281854e-20j]\n",
       " [  0.00000000e+00 +0.00000000e+00j  -2.68581639e-16 +4.12852081e-16j\n",
       "   -5.32501829e-15 -1.68047250e-16j   0.00000000e+00 +0.00000000e+00j\n",
       "    0.00000000e+00 +0.00000000e+00j   1.88676613e-16 +5.56661981e-18j\n",
       "   -1.08889725e-17 -2.74486781e-19j   0.00000000e+00 +0.00000000e+00j\n",
       "    0.00000000e+00 +0.00000000e+00j   3.40787839e-19 +7.72089658e-21j\n",
       "   -8.43461013e-21 -3.97521624e-21j   0.00000000e+00 +0.00000000e+00j\n",
       "    0.00000000e+00 +0.00000000e+00j   2.61747653e-19 -5.13768811e-20j\n",
       "    4.21958823e-18 +1.41488616e-19j   0.00000000e+00 +0.00000000e+00j\n",
       "    0.00000000e+00 +0.00000000e+00j  -6.19666206e-17 +0.00000000e+00j\n",
       "    3.03071077e-18 +1.30913567e-17j   0.00000000e+00 +0.00000000e+00j]\n",
       " [  0.00000000e+00 +0.00000000e+00j   5.69428219e-18 -7.69299860e-18j\n",
       "    9.98305291e-17 +3.59823864e-18j   0.00000000e+00 +0.00000000e+00j\n",
       "    0.00000000e+00 +0.00000000e+00j  -3.53631802e-18 -1.22457007e-19j\n",
       "    2.21007339e-19 +6.84990627e-21j   0.00000000e+00 +0.00000000e+00j\n",
       "    0.00000000e+00 +0.00000000e+00j  -7.20654987e-21 -2.08148332e-22j\n",
       "    1.61422551e-21 +1.19065192e-22j   0.00000000e+00 +0.00000000e+00j\n",
       "    0.00000000e+00 +0.00000000e+00j   4.90229425e-20 -1.52414735e-21j\n",
       "   -1.12981083e-19 -1.71431163e-20j   0.00000000e+00 +0.00000000e+00j\n",
       "    0.00000000e+00 +0.00000000e+00j   3.03071077e-18 -1.30913567e-17j\n",
       "   -6.19765381e-17 +0.00000000e+00j   0.00000000e+00 +0.00000000e+00j]\n",
       " [ -7.97545642e-16 -2.49256213e-17j   0.00000000e+00 +0.00000000e+00j\n",
       "    0.00000000e+00 +0.00000000e+00j   1.98387077e-17 +8.39857331e-19j\n",
       "   -3.04843697e-18 -1.10137921e-19j   0.00000000e+00 +0.00000000e+00j\n",
       "    0.00000000e+00 +0.00000000e+00j   1.16991297e-19 +4.30247160e-21j\n",
       "   -9.08577031e-21 -3.03788710e-22j   0.00000000e+00 +0.00000000e+00j\n",
       "    0.00000000e+00 +0.00000000e+00j   7.69439905e-22 -8.23118414e-22j\n",
       "    6.98187869e-21 -3.32389616e-20j   0.00000000e+00 +0.00000000e+00j\n",
       "    0.00000000e+00 +0.00000000e+00j   9.10090387e-20 -1.06722729e-18j\n",
       "    1.28969452e-20 -7.50281854e-20j   0.00000000e+00 +0.00000000e+00j\n",
       "    0.00000000e+00 +0.00000000e+00j   3.14277328e-19 +0.00000000e+00j]]"
      ]
     },
     "metadata": {},
     "output_type": "display_data"
    },
    {
     "name": "stdout",
     "output_type": "stream",
     "text": [
      "==================== Steadystate expectation values\n",
      "R_ob:  [0.0006269556884685608, 0.0006253905020122077]\n",
      "R_eb:  [0.0006269556893783309, 0.0006253905020103645]\n",
      "L   :  [0.0012531197519054338, 0.0012536697716992462]\n",
      "==================== Dynamics final states\n",
      "R:  [0.00062695568938809241, 0.00062539050201271512]\n",
      "L:  [0.0012531197519057469, 0.0012536697716989808]\n"
     ]
    }
   ],
   "source": [
    "solve(H, psi0, c_ops, a_ops, e_ops)"
   ]
  },
  {
   "cell_type": "markdown",
   "metadata": {},
   "source": [
    "### Strong coupling"
   ]
  },
  {
   "cell_type": "code",
   "execution_count": 37,
   "metadata": {},
   "outputs": [],
   "source": [
    "w0 = 1.0 * 2 * np.pi\n",
    "g = 0.75 * 2 * np.pi\n",
    "kappa = 0.05\n",
    "times = np.linspace(0, 150 * 2 * np.pi / g, 1000)"
   ]
  },
  {
   "cell_type": "code",
   "execution_count": 38,
   "metadata": {},
   "outputs": [],
   "source": [
    "c_ops = [np.sqrt(kappa) * a]\n",
    "H = w0 * a.dag() * a + w0 * sm.dag() * sm + g * (a + a.dag()) * (sm + sm.dag())"
   ]
  },
  {
   "cell_type": "code",
   "execution_count": 39,
   "metadata": {},
   "outputs": [
    {
     "data": {
      "image/png": "[encoded data removed]",
      "text/plain": [
       "<matplotlib.figure.Figure at 0x1147d0be0>"
      ]
     },
     "metadata": {},
     "output_type": "display_data"
    },
    {
     "name": "stdout",
     "output_type": "stream",
     "text": [
      "==================== Bloch-Redfield tensor: \n"
     ]
    },
    {
     "data": {
      "text/latex": [
       "Quantum object: dims = [[[10, 2], [10, 2]], [[10, 2], [10, 2]]], shape = (400, 400), type = super, isherm = False\\begin{equation*}\\left(\\begin{array}{*{11}c}0.0 & 0.0 & 0.0 & 0.0 & 0.0 & \\cdots & 0.0 & 0.0 & 0.0 & 0.0 & 0.0\\\\0.0 & (-0.051-1.885j) & 0.0 & 0.0 & 0.0 & \\cdots & 0.0 & 0.0 & 0.0 & 0.0 & 0.0\\\\0.0 & 0.0 & (-0.052-6.705j) & 0.0 & 0.0 & \\cdots & 0.0 & 0.0 & 0.0 & 0.0 & 0.0\\\\0.0 & 0.0 & 0.0 & (-0.069-9.264j) & 0.0 & \\cdots & 0.0 & 0.0 & 0.0 & 0.0 & 0.0\\\\0.0 & 0.0 & 0.0 & 0.0 & (-0.037-13.304j) & \\cdots & 0.0 & 0.0 & 0.0 & 0.0 & 0.0\\\\\\vdots & \\vdots & \\vdots & \\vdots & \\vdots & \\ddots & \\vdots & \\vdots & \\vdots & \\vdots & \\vdots\\\\0.0 & 0.0 & 0.0 & 0.0 & 0.0 & \\cdots & (-0.595+26.008j) & 0.0 & 0.0 & 0.0 & 0.0\\\\0.0 & 0.0 & 0.0 & 0.0 & 0.0 & \\cdots & 0.0 & (-0.557+16.303j) & 0.0 & 0.0 & 0.0\\\\0.0 & 0.0 & 0.0 & 0.0 & 0.0 & \\cdots & 0.0 & 0.0 & (-0.681+14.149j) & 0.0 & 0.0\\\\0.0 & 0.0 & 0.0 & 0.0 & 0.0 & \\cdots & 0.0 & 0.0 & 0.0 & (-0.514+0.513j) & 0.0\\\\0.0 & 0.0 & 0.0 & 0.0 & 0.0 & \\cdots & 0.0 & 0.0 & 0.0 & 0.0 & -0.948\\\\\\end{array}\\right)\\end{equation*}"
      ],
      "text/plain": [
       "Quantum object: dims = [[[10, 2], [10, 2]], [[10, 2], [10, 2]]], shape = (400, 400), type = super, isherm = False\n",
       "Qobj data =\n",
       "[[ 0.00000000 +0.j          0.00000000 +0.j          0.00000000 +0.j         ...,\n",
       "   0.00000000 +0.j          0.00000000 +0.j          0.00000000 +0.j        ]\n",
       " [ 0.00000000 +0.j         -0.05067391 -1.88466252j  0.00000000 +0.j         ...,\n",
       "   0.00000000 +0.j          0.00000000 +0.j          0.00000000 +0.j        ]\n",
       " [ 0.00000000 +0.j          0.00000000 +0.j         -0.05172134 -6.70461497j\n",
       "  ...,  0.00000000 +0.j          0.00000000 +0.j          0.00000000 +0.j        ]\n",
       " ..., \n",
       " [ 0.00000000 +0.j          0.00000000 +0.j          0.00000000 +0.j         ...,\n",
       "  -0.68122977+14.14935361j  0.00000000 +0.j          0.00000000 +0.j        ]\n",
       " [ 0.00000000 +0.j          0.00000000 +0.j          0.00000000 +0.j         ...,\n",
       "   0.00000000 +0.j         -0.51432716 +0.51299852j  0.00000000 +0.j        ]\n",
       " [ 0.00000000 +0.j          0.00000000 +0.j          0.00000000 +0.j         ...,\n",
       "   0.00000000 +0.j          0.00000000 +0.j         -0.94788098 +0.j        ]]"
      ]
     },
     "metadata": {},
     "output_type": "display_data"
    },
    {
     "name": "stdout",
     "output_type": "stream",
     "text": [
      "==================== Lindblad liouvilllian: \n"
     ]
    },
    {
     "data": {
      "text/latex": [
       "Quantum object: dims = [[[10, 2], [10, 2]], [[10, 2], [10, 2]]], shape = (400, 400), type = super, isherm = False\\begin{equation*}\\left(\\begin{array}{*{11}c}0.0 & 0.0 & 0.0 & -4.712j & 0.0 & \\cdots & 0.0 & 0.0 & 0.0 & 0.0 & 0.0\\\\0.0 & -6.283j & -4.712j & 0.0 & 0.0 & \\cdots & 0.0 & 0.0 & 0.0 & 0.0 & 0.0\\\\0.0 & -4.712j & (-0.025-6.283j) & 0.0 & 0.0 & \\cdots & 0.0 & 0.0 & 0.0 & 0.0 & 0.0\\\\-4.712j & 0.0 & 0.0 & (-0.025-12.566j) & -6.664j & \\cdots & 0.0 & 0.0 & 0.0 & 0.0 & 0.0\\\\0.0 & 0.0 & 0.0 & -6.664j & (-0.050-12.566j) & \\cdots & 0.0 & 0.0 & 0.0 & 0.0 & 0.0\\\\\\vdots & \\vdots & \\vdots & \\vdots & \\vdots & \\ddots & \\vdots & \\vdots & \\vdots & \\vdots & \\vdots\\\\0.0 & 0.0 & 0.0 & 0.0 & 0.0 & \\cdots & (-0.400+12.566j) & -13.329j & 0.0 & 0.0 & 0.0\\\\0.0 & 0.0 & 0.0 & 0.0 & 0.0 & \\cdots & -13.329j & (-0.425+12.566j) & 0.0 & 0.0 & -14.137j\\\\0.0 & 0.0 & 0.0 & 0.0 & 0.0 & \\cdots & 0.0 & 0.0 & (-0.425+6.283j) & -14.137j & 0.0\\\\0.0 & 0.0 & 0.0 & 0.0 & 0.0 & \\cdots & 0.0 & 0.0 & -14.137j & (-0.450+6.283j) & 0.0\\\\0.0 & 0.0 & 0.0 & 0.0 & 0.0 & \\cdots & 0.0 & -14.137j & 0.0 & 0.0 & -0.450\\\\\\end{array}\\right)\\end{equation*}"
      ],
      "text/plain": [
       "Quantum object: dims = [[[10, 2], [10, 2]], [[10, 2], [10, 2]]], shape = (400, 400), type = super, isherm = False\n",
       "Qobj data =\n",
       "[[ 0.000 +0.j          0.000 +0.j          0.000 +0.j         ...,\n",
       "   0.000 +0.j          0.000 +0.j          0.000 +0.j        ]\n",
       " [ 0.000 +0.j          0.000 -6.28318531j  0.000 -4.71238898j ...,\n",
       "   0.000 +0.j          0.000 +0.j          0.000 +0.j        ]\n",
       " [ 0.000 +0.j          0.000 -4.71238898j -0.025 -6.28318531j ...,\n",
       "   0.000 +0.j          0.000 +0.j          0.000 +0.j        ]\n",
       " ..., \n",
       " [ 0.000 +0.j          0.000 +0.j          0.000 +0.j         ...,\n",
       "  -0.425 +6.28318531j  0.000-14.13716694j  0.000 +0.j        ]\n",
       " [ 0.000 +0.j          0.000 +0.j          0.000 +0.j         ...,\n",
       "   0.000-14.13716694j -0.450 +6.28318531j  0.000 +0.j        ]\n",
       " [ 0.000 +0.j          0.000 +0.j          0.000 +0.j         ...,\n",
       "   0.000 +0.j          0.000 +0.j         -0.450 +0.j        ]]"
      ]
     },
     "metadata": {},
     "output_type": "display_data"
    },
    {
     "name": "stdout",
     "output_type": "stream",
     "text": [
      "==================== Bloch-Redfield steadystate dm\n"
     ]
    },
    {
     "data": {
      "text/latex": [
       "Quantum object: dims = [[10, 2], [10, 2]], shape = (20, 20), type = oper, isherm = True\\begin{equation*}\\left(\\begin{array}{*{11}c}0.795 & 0.0 & 0.0 & -0.345 & 0.195 & \\cdots & -6.264\\times10^{-04} & 1.696\\times10^{-04} & 0.0 & 0.0 & -3.695\\times10^{-05}\\\\0.0 & 0.0 & 0.0 & 0.0 & 0.0 & \\cdots & 0.0 & 0.0 & 0.0 & 0.0 & 0.0\\\\0.0 & 0.0 & 0.0 & 0.0 & 0.0 & \\cdots & 0.0 & 0.0 & 0.0 & 0.0 & 0.0\\\\-0.345 & 0.0 & 0.0 & 0.150 & -0.085 & \\cdots & 2.722\\times10^{-04} & -7.370\\times10^{-05} & 0.0 & 0.0 & 1.606\\times10^{-05}\\\\0.195 & 0.0 & 0.0 & -0.085 & 0.048 & \\cdots & -1.540\\times10^{-04} & 4.170\\times10^{-05} & 0.0 & 0.0 & -9.086\\times10^{-06}\\\\\\vdots & \\vdots & \\vdots & \\vdots & \\vdots & \\ddots & \\vdots & \\vdots & \\vdots & \\vdots & \\vdots\\\\-6.264\\times10^{-04} & 0.0 & 0.0 & 2.722\\times10^{-04} & -1.540\\times10^{-04} & \\cdots & 4.935\\times10^{-07} & -1.336\\times10^{-07} & 0.0 & 0.0 & 2.911\\times10^{-08}\\\\1.696\\times10^{-04} & 0.0 & 0.0 & -7.370\\times10^{-05} & 4.170\\times10^{-05} & \\cdots & -1.336\\times10^{-07} & 3.617\\times10^{-08} & 0.0 & 0.0 & -7.882\\times10^{-09}\\\\0.0 & 0.0 & 0.0 & 0.0 & 0.0 & \\cdots & 0.0 & 0.0 & 0.0 & 0.0 & 0.0\\\\0.0 & 0.0 & 0.0 & 0.0 & 0.0 & \\cdots & 0.0 & 0.0 & 0.0 & 0.0 & 0.0\\\\-3.695\\times10^{-05} & 0.0 & 0.0 & 1.606\\times10^{-05} & -9.086\\times10^{-06} & \\cdots & 2.911\\times10^{-08} & -7.882\\times10^{-09} & 0.0 & 0.0 & 1.717\\times10^{-09}\\\\\\end{array}\\right)\\end{equation*}"
      ],
      "text/plain": [
       "Quantum object: dims = [[10, 2], [10, 2]], shape = (20, 20), type = oper, isherm = True\n",
       "Qobj data =\n",
       "[[  7.95021691e-01   0.00000000e+00   0.00000000e+00  -3.45496723e-01\n",
       "    1.95477701e-01   0.00000000e+00   0.00000000e+00  -6.79064848e-02\n",
       "    2.65505422e-02   0.00000000e+00   0.00000000e+00  -7.74937530e-03\n",
       "    2.44698782e-03   0.00000000e+00   0.00000000e+00  -6.26395795e-04\n",
       "    1.69581885e-04   0.00000000e+00   0.00000000e+00  -3.69515569e-05]\n",
       " [  0.00000000e+00   0.00000000e+00   0.00000000e+00   0.00000000e+00\n",
       "    0.00000000e+00   0.00000000e+00   0.00000000e+00   0.00000000e+00\n",
       "    0.00000000e+00   0.00000000e+00   0.00000000e+00   0.00000000e+00\n",
       "    0.00000000e+00   0.00000000e+00   0.00000000e+00   0.00000000e+00\n",
       "    0.00000000e+00   0.00000000e+00   0.00000000e+00   0.00000000e+00]\n",
       " [  0.00000000e+00   0.00000000e+00   0.00000000e+00   0.00000000e+00\n",
       "    0.00000000e+00   0.00000000e+00   0.00000000e+00   0.00000000e+00\n",
       "    0.00000000e+00   0.00000000e+00   0.00000000e+00   0.00000000e+00\n",
       "    0.00000000e+00   0.00000000e+00   0.00000000e+00   0.00000000e+00\n",
       "    0.00000000e+00   0.00000000e+00   0.00000000e+00   0.00000000e+00]\n",
       " [ -3.45496723e-01   0.00000000e+00   0.00000000e+00   1.50144313e-01\n",
       "   -8.49497639e-02   0.00000000e+00   0.00000000e+00   2.95104752e-02\n",
       "   -1.15382076e-02   0.00000000e+00   0.00000000e+00   3.36768644e-03\n",
       "   -1.06340026e-03   0.00000000e+00   0.00000000e+00   2.72216087e-04\n",
       "   -7.36960843e-05   0.00000000e+00   0.00000000e+00   1.60582308e-05]\n",
       " [  1.95477701e-01   0.00000000e+00   0.00000000e+00  -8.49497639e-02\n",
       "    4.80635081e-02   0.00000000e+00   0.00000000e+00  -1.66966558e-02\n",
       "    6.52817276e-03   0.00000000e+00   0.00000000e+00  -1.90539464e-03\n",
       "    6.01658493e-04   0.00000000e+00   0.00000000e+00  -1.54016439e-04\n",
       "    4.16963177e-05   0.00000000e+00   0.00000000e+00  -9.08554504e-06]\n",
       " [  0.00000000e+00   0.00000000e+00   0.00000000e+00   0.00000000e+00\n",
       "    0.00000000e+00   0.00000000e+00   0.00000000e+00   0.00000000e+00\n",
       "    0.00000000e+00   0.00000000e+00   0.00000000e+00   0.00000000e+00\n",
       "    0.00000000e+00   0.00000000e+00   0.00000000e+00   0.00000000e+00\n",
       "    0.00000000e+00   0.00000000e+00   0.00000000e+00   0.00000000e+00]\n",
       " [  0.00000000e+00   0.00000000e+00   0.00000000e+00   0.00000000e+00\n",
       "    0.00000000e+00   0.00000000e+00   0.00000000e+00   0.00000000e+00\n",
       "    0.00000000e+00   0.00000000e+00   0.00000000e+00   0.00000000e+00\n",
       "    0.00000000e+00   0.00000000e+00   0.00000000e+00   0.00000000e+00\n",
       "    0.00000000e+00   0.00000000e+00   0.00000000e+00   0.00000000e+00]\n",
       " [ -6.79064848e-02   0.00000000e+00   0.00000000e+00   2.95104752e-02\n",
       "   -1.66966558e-02   0.00000000e+00   0.00000000e+00   5.80020737e-03\n",
       "   -2.26780478e-03   0.00000000e+00   0.00000000e+00   6.61910035e-04\n",
       "   -2.09008563e-04   0.00000000e+00   0.00000000e+00   5.35033660e-05\n",
       "   -1.44847742e-05   0.00000000e+00   0.00000000e+00   3.15620361e-06]\n",
       " [  2.65505422e-02   0.00000000e+00   0.00000000e+00  -1.15382076e-02\n",
       "    6.52817276e-03   0.00000000e+00   0.00000000e+00  -2.26780478e-03\n",
       "    8.86681836e-04   0.00000000e+00   0.00000000e+00  -2.58798116e-04\n",
       "    8.17195985e-05   0.00000000e+00   0.00000000e+00  -2.09191122e-05\n",
       "    5.66335618e-06   0.00000000e+00   0.00000000e+00  -1.23403409e-06]\n",
       " [  0.00000000e+00   0.00000000e+00   0.00000000e+00   0.00000000e+00\n",
       "    0.00000000e+00   0.00000000e+00   0.00000000e+00   0.00000000e+00\n",
       "    0.00000000e+00   0.00000000e+00   0.00000000e+00   0.00000000e+00\n",
       "    0.00000000e+00   0.00000000e+00   0.00000000e+00   0.00000000e+00\n",
       "    0.00000000e+00   0.00000000e+00   0.00000000e+00   0.00000000e+00]\n",
       " [  0.00000000e+00   0.00000000e+00   0.00000000e+00   0.00000000e+00\n",
       "    0.00000000e+00   0.00000000e+00   0.00000000e+00   0.00000000e+00\n",
       "    0.00000000e+00   0.00000000e+00   0.00000000e+00   0.00000000e+00\n",
       "    0.00000000e+00   0.00000000e+00   0.00000000e+00   0.00000000e+00\n",
       "    0.00000000e+00   0.00000000e+00   0.00000000e+00   0.00000000e+00]\n",
       " [ -7.74937530e-03   0.00000000e+00   0.00000000e+00   3.36768644e-03\n",
       "   -1.90539464e-03   0.00000000e+00   0.00000000e+00   6.61910035e-04\n",
       "   -2.58798116e-04   0.00000000e+00   0.00000000e+00   7.55360743e-05\n",
       "   -2.38517102e-05   0.00000000e+00   0.00000000e+00   6.10571529e-06\n",
       "   -1.65297839e-06   0.00000000e+00   0.00000000e+00   3.60180716e-07]\n",
       " [  2.44698782e-03   0.00000000e+00   0.00000000e+00  -1.06340026e-03\n",
       "    6.01658493e-04   0.00000000e+00   0.00000000e+00  -2.09008563e-04\n",
       "    8.17195985e-05   0.00000000e+00   0.00000000e+00  -2.38517102e-05\n",
       "    7.53155473e-06   0.00000000e+00   0.00000000e+00  -1.92797617e-06\n",
       "    5.21954070e-07   0.00000000e+00   0.00000000e+00  -1.13732758e-07]\n",
       " [  0.00000000e+00   0.00000000e+00   0.00000000e+00   0.00000000e+00\n",
       "    0.00000000e+00   0.00000000e+00   0.00000000e+00   0.00000000e+00\n",
       "    0.00000000e+00   0.00000000e+00   0.00000000e+00   0.00000000e+00\n",
       "    0.00000000e+00   0.00000000e+00   0.00000000e+00   0.00000000e+00\n",
       "    0.00000000e+00   0.00000000e+00   0.00000000e+00   0.00000000e+00]\n",
       " [  0.00000000e+00   0.00000000e+00   0.00000000e+00   0.00000000e+00\n",
       "    0.00000000e+00   0.00000000e+00   0.00000000e+00   0.00000000e+00\n",
       "    0.00000000e+00   0.00000000e+00   0.00000000e+00   0.00000000e+00\n",
       "    0.00000000e+00   0.00000000e+00   0.00000000e+00   0.00000000e+00\n",
       "    0.00000000e+00   0.00000000e+00   0.00000000e+00   0.00000000e+00]\n",
       " [ -6.26395795e-04   0.00000000e+00   0.00000000e+00   2.72216087e-04\n",
       "   -1.54016439e-04   0.00000000e+00   0.00000000e+00   5.35033660e-05\n",
       "   -2.09191122e-05   0.00000000e+00   0.00000000e+00   6.10571529e-06\n",
       "   -1.92797617e-06   0.00000000e+00   0.00000000e+00   4.93535832e-07\n",
       "   -1.33613184e-07   0.00000000e+00   0.00000000e+00   2.91140482e-08]\n",
       " [  1.69581885e-04   0.00000000e+00   0.00000000e+00  -7.36960843e-05\n",
       "    4.16963177e-05   0.00000000e+00   0.00000000e+00  -1.44847742e-05\n",
       "    5.66335618e-06   0.00000000e+00   0.00000000e+00  -1.65297839e-06\n",
       "    5.21954070e-07   0.00000000e+00   0.00000000e+00  -1.33613184e-07\n",
       "    3.61726178e-08   0.00000000e+00   0.00000000e+00  -7.88194177e-09]\n",
       " [  0.00000000e+00   0.00000000e+00   0.00000000e+00   0.00000000e+00\n",
       "    0.00000000e+00   0.00000000e+00   0.00000000e+00   0.00000000e+00\n",
       "    0.00000000e+00   0.00000000e+00   0.00000000e+00   0.00000000e+00\n",
       "    0.00000000e+00   0.00000000e+00   0.00000000e+00   0.00000000e+00\n",
       "    0.00000000e+00   0.00000000e+00   0.00000000e+00   0.00000000e+00]\n",
       " [  0.00000000e+00   0.00000000e+00   0.00000000e+00   0.00000000e+00\n",
       "    0.00000000e+00   0.00000000e+00   0.00000000e+00   0.00000000e+00\n",
       "    0.00000000e+00   0.00000000e+00   0.00000000e+00   0.00000000e+00\n",
       "    0.00000000e+00   0.00000000e+00   0.00000000e+00   0.00000000e+00\n",
       "    0.00000000e+00   0.00000000e+00   0.00000000e+00   0.00000000e+00]\n",
       " [ -3.69515569e-05   0.00000000e+00   0.00000000e+00   1.60582308e-05\n",
       "   -9.08554504e-06   0.00000000e+00   0.00000000e+00   3.15620361e-06\n",
       "   -1.23403409e-06   0.00000000e+00   0.00000000e+00   3.60180716e-07\n",
       "   -1.13732758e-07   0.00000000e+00   0.00000000e+00   2.91140482e-08\n",
       "   -7.88194177e-09   0.00000000e+00   0.00000000e+00   1.71745950e-09]]"
      ]
     },
     "metadata": {},
     "output_type": "display_data"
    },
    {
     "name": "stdout",
     "output_type": "stream",
     "text": [
      "==================== Lindblad steadystate dm\n"
     ]
    },
    {
     "data": {
      "text/latex": [
       "Quantum object: dims = [[10, 2], [10, 2]], shape = (20, 20), type = oper, isherm = True\\begin{equation*}\\left(\\begin{array}{*{11}c}0.595 & 0.0 & 0.0 & (-0.256+6.823\\times10^{-04}j) & (0.143-9.396\\times10^{-04}j) & \\cdots & (-4.275\\times10^{-04}+1.073\\times10^{-05}j) & (1.136\\times10^{-04}-3.328\\times10^{-06}j) & 0.0 & 0.0 & (-2.435\\times10^{-05}+8.046\\times10^{-07}j)\\\\0.0 & 0.073 & (-0.092+6.046\\times10^{-04}j) & 0.0 & 0.0 & \\cdots & 0.0 & 0.0 & (4.927\\times10^{-05}-5.798\\times10^{-07}j) & (-1.237\\times10^{-05}+1.515\\times10^{-07}j) & 0.0\\\\0.0 & (-0.092-6.046\\times10^{-04}j) & 0.129 & 0.0 & 0.0 & \\cdots & 0.0 & 0.0 & (-6.825\\times10^{-05}+2.628\\times10^{-06}j) & (1.592\\times10^{-05}-7.139\\times10^{-07}j) & 0.0\\\\(-0.256-6.823\\times10^{-04}j) & 0.0 & 0.0 & 0.114 & (-0.066+2.619\\times10^{-04}j) & \\cdots & (2.457\\times10^{-04}-4.655\\times10^{-06}j) & (-7.023\\times10^{-05}+1.572\\times10^{-06}j) & 0.0 & 0.0 & (1.610\\times10^{-05}-4.199\\times10^{-07}j)\\\\(0.143+9.396\\times10^{-04}j) & 0.0 & 0.0 & (-0.066-2.619\\times10^{-04}j) & 0.042 & \\cdots & (-1.764\\times10^{-04}+2.688\\times10^{-06}j) & (4.798\\times10^{-05}-8.212\\times10^{-07}j) & 0.0 & 0.0 & (-1.033\\times10^{-05}+2.020\\times10^{-07}j)\\\\\\vdots & \\vdots & \\vdots & \\vdots & \\vdots & \\ddots & \\vdots & \\vdots & \\vdots & \\vdots & \\vdots\\\\(-4.275\\times10^{-04}-1.073\\times10^{-05}j) & 0.0 & 0.0 & (2.457\\times10^{-04}+4.655\\times10^{-06}j) & (-1.764\\times10^{-04}-2.688\\times10^{-06}j) & \\cdots & 1.254\\times10^{-05} & (-6.267\\times10^{-06}+5.402\\times10^{-08}j) & 0.0 & 0.0 & (2.063\\times10^{-06}-3.414\\times10^{-08}j)\\\\(1.136\\times10^{-04}+3.328\\times10^{-06}j) & 0.0 & 0.0 & (-7.023\\times10^{-05}-1.572\\times10^{-06}j) & (4.798\\times10^{-05}+8.212\\times10^{-07}j) & \\cdots & (-6.267\\times10^{-06}-5.402\\times10^{-08}j) & 3.769\\times10^{-06} & 0.0 & 0.0 & (-1.360\\times10^{-06}+9.785\\times10^{-09}j)\\\\0.0 & (4.927\\times10^{-05}+5.798\\times10^{-07}j) & (-6.825\\times10^{-05}-2.628\\times10^{-06}j) & 0.0 & 0.0 & \\cdots & 0.0 & 0.0 & 3.466\\times10^{-06} & (-1.444\\times10^{-06}+1.217\\times10^{-08}j) & 0.0\\\\0.0 & (-1.237\\times10^{-05}-1.515\\times10^{-07}j) & (1.592\\times10^{-05}+7.139\\times10^{-07}j) & 0.0 & 0.0 & \\cdots & 0.0 & 0.0 & (-1.444\\times10^{-06}-1.217\\times10^{-08}j) & 7.649\\times10^{-07} & 0.0\\\\(-2.435\\times10^{-05}-8.046\\times10^{-07}j) & 0.0 & 0.0 & (1.610\\times10^{-05}+4.199\\times10^{-07}j) & (-1.033\\times10^{-05}-2.020\\times10^{-07}j) & \\cdots & (2.063\\times10^{-06}+3.414\\times10^{-08}j) & (-1.360\\times10^{-06}-9.785\\times10^{-09}j) & 0.0 & 0.0 & 6.148\\times10^{-07}\\\\\\end{array}\\right)\\end{equation*}"
      ],
      "text/plain": [
       "Quantum object: dims = [[10, 2], [10, 2]], shape = (20, 20), type = oper, isherm = True\n",
       "Qobj data =\n",
       "[[  5.95464357e-01 +0.00000000e+00j   0.00000000e+00 +0.00000000e+00j\n",
       "    0.00000000e+00 +0.00000000e+00j  -2.56335597e-01 +6.82349752e-04j\n",
       "    1.42881636e-01 -9.39604405e-04j   0.00000000e+00 +0.00000000e+00j\n",
       "    0.00000000e+00 +0.00000000e+00j  -4.90719593e-02 +4.79253918e-04j\n",
       "    1.89137499e-02 -2.60248108e-04j   0.00000000e+00 +0.00000000e+00j\n",
       "    0.00000000e+00 +0.00000000e+00j  -5.45196704e-03 +9.40858646e-05j\n",
       "    1.69510288e-03 -3.62277167e-05j   0.00000000e+00 +0.00000000e+00j\n",
       "    0.00000000e+00 +0.00000000e+00j  -4.27510005e-04 +1.07283714e-05j\n",
       "    1.13614630e-04 -3.32830054e-06j   0.00000000e+00 +0.00000000e+00j\n",
       "    0.00000000e+00 +0.00000000e+00j  -2.43530912e-05 +8.04586637e-07j]\n",
       " [  0.00000000e+00 +0.00000000e+00j   7.25263674e-02 +0.00000000e+00j\n",
       "   -9.18818845e-02 +6.04619956e-04j   0.00000000e+00 +0.00000000e+00j\n",
       "    0.00000000e+00 +0.00000000e+00j   3.96636051e-02 -3.60764642e-04j\n",
       "   -1.94854512e-02 +2.18438434e-04j   0.00000000e+00 +0.00000000e+00j\n",
       "    0.00000000e+00 +0.00000000e+00j   6.42088715e-03 -7.86542966e-05j\n",
       "   -2.31917996e-03 +2.94387037e-05j   0.00000000e+00 +0.00000000e+00j\n",
       "    0.00000000e+00 +0.00000000e+00j   6.51317977e-04 -8.23328293e-06j\n",
       "   -1.96843333e-04 +2.39688527e-06j   0.00000000e+00 +0.00000000e+00j\n",
       "    0.00000000e+00 +0.00000000e+00j   4.92740780e-05 -5.79792078e-07j\n",
       "   -1.23652748e-05 +1.51488608e-07j   0.00000000e+00 +0.00000000e+00j]\n",
       " [  0.00000000e+00 +0.00000000e+00j  -9.18818845e-02 -6.04619956e-04j\n",
       "    1.28619898e-01 +0.00000000e+00j   0.00000000e+00 +0.00000000e+00j\n",
       "    0.00000000e+00 +0.00000000e+00j  -5.79199452e-02 +2.58790591e-04j\n",
       "    2.95785375e-02 -3.09087606e-04j   0.00000000e+00 +0.00000000e+00j\n",
       "    0.00000000e+00 +0.00000000e+00j  -9.91122004e-03 +1.52397405e-04j\n",
       "    3.58358350e-03 -7.65430717e-05j   0.00000000e+00 +0.00000000e+00j\n",
       "    0.00000000e+00 +0.00000000e+00j  -9.90930828e-04 +2.64185678e-05j\n",
       "    2.87805016e-04 -9.45033292e-06j   0.00000000e+00 +0.00000000e+00j\n",
       "    0.00000000e+00 +0.00000000e+00j  -6.82514388e-05 +2.62828687e-06j\n",
       "    1.59187366e-05 -7.13896135e-07j   0.00000000e+00 +0.00000000e+00j]\n",
       " [ -2.56335597e-01 -6.82349752e-04j   0.00000000e+00 +0.00000000e+00j\n",
       "    0.00000000e+00 +0.00000000e+00j   1.13968177e-01 +0.00000000e+00j\n",
       "   -6.64864183e-02 +2.61906495e-04j   0.00000000e+00 +0.00000000e+00j\n",
       "    0.00000000e+00 +0.00000000e+00j   2.35842432e-02 -1.62599755e-04j\n",
       "   -9.45784828e-03 +9.72405366e-05j   0.00000000e+00 +0.00000000e+00j\n",
       "    0.00000000e+00 +0.00000000e+00j   2.82702208e-03 -3.68486949e-05j\n",
       "   -9.23911590e-04 +1.49026826e-05j   0.00000000e+00 +0.00000000e+00j\n",
       "    0.00000000e+00 +0.00000000e+00j   2.45745116e-04 -4.65523782e-06j\n",
       "   -7.02322440e-05 +1.57154957e-06j   0.00000000e+00 +0.00000000e+00j\n",
       "    0.00000000e+00 +0.00000000e+00j   1.60975918e-05 -4.19854252e-07j]\n",
       " [  1.42881636e-01 +9.39604405e-04j   0.00000000e+00 +0.00000000e+00j\n",
       "    0.00000000e+00 +0.00000000e+00j  -6.64864183e-02 -2.61906495e-04j\n",
       "    4.18191497e-02 +0.00000000e+00j   0.00000000e+00 +0.00000000e+00j\n",
       "    0.00000000e+00 +0.00000000e+00j  -1.56332735e-02 +4.83574783e-05j\n",
       "    6.61427522e-03 -4.52877252e-05j   0.00000000e+00 +0.00000000e+00j\n",
       "    0.00000000e+00 +0.00000000e+00j  -2.03753012e-03 +2.00611164e-05j\n",
       "    6.73182797e-04 -8.71998458e-06j   0.00000000e+00 +0.00000000e+00j\n",
       "    0.00000000e+00 +0.00000000e+00j  -1.76430289e-04 +2.68757956e-06j\n",
       "    4.79757546e-05 -8.21218750e-07j   0.00000000e+00 +0.00000000e+00j\n",
       "    0.00000000e+00 +0.00000000e+00j  -1.03334609e-05 +2.01964185e-07j]\n",
       " [  0.00000000e+00 +0.00000000e+00j   3.96636051e-02 +3.60764642e-04j\n",
       "   -5.79199452e-02 -2.58790591e-04j   0.00000000e+00 +0.00000000e+00j\n",
       "    0.00000000e+00 +0.00000000e+00j   2.75827362e-02 +0.00000000e+00j\n",
       "   -1.53979410e-02 +9.86691681e-05j   0.00000000e+00 +0.00000000e+00j\n",
       "    0.00000000e+00 +0.00000000e+00j   5.57632508e-03 -6.53569511e-05j\n",
       "   -2.23141363e-03 +4.04044672e-05j   0.00000000e+00 +0.00000000e+00j\n",
       "    0.00000000e+00 +0.00000000e+00j   6.78661672e-04 -1.60569190e-05j\n",
       "   -2.22845454e-04 +6.72458525e-06j   0.00000000e+00 +0.00000000e+00j\n",
       "    0.00000000e+00 +0.00000000e+00j   5.96698421e-05 -2.15668372e-06j\n",
       "   -1.59461852e-05 +6.80940361e-07j   0.00000000e+00 +0.00000000e+00j]\n",
       " [  0.00000000e+00 +0.00000000e+00j  -1.94854512e-02 -2.18438434e-04j\n",
       "    2.95785375e-02 +3.09087606e-04j   0.00000000e+00 +0.00000000e+00j\n",
       "    0.00000000e+00 +0.00000000e+00j  -1.53979410e-02 -9.86691681e-05j\n",
       "    9.86968100e-03 +0.00000000e+00j   0.00000000e+00 +0.00000000e+00j\n",
       "    0.00000000e+00 +0.00000000e+00j  -3.98192957e-03 +2.19615055e-05j\n",
       "    1.79654471e-03 -2.18094776e-05j   0.00000000e+00 +0.00000000e+00j\n",
       "    0.00000000e+00 +0.00000000e+00j  -5.96918652e-04 +1.04721978e-05j\n",
       "    2.12768082e-04 -4.95750869e-06j   0.00000000e+00 +0.00000000e+00j\n",
       "    0.00000000e+00 +0.00000000e+00j  -6.01342411e-05 +1.68019035e-06j\n",
       "    1.66783873e-05 -5.44727212e-07j   0.00000000e+00 +0.00000000e+00j]\n",
       " [ -4.90719593e-02 -4.79253918e-04j   0.00000000e+00 +0.00000000e+00j\n",
       "    0.00000000e+00 +0.00000000e+00j   2.35842432e-02 +1.62599755e-04j\n",
       "   -1.56332735e-02 -4.83574783e-05j   0.00000000e+00 +0.00000000e+00j\n",
       "    0.00000000e+00 +0.00000000e+00j   6.13092926e-03 +0.00000000e+00j\n",
       "   -2.77623091e-03 +1.15465434e-05j   0.00000000e+00 +0.00000000e+00j\n",
       "    0.00000000e+00 +0.00000000e+00j   9.08639336e-04 -7.11102198e-06j\n",
       "   -3.23693861e-04 +3.97992101e-06j   0.00000000e+00 +0.00000000e+00j\n",
       "    0.00000000e+00 +0.00000000e+00j   9.10774794e-05 -1.50555159e-06j\n",
       "   -2.70648140e-05 +6.00977697e-07j   0.00000000e+00 +0.00000000e+00j\n",
       "    0.00000000e+00 +0.00000000e+00j   6.30839600e-06 -1.83964506e-07j]\n",
       " [  1.89137499e-02 +2.60248108e-04j   0.00000000e+00 +0.00000000e+00j\n",
       "    0.00000000e+00 +0.00000000e+00j  -9.45784828e-03 -9.72405366e-05j\n",
       "    6.61427522e-03 +4.52877252e-05j   0.00000000e+00 +0.00000000e+00j\n",
       "    0.00000000e+00 +0.00000000e+00j  -2.77623091e-03 -1.15465434e-05j\n",
       "    1.41861054e-03 +0.00000000e+00j   0.00000000e+00 +0.00000000e+00j\n",
       "    0.00000000e+00 +0.00000000e+00j  -5.24236225e-04 +2.36104896e-06j\n",
       "    2.18714081e-04 -2.36414904e-06j   0.00000000e+00 +0.00000000e+00j\n",
       "    0.00000000e+00 +0.00000000e+00j  -7.07995428e-05 +1.17823740e-06j\n",
       "    2.45359996e-05 -5.73514145e-07j   0.00000000e+00 +0.00000000e+00j\n",
       "    0.00000000e+00 +0.00000000e+00j  -6.40874153e-06 +1.91504890e-07j]\n",
       " [  0.00000000e+00 +0.00000000e+00j   6.42088715e-03 +7.86542966e-05j\n",
       "   -9.91122004e-03 -1.52397405e-04j   0.00000000e+00 +0.00000000e+00j\n",
       "    0.00000000e+00 +0.00000000e+00j   5.57632508e-03 +6.53569511e-05j\n",
       "   -3.98192957e-03 -2.19615055e-05j   0.00000000e+00 +0.00000000e+00j\n",
       "    0.00000000e+00 +0.00000000e+00j   1.73944867e-03 +0.00000000e+00j\n",
       "   -8.54750464e-04 +5.74838876e-06j   0.00000000e+00 +0.00000000e+00j\n",
       "    0.00000000e+00 +0.00000000e+00j   3.02036384e-04 -3.70053047e-06j\n",
       "   -1.14206145e-04 +2.09338863e-06j   0.00000000e+00 +0.00000000e+00j\n",
       "    0.00000000e+00 +0.00000000e+00j   3.36615957e-05 -7.90187305e-07j\n",
       "   -9.66067177e-06 +2.82554576e-07j   0.00000000e+00 +0.00000000e+00j]\n",
       " [  0.00000000e+00 +0.00000000e+00j  -2.31917996e-03 -2.94387037e-05j\n",
       "    3.58358350e-03 +7.65430717e-05j   0.00000000e+00 +0.00000000e+00j\n",
       "    0.00000000e+00 +0.00000000e+00j  -2.23141363e-03 -4.04044672e-05j\n",
       "    1.79654471e-03 +2.18094776e-05j   0.00000000e+00 +0.00000000e+00j\n",
       "    0.00000000e+00 +0.00000000e+00j  -8.54750464e-04 -5.74838876e-06j\n",
       "    4.63330743e-04 +0.00000000e+00j   0.00000000e+00 +0.00000000e+00j\n",
       "    0.00000000e+00 +0.00000000e+00j  -1.77289692e-04 +1.05197553e-06j\n",
       "    7.34035738e-05 -9.65365569e-07j   0.00000000e+00 +0.00000000e+00j\n",
       "    0.00000000e+00 +0.00000000e+00j  -2.33297172e-05 +4.59688297e-07j\n",
       "    7.19340505e-06 -1.96961220e-07j   0.00000000e+00 +0.00000000e+00j]\n",
       " [ -5.45196704e-03 -9.40858646e-05j   0.00000000e+00 +0.00000000e+00j\n",
       "    0.00000000e+00 +0.00000000e+00j   2.82702208e-03 +3.68486949e-05j\n",
       "   -2.03753012e-03 -2.00611164e-05j   0.00000000e+00 +0.00000000e+00j\n",
       "    0.00000000e+00 +0.00000000e+00j   9.08639336e-04 +7.11102198e-06j\n",
       "   -5.24236225e-04 -2.36104896e-06j   0.00000000e+00 +0.00000000e+00j\n",
       "    0.00000000e+00 +0.00000000e+00j   2.20276827e-04 +0.00000000e+00j\n",
       "   -1.07661818e-04 +7.29823403e-07j   0.00000000e+00 +0.00000000e+00j\n",
       "    0.00000000e+00 +0.00000000e+00j   3.94759567e-05 -5.13462930e-07j\n",
       "   -1.54140160e-05 +3.11433467e-07j   0.00000000e+00 +0.00000000e+00j\n",
       "    0.00000000e+00 +0.00000000e+00j   4.34157951e-06 -1.17423485e-07j]\n",
       " [  1.69510288e-03 +3.62277167e-05j   0.00000000e+00 +0.00000000e+00j\n",
       "    0.00000000e+00 +0.00000000e+00j  -9.23911590e-04 -1.49026826e-05j\n",
       "    6.73182797e-04 +8.71998458e-06j   0.00000000e+00 +0.00000000e+00j\n",
       "    0.00000000e+00 +0.00000000e+00j  -3.23693861e-04 -3.97992101e-06j\n",
       "    2.18714081e-04 +2.36414904e-06j   0.00000000e+00 +0.00000000e+00j\n",
       "    0.00000000e+00 +0.00000000e+00j  -1.07661818e-04 -7.29823403e-07j\n",
       "    6.32479546e-05 +0.00000000e+00j   0.00000000e+00 +0.00000000e+00j\n",
       "    0.00000000e+00 +0.00000000e+00j  -2.64717681e-05 +1.78178449e-07j\n",
       "    1.17156138e-05 -1.78061684e-07j   0.00000000e+00 +0.00000000e+00j\n",
       "    0.00000000e+00 +0.00000000e+00j  -3.57129652e-06 +8.25816846e-08j]\n",
       " [  0.00000000e+00 +0.00000000e+00j   6.51317977e-04 +8.23328293e-06j\n",
       "   -9.90930828e-04 -2.64185678e-05j   0.00000000e+00 +0.00000000e+00j\n",
       "    0.00000000e+00 +0.00000000e+00j   6.78661672e-04 +1.60569190e-05j\n",
       "   -5.96918652e-04 -1.04721978e-05j   0.00000000e+00 +0.00000000e+00j\n",
       "    0.00000000e+00 +0.00000000e+00j   3.02036384e-04 +3.70053047e-06j\n",
       "   -1.77289692e-04 -1.05197553e-06j   0.00000000e+00 +0.00000000e+00j\n",
       "    0.00000000e+00 +0.00000000e+00j   7.38668003e-05 +0.00000000e+00j\n",
       "   -3.42466854e-05 +2.61274338e-07j   0.00000000e+00 +0.00000000e+00j\n",
       "    0.00000000e+00 +0.00000000e+00j   1.20338677e-05 -1.76892938e-07j\n",
       "   -4.08565783e-06 +9.43317289e-08j   0.00000000e+00 +0.00000000e+00j]\n",
       " [  0.00000000e+00 +0.00000000e+00j  -1.96843333e-04 -2.39688527e-06j\n",
       "    2.87805016e-04 +9.45033292e-06j   0.00000000e+00 +0.00000000e+00j\n",
       "    0.00000000e+00 +0.00000000e+00j  -2.22845454e-04 -6.72458525e-06j\n",
       "    2.12768082e-04 +4.95750869e-06j   0.00000000e+00 +0.00000000e+00j\n",
       "    0.00000000e+00 +0.00000000e+00j  -1.14206145e-04 -2.09338863e-06j\n",
       "    7.34035738e-05 +9.65365569e-07j   0.00000000e+00 +0.00000000e+00j\n",
       "    0.00000000e+00 +0.00000000e+00j  -3.42466854e-05 -2.61274338e-07j\n",
       "    1.87678525e-05 +0.00000000e+00j   0.00000000e+00 +0.00000000e+00j\n",
       "    0.00000000e+00 +0.00000000e+00j  -7.51194835e-06 +5.45408845e-08j\n",
       "    2.86453113e-06 -4.60358350e-08j   0.00000000e+00 +0.00000000e+00j]\n",
       " [ -4.27510005e-04 -1.07283714e-05j   0.00000000e+00 +0.00000000e+00j\n",
       "    0.00000000e+00 +0.00000000e+00j   2.45745116e-04 +4.65523782e-06j\n",
       "   -1.76430289e-04 -2.68757956e-06j   0.00000000e+00 +0.00000000e+00j\n",
       "    0.00000000e+00 +0.00000000e+00j   9.10774794e-05 +1.50555159e-06j\n",
       "   -7.07995428e-05 -1.17823740e-06j   0.00000000e+00 +0.00000000e+00j\n",
       "    0.00000000e+00 +0.00000000e+00j   3.94759567e-05 +5.13462930e-07j\n",
       "   -2.64717681e-05 -1.78178449e-07j   0.00000000e+00 +0.00000000e+00j\n",
       "    0.00000000e+00 +0.00000000e+00j   1.25407964e-05 +0.00000000e+00j\n",
       "   -6.26661219e-06 +5.40222210e-08j   0.00000000e+00 +0.00000000e+00j\n",
       "    0.00000000e+00 +0.00000000e+00j   2.06319488e-06 -3.41364383e-08j]\n",
       " [  1.13614630e-04 +3.32830054e-06j   0.00000000e+00 +0.00000000e+00j\n",
       "    0.00000000e+00 +0.00000000e+00j  -7.02322440e-05 -1.57154957e-06j\n",
       "    4.79757546e-05 +8.21218750e-07j   0.00000000e+00 +0.00000000e+00j\n",
       "    0.00000000e+00 +0.00000000e+00j  -2.70648140e-05 -6.00977697e-07j\n",
       "    2.45359996e-05 +5.73514145e-07j   0.00000000e+00 +0.00000000e+00j\n",
       "    0.00000000e+00 +0.00000000e+00j  -1.54140160e-05 -3.11433467e-07j\n",
       "    1.17156138e-05 +1.78061684e-07j   0.00000000e+00 +0.00000000e+00j\n",
       "    0.00000000e+00 +0.00000000e+00j  -6.26661219e-06 -5.40222210e-08j\n",
       "    3.76905932e-06 +0.00000000e+00j   0.00000000e+00 +0.00000000e+00j\n",
       "    0.00000000e+00 +0.00000000e+00j  -1.35988071e-06 +9.78458363e-09j]\n",
       " [  0.00000000e+00 +0.00000000e+00j   4.92740780e-05 +5.79792078e-07j\n",
       "   -6.82514388e-05 -2.62828687e-06j   0.00000000e+00 +0.00000000e+00j\n",
       "    0.00000000e+00 +0.00000000e+00j   5.96698421e-05 +2.15668372e-06j\n",
       "   -6.01342411e-05 -1.68019035e-06j   0.00000000e+00 +0.00000000e+00j\n",
       "    0.00000000e+00 +0.00000000e+00j   3.36615957e-05 +7.90187305e-07j\n",
       "   -2.33297172e-05 -4.59688297e-07j   0.00000000e+00 +0.00000000e+00j\n",
       "    0.00000000e+00 +0.00000000e+00j   1.20338677e-05 +1.76892938e-07j\n",
       "   -7.51194835e-06 -5.45408845e-08j   0.00000000e+00 +0.00000000e+00j\n",
       "    0.00000000e+00 +0.00000000e+00j   3.46593822e-06 +0.00000000e+00j\n",
       "   -1.44375407e-06 +1.21732270e-08j   0.00000000e+00 +0.00000000e+00j]\n",
       " [  0.00000000e+00 +0.00000000e+00j  -1.23652748e-05 -1.51488608e-07j\n",
       "    1.59187366e-05 +7.13896135e-07j   0.00000000e+00 +0.00000000e+00j\n",
       "    0.00000000e+00 +0.00000000e+00j  -1.59461852e-05 -6.80940361e-07j\n",
       "    1.66783873e-05 +5.44727212e-07j   0.00000000e+00 +0.00000000e+00j\n",
       "    0.00000000e+00 +0.00000000e+00j  -9.66067177e-06 -2.82554576e-07j\n",
       "    7.19340505e-06 +1.96961220e-07j   0.00000000e+00 +0.00000000e+00j\n",
       "    0.00000000e+00 +0.00000000e+00j  -4.08565783e-06 -9.43317289e-08j\n",
       "    2.86453113e-06 +4.60358350e-08j   0.00000000e+00 +0.00000000e+00j\n",
       "    0.00000000e+00 +0.00000000e+00j  -1.44375407e-06 -1.21732270e-08j\n",
       "    7.64866413e-07 +0.00000000e+00j   0.00000000e+00 +0.00000000e+00j]\n",
       " [ -2.43530912e-05 -8.04586637e-07j   0.00000000e+00 +0.00000000e+00j\n",
       "    0.00000000e+00 +0.00000000e+00j   1.60975918e-05 +4.19854252e-07j\n",
       "   -1.03334609e-05 -2.01964185e-07j   0.00000000e+00 +0.00000000e+00j\n",
       "    0.00000000e+00 +0.00000000e+00j   6.30839600e-06 +1.83964506e-07j\n",
       "   -6.40874153e-06 -1.91504890e-07j   0.00000000e+00 +0.00000000e+00j\n",
       "    0.00000000e+00 +0.00000000e+00j   4.34157951e-06 +1.17423485e-07j\n",
       "   -3.57129652e-06 -8.25816846e-08j   0.00000000e+00 +0.00000000e+00j\n",
       "    0.00000000e+00 +0.00000000e+00j   2.06319488e-06 +3.41364383e-08j\n",
       "   -1.35988071e-06 -9.78458363e-09j   0.00000000e+00 +0.00000000e+00j\n",
       "    0.00000000e+00 +0.00000000e+00j   6.14783521e-07 +0.00000000e+00j]]"
      ]
     },
     "metadata": {},
     "output_type": "display_data"
    },
    {
     "name": "stdout",
     "output_type": "stream",
     "text": [
      "==================== Steadystate expectation values\n",
      "R_ob:  [0.267645307720865, 0.1560205514129042]\n",
      "R_eb:  [0.267645307720865, 0.1560205514129042]\n",
      "L   :  [0.4465560981540205, 0.22225842348795147]\n",
      "==================== Dynamics final states\n",
      "R:  [0.26764721566971927, 0.15602106817515593]\n",
      "L:  [0.44662603050034932, 0.22228388401493518]\n"
     ]
    }
   ],
   "source": [
    "solve(H, psi0, c_ops, a_ops, e_ops)"
   ]
  },
  {
   "cell_type": "markdown",
   "metadata": {},
   "source": [
    "## Versions"
   ]
  },
  {
   "cell_type": "code",
   "execution_count": 40,
   "metadata": {},
   "outputs": [
    {
     "data": {
      "text/html": [
       "<table><tr><th>Software</th><th>Version</th></tr><tr><td>QuTiP</td><td>4.2.0</td></tr><tr><td>Numpy</td><td>1.13.1</td></tr><tr><td>SciPy</td><td>0.19.1</td></tr><tr><td>matplotlib</td><td>2.0.2</td></tr><tr><td>Cython</td><td>0.25.2</td></tr><tr><td>Number of CPUs</td><td>2</td></tr><tr><td>BLAS Info</td><td>INTEL MKL</td></tr><tr><td>IPython</td><td>6.1.0</td></tr><tr><td>Python</td><td>3.6.1 |Anaconda custom (x86_64)| (default, May 11 2017, 13:04:09) \n",
       "[GCC 4.2.1 Compatible Apple LLVM 6.0 (clang-600.0.57)]</td></tr><tr><td>OS</td><td>posix [darwin]</td></tr><tr><td colspan='2'>Wed Jul 19 22:06:57 2017 MDT</td></tr></table>"
      ],
      "text/plain": [
       "<IPython.core.display.HTML object>"
      ]
     },
     "execution_count": 40,
     "metadata": {},
     "output_type": "execute_result"
    }
   ],
   "source": [
    "from qutip.ipynbtools import version_table\n",
    "\n",
    "version_table()"
   ]
  },
  {
   "cell_type": "code",
   "execution_count": null,
   "metadata": {
    "collapsed": true
   },
   "outputs": [],
   "source": []
  }
 ],
 "metadata": {
  "kernelspec": {
   "display_name": "Python 3",
   "language": "python",
   "name": "python3"
  },
  "language_info": {
   "codemirror_mode": {
    "name": "ipython",
    "version": 3
   },
   "file_extension": ".py",
   "mimetype": "text/x-python",
   "name": "python",
   "nbconvert_exporter": "python",
   "pygments_lexer": "ipython3",
   "version": "3.6.1"
  }
 },
 "nbformat": 4,
 "nbformat_minor": 1
}
