{
 "cells": [
  {
   "cell_type": "markdown",
   "metadata": {},
   "source": [
    "# QuTiP Example: Stinespring Dilation of Quantum Channels"
   ]
  },
  {
   "cell_type": "markdown",
   "metadata": {},
   "source": [
    "[Christopher Granade](http://www.cgranade.com/) <br>\n",
    "University of Sydney\n",
    "$\\newcommand{\\ket}[1]{\\left|#1\\right\\rangle}$\n",
    "$\\newcommand{\\bra}[1]{\\left\\langle#1\\right|}$\n",
    "$\\newcommand{\\cnot}{{\\scriptstyle \\rm CNOT}}$\n",
    "$\\newcommand{\\TT}{\\operatorname{T}}$\n",
    "$\\newcommand{\\Tr}{\\operatorname{Tr}}$\n",
    "$\\newcommand{\\Uni}{\\operatorname{U}}$\n",
    "$\\newcommand{\\Chan}{\\operatorname{C}}$\n",
    "$\\newcommand{\\Hil}{\\mathcal{H}}$"
   ]
  },
  {
   "cell_type": "markdown",
   "metadata": {},
   "source": [
    "## Introduction"
   ]
  },
  {
   "cell_type": "markdown",
   "metadata": {},
   "source": [
    "In this notebook, we will demonstrate the ``to_stinespring`` function, which converts a ``Qobj`` representing the quantum channel $\\Phi$ to a pair of partial isometries that describe the action of $\\Phi$.\n",
    "\n",
    "In introducing the Stinespring dilation, it is helpful to first adopt some notation. Let $\\Hil_X$, $\\Hil_Y$ and $\\Hil_Z$ be finite-dimensional Hilbert spaces. Let $\\Uni(\\Hil_X, \\Hil_Y)$ be the set of partial isometries from $\\Hil_X$ to $\\Hil_Y$, and $\\TT(\\Hil_X, \\Hil_Y)$ be the set of maps (that is, superoperators) from operators on $\\Hil_X$ to those acting on $\\Hil_Y$. Finally, let $\\Chan(\\Hil_X, \\Hil_Y) \\subset \\TT(\\Hil_X, \\Hil_Y)$ be the set of *channels*; that is, those maps which are completely positive and trace-preserving.\n",
    "\n",
    "For a quantum map $\\Phi \\in \\TT(\\Hil_X, \\Hil_Y)$, then, the Stinespring dilation of $\\Phi$ is a pair of partial isometries $A, B \\in \\Uni(\\Hil_X, \\Hil_Y \\otimes \\Hil_Z)$ for some space $\\Hil_Z$ such that\n",
    "\\begin{equation}\n",
    "    \\Phi(X) = \\Tr_Z (A X B^\\dagger).\n",
    "    \\label{eq:stinespring-action}\n",
    "\\end{equation}\n",
    "If $\\Phi$ is completely positive, then $A = B$. We do not insist on complete positivity, however, as it is common to consider the Stinespring dilation for the *difference* between two quantum channels, $\\Phi - \\Phi'$. By construction, such a map is not completely positive, nor is it trace-preserving."
   ]
  },
  {
   "cell_type": "markdown",
   "metadata": {},
   "source": [
    "Informally, the ancillary space $\\Hil_Z$ serves the same role as the Kraus index. If $\\Phi$ is a channel with Kraus operators $\\{K_i : i \\in \\{0, \\dots, k - 1\\}\\}$, then $A = B = \\sum_i K_i \\otimes \\ket{i}$, such that summation over $i$ is performed by the partial trace in \\eqref{eq:stinespring-action}.\n",
    "\n",
    "The Stinespring representation is useful for [evaluating norms](http://theoryofcomputing.org/articles/v005a011/) and for building system/environment models of a quantum channel."
   ]
  },
  {
   "cell_type": "markdown",
   "metadata": {},
   "source": [
    "### Further Resources\n",
    "\n",
    "- Watrous. [CS 766: Theory of Quantum Information (lecture notes)](https://cs.uwaterloo.ca/~watrous/CS766/) (2013).\n",
    "-  Wood, Biamonte and Cory. *Tensor networks and graphical calculus for open quantum systems*. [arXiv:1111.6950](https://scirate.com/arxiv/1111.6950) (2011).\n",
    "- Watrous. *Semidefinite Programs for Completely Bounded Norms*. [Theory of Computing **5** 217-238](http://theoryofcomputing.org/articles/v005a011/), [arXiv:0901.4709](https://scirate.com/arxiv/0901.4709) (2009)."
   ]
  },
  {
   "cell_type": "markdown",
   "metadata": {},
   "source": [
    "## Preamble"
   ]
  },
  {
   "cell_type": "markdown",
   "metadata": {},
   "source": [
    "### Features"
   ]
  },
  {
   "cell_type": "markdown",
   "metadata": {},
   "source": [
    "We enable a few features such that this notebook runs in both Python 2 and 3."
   ]
  },
  {
   "cell_type": "code",
   "execution_count": 1,
   "metadata": {},
   "outputs": [],
   "source": [
    "from __future__ import division, print_function"
   ]
  },
  {
   "cell_type": "markdown",
   "metadata": {},
   "source": [
    "### Imports"
   ]
  },
  {
   "cell_type": "code",
   "execution_count": 2,
   "metadata": {},
   "outputs": [],
   "source": [
    "import numpy as np\n",
    "import qutip as qt\n",
    "\n",
    "from qutip.ipynbtools import version_table"
   ]
  },
  {
   "cell_type": "markdown",
   "metadata": {},
   "source": [
    "### Plotting Support"
   ]
  },
  {
   "cell_type": "code",
   "execution_count": 3,
   "metadata": {},
   "outputs": [],
   "source": [
    "%matplotlib inline"
   ]
  },
  {
   "cell_type": "markdown",
   "metadata": {},
   "source": [
    "### Settings"
   ]
  },
  {
   "cell_type": "code",
   "execution_count": 4,
   "metadata": {},
   "outputs": [],
   "source": [
    "qt.settings.colorblind_safe = True"
   ]
  },
  {
   "cell_type": "markdown",
   "metadata": {},
   "source": [
    "##  Dilations of CPTP Maps"
   ]
  },
  {
   "cell_type": "markdown",
   "metadata": {},
   "source": [
    "We'll start by considering the case in which $\\Phi(X) = U X U^\\dagger$ for a random unitary operator $U \\in \\Uni(\\Hil_X, \\Hil_X)$."
   ]
  },
  {
   "cell_type": "code",
   "execution_count": 5,
   "metadata": {
    "collapsed": true
   },
   "outputs": [],
   "source": [
    "phi = qt.to_super(qt.rand_unitary_haar(4))"
   ]
  },
  {
   "cell_type": "code",
   "execution_count": 6,
   "metadata": {},
   "outputs": [
    {
     "data": {
      "text/plain": [
       "(<matplotlib.figure.Figure at 0x10e019c18>,\n",
       " <matplotlib.axes._subplots.AxesSubplot at 0x1167fd630>)"
      ]
     },
     "execution_count": 6,
     "metadata": {},
     "output_type": "execute_result"
    },
    {
     "data": {
      "image/png": "[encoded data removed]",
      "text/plain": [
       "<matplotlib.figure.Figure at 0x10e019c18>"
      ]
     },
     "metadata": {},
     "output_type": "display_data"
    }
   ],
   "source": [
    "qt.visualization.hinton(phi)"
   ]
  },
  {
   "cell_type": "markdown",
   "metadata": {},
   "source": [
    "By construction, $\\Phi$ has one Kraus operator--- the random unitary itself. Because of numerical precision in finding eigenvalues of the Choi matrix, a decomposition will result in many operators with very small norms."
   ]
  },
  {
   "cell_type": "code",
   "execution_count": 7,
   "metadata": {},
   "outputs": [
    {
     "name": "stdout",
     "output_type": "stream",
     "text": [
      "1.44965724751e-08\n",
      "4.0\n",
      "2.17301265733e-08\n",
      "1.52222408748e-08\n",
      "1.5017315825e-08\n",
      "1.76642230882e-08\n",
      "1.37895174864e-08\n",
      "1.40385925527e-08\n",
      "1.07348372039e-08\n",
      "9.50757741411e-09\n",
      "6.71512203218e-09\n",
      "1.14139195174e-08\n",
      "1.01210695111e-08\n",
      "6.00690608844e-09\n",
      "3.38230626595e-09\n",
      "4.01926307771e-10\n"
     ]
    }
   ],
   "source": [
    "for K in qt.to_kraus(phi):\n",
    "    print(K.norm())"
   ]
  },
  {
   "cell_type": "markdown",
   "metadata": {},
   "source": [
    "Because $\\Phi$ only has one Kraus operator, the Stinespring dilation will use a 1-dimensional ancillary space."
   ]
  },
  {
   "cell_type": "code",
   "execution_count": 8,
   "metadata": {},
   "outputs": [
    {
     "name": "stdout",
     "output_type": "stream",
     "text": [
      "[[4, 1], [4]]\n"
     ]
    }
   ],
   "source": [
    "A, B = qt.to_stinespring(phi)\n",
    "print(A.dims)"
   ]
  },
  {
   "cell_type": "markdown",
   "metadata": {},
   "source": [
    "If we ask for a random channel of Choi rank 2 (that is, with 2 Kraus operators), then the corresponding space will be two-dimensional instead."
   ]
  },
  {
   "cell_type": "code",
   "execution_count": 9,
   "metadata": {},
   "outputs": [
    {
     "name": "stdout",
     "output_type": "stream",
     "text": [
      "[[4, 2], [4]]\n"
     ]
    }
   ],
   "source": [
    "A, B = qt.to_stinespring(qt.rand_super_bcsz(4, rank=2))\n",
    "print(A.dims)"
   ]
  },
  {
   "cell_type": "markdown",
   "metadata": {},
   "source": [
    "Moreover, since we have demanded that $A$ and $B$ are the Stinespring pair for a channel, we can easily verify that $A = B$."
   ]
  },
  {
   "cell_type": "code",
   "execution_count": 10,
   "metadata": {},
   "outputs": [
    {
     "data": {
      "text/latex": [
       "Quantum object: dims = [[4, 2], [4]], shape = (8, 4), type = other\\begin{equation*}\\left(\\begin{array}{*{11}c}0.0 & 0.0 & 0.0 & 0.0\\\\0.0 & 0.0 & 0.0 & 0.0\\\\0.0 & 0.0 & 0.0 & 0.0\\\\0.0 & 0.0 & 0.0 & 0.0\\\\0.0 & 0.0 & 0.0 & 0.0\\\\0.0 & 0.0 & 0.0 & 0.0\\\\0.0 & 0.0 & 0.0 & 0.0\\\\0.0 & 0.0 & 0.0 & 0.0\\\\\\end{array}\\right)\\end{equation*}"
      ],
      "text/plain": [
       "Quantum object: dims = [[4, 2], [4]], shape = (8, 4), type = other\n",
       "Qobj data =\n",
       "[[ 0.  0.  0.  0.]\n",
       " [ 0.  0.  0.  0.]\n",
       " [ 0.  0.  0.  0.]\n",
       " [ 0.  0.  0.  0.]\n",
       " [ 0.  0.  0.  0.]\n",
       " [ 0.  0.  0.  0.]\n",
       " [ 0.  0.  0.  0.]\n",
       " [ 0.  0.  0.  0.]]"
      ]
     },
     "execution_count": 10,
     "metadata": {},
     "output_type": "execute_result"
    }
   ],
   "source": [
    "A - B"
   ]
  },
  {
   "cell_type": "markdown",
   "metadata": {},
   "source": [
    "## Differences of Random Channels"
   ]
  },
  {
   "cell_type": "markdown",
   "metadata": {},
   "source": [
    "Next, let's consider two random qubit channels from the [BCSZ distribution]([``qutip.visualization.hinton``](http://qutip.org/docs/3.0.1/apidoc/functions.html#qutip.random_objects.rand_super_bcsz)."
   ]
  },
  {
   "cell_type": "code",
   "execution_count": 11,
   "metadata": {
    "collapsed": true
   },
   "outputs": [],
   "source": [
    "phi1 = qt.rand_super_bcsz(2)\n",
    "phi2 = qt.rand_super_bcsz(2)"
   ]
  },
  {
   "cell_type": "markdown",
   "metadata": {},
   "source": [
    "Looking at the Pauli-basis Hinton diagram for the difference between these channels gives some insight into how this map behaves."
   ]
  },
  {
   "cell_type": "code",
   "execution_count": 12,
   "metadata": {},
   "outputs": [
    {
     "data": {
      "text/plain": [
       "(<matplotlib.figure.Figure at 0x10e03b320>,\n",
       " <matplotlib.axes._subplots.AxesSubplot at 0x119ffa828>)"
      ]
     },
     "execution_count": 12,
     "metadata": {},
     "output_type": "execute_result"
    },
    {
     "data": {
      "image/png": "[encoded data removed]",
      "text/plain": [
       "<matplotlib.figure.Figure at 0x10e03b320>"
      ]
     },
     "metadata": {},
     "output_type": "display_data"
    }
   ],
   "source": [
    "qt.visualization.hinton(phi1 - phi2)"
   ]
  },
  {
   "cell_type": "markdown",
   "metadata": {},
   "source": [
    "In particular, note that $\\Delta\\Phi := \\Phi_1 - \\Phi_2$ annilates the traceful parts of its input, leaving an operator with negative eigenvalues. "
   ]
  },
  {
   "cell_type": "code",
   "execution_count": 13,
   "metadata": {},
   "outputs": [
    {
     "name": "stdout",
     "output_type": "stream",
     "text": [
      "Trace: -3.885780586188048e-16\n",
      "Eigenvalues:[-0.39781299  0.39781299]\n"
     ]
    },
    {
     "data": {
      "text/latex": [
       "Quantum object: dims = [[2], [2]], shape = (2, 2), type = oper, isherm = True\\begin{equation*}\\left(\\begin{array}{*{11}c}-0.334 & (-0.211+0.051j)\\\\(-0.211-0.051j) & 0.334\\\\\\end{array}\\right)\\end{equation*}"
      ],
      "text/plain": [
       "Quantum object: dims = [[2], [2]], shape = (2, 2), type = oper, isherm = True\n",
       "Qobj data =\n",
       "[[-0.33363726+0.j         -0.21068948+0.05051036j]\n",
       " [-0.21068948-0.05051036j  0.33363726+0.j        ]]"
      ]
     },
     "execution_count": 13,
     "metadata": {},
     "output_type": "execute_result"
    }
   ],
   "source": [
    "d_phi = qt.to_super(phi1 - phi2)\n",
    "rho_in = qt.rand_dm(2)\n",
    "rho = qt.vector_to_operator(d_phi * qt.operator_to_vector(rho_in))\n",
    "print(\"Trace: {}\\nEigenvalues:{}\".format(rho.tr(), rho.eigenenergies()))\n",
    "rho"
   ]
  },
  {
   "cell_type": "markdown",
   "metadata": {},
   "source": [
    "Because $\\Delta \\Phi$ is not completely positive, we cannot obtain a Kraus decomposition where the left and right operators are the same:"
   ]
  },
  {
   "cell_type": "code",
   "execution_count": 14,
   "metadata": {},
   "outputs": [],
   "source": [
    "Ks = qt.to_kraus(d_phi)"
   ]
  },
  {
   "cell_type": "code",
   "execution_count": 15,
   "metadata": {},
   "outputs": [
    {
     "data": {
      "text/latex": [
       "Quantum object: dims = [[2], [2]], shape = (2, 2), type = oper, isherm = True\\begin{equation*}\\left(\\begin{array}{*{11}c}-0.993 & (-0.141+0.001j)\\\\(-0.141-0.001j) & -0.327\\\\\\end{array}\\right)\\end{equation*}"
      ],
      "text/plain": [
       "Quantum object: dims = [[2], [2]], shape = (2, 2), type = oper, isherm = True\n",
       "Qobj data =\n",
       "[[-0.99315946+0.j         -0.14063145+0.00116084j]\n",
       " [-0.14063145-0.00116084j -0.32720643+0.j        ]]"
      ]
     },
     "execution_count": 15,
     "metadata": {},
     "output_type": "execute_result"
    }
   ],
   "source": [
    "rho - sum(K * rho_in * K.dag() for K in Ks)"
   ]
  },
  {
   "cell_type": "markdown",
   "metadata": {},
   "source": [
    "On the other hand, if we allow the left and right Kraus operators to be different, or consider a Stinespring dilation, we get the right answer:"
   ]
  },
  {
   "cell_type": "code",
   "execution_count": 16,
   "metadata": {},
   "outputs": [
    {
     "data": {
      "text/latex": [
       "Quantum object: dims = [[2], [2]], shape = (2, 2), type = oper, isherm = True\\begin{equation*}\\left(\\begin{array}{*{11}c}0.0 & 0.0\\\\0.0 & 0.0\\\\\\end{array}\\right)\\end{equation*}"
      ],
      "text/plain": [
       "Quantum object: dims = [[2], [2]], shape = (2, 2), type = oper, isherm = True\n",
       "Qobj data =\n",
       "[[ 0.  0.]\n",
       " [ 0.  0.]]"
      ]
     },
     "execution_count": 16,
     "metadata": {},
     "output_type": "execute_result"
    }
   ],
   "source": [
    "A, B = qt.to_stinespring(d_phi)\n",
    "rho - (A * rho_in * B.dag()).ptrace((0,))"
   ]
  },
  {
   "cell_type": "markdown",
   "metadata": {},
   "source": [
    "## Constructing System-Environment Models"
   ]
  },
  {
   "cell_type": "markdown",
   "metadata": {},
   "source": [
    "For a channel $\\Phi \\in \\Chan(\\Hil_X, \\Hil_X)$, once we have found the Stinespring dilation $A$, we then represent $\\Phi$ as a *unitary* on the full space, $U \\in \\Uni(\\Hil_X \\otimes \\Hil_Z)$, interpreting $\\Hil_Z$ as a preparation of an environment. Concretely, we want to find $U$ such that for a preparation $\\ket{\\psi}$ of the environment,\n",
    "\\begin{equation}\n",
    "    \\Phi(X) = \\Tr_Z(U \\rho \\otimes \\ket{\\psi}\\bra{\\psi} U^\\dagger).\n",
    "\\end{equation}\n",
    "By convention, we'll choose a basis for $\\Hil_Z$ such that $\\ket{\\psi} = \\ket{0}$. Then, if we let $V = A \\otimes \\bra{0}$,\n",
    "\\begin{equation}\n",
    "    \\Tr_Z(V \\rho \\otimes \\ket{0}\\bra{0} V^\\dagger) =\n",
    "    \\Tr_Z(A \\rho \\otimes \\bra{0}\\ket{0}\\bra{0}\\ket{0} A) =\n",
    "    \\Tr_Z(A \\rho A^\\dagger)\n",
    "\\end{equation}\n",
    "as desired."
   ]
  },
  {
   "cell_type": "code",
   "execution_count": 17,
   "metadata": {},
   "outputs": [
    {
     "data": {
      "text/latex": [
       "Quantum object: dims = [[3, 9], [3, 9]], shape = (27, 27), type = oper, isherm = False\\begin{equation*}\\left(\\begin{array}{*{11}c}-0.135 & 0.0 & 0.0 & 0.0 & 0.0 & \\cdots & 0.0 & 0.0 & 0.0 & 0.0 & 0.0\\\\-0.208 & 0.0 & 0.0 & 0.0 & 0.0 & \\cdots & 0.0 & 0.0 & 0.0 & 0.0 & 0.0\\\\0.171 & 0.0 & 0.0 & 0.0 & 0.0 & \\cdots & 0.0 & 0.0 & 0.0 & 0.0 & 0.0\\\\-0.266 & 0.0 & 0.0 & 0.0 & 0.0 & \\cdots & 0.0 & 0.0 & 0.0 & 0.0 & 0.0\\\\0.233 & 0.0 & 0.0 & 0.0 & 0.0 & \\cdots & 0.0 & 0.0 & 0.0 & 0.0 & 0.0\\\\\\vdots & \\vdots & \\vdots & \\vdots & \\vdots & \\ddots & \\vdots & \\vdots & \\vdots & \\vdots & \\vdots\\\\(-0.057-0.048j) & 0.0 & 0.0 & 0.0 & 0.0 & \\cdots & 0.0 & 0.0 & 0.0 & 0.0 & 0.0\\\\(-0.098-0.087j) & 0.0 & 0.0 & 0.0 & 0.0 & \\cdots & 0.0 & 0.0 & 0.0 & 0.0 & 0.0\\\\(0.135+0.086j) & 0.0 & 0.0 & 0.0 & 0.0 & \\cdots & 0.0 & 0.0 & 0.0 & 0.0 & 0.0\\\\(0.035+0.025j) & 0.0 & 0.0 & 0.0 & 0.0 & \\cdots & 0.0 & 0.0 & 0.0 & 0.0 & 0.0\\\\(-0.060+0.028j) & 0.0 & 0.0 & 0.0 & 0.0 & \\cdots & 0.0 & 0.0 & 0.0 & 0.0 & 0.0\\\\\\end{array}\\right)\\end{equation*}"
      ],
      "text/plain": [
       "Quantum object: dims = [[3, 9], [3, 9]], shape = (27, 27), type = oper, isherm = False\n",
       "Qobj data =\n",
       "[[-0.13489191+0.j          0.00000000+0.j          0.00000000+0.j\n",
       "   0.00000000+0.j          0.00000000+0.j          0.00000000+0.j\n",
       "   0.00000000+0.j          0.00000000+0.j          0.00000000+0.j\n",
       "  -0.06306945+0.21478604j  0.00000000+0.j          0.00000000+0.j\n",
       "   0.00000000+0.j          0.00000000+0.j          0.00000000+0.j\n",
       "   0.00000000+0.j          0.00000000+0.j          0.00000000+0.j\n",
       "  -0.55528681-0.14941033j  0.00000000+0.j          0.00000000+0.j\n",
       "   0.00000000+0.j          0.00000000+0.j          0.00000000+0.j\n",
       "   0.00000000+0.j          0.00000000+0.j          0.00000000+0.j        ]\n",
       " [-0.20788410+0.j          0.00000000+0.j          0.00000000+0.j\n",
       "   0.00000000+0.j          0.00000000+0.j          0.00000000+0.j\n",
       "   0.00000000+0.j          0.00000000+0.j          0.00000000+0.j\n",
       "  -0.05781703+0.18398047j  0.00000000+0.j          0.00000000+0.j\n",
       "   0.00000000+0.j          0.00000000+0.j          0.00000000+0.j\n",
       "   0.00000000+0.j          0.00000000+0.j          0.00000000+0.j\n",
       "  -0.10234492+0.07877836j  0.00000000+0.j          0.00000000+0.j\n",
       "   0.00000000+0.j          0.00000000+0.j          0.00000000+0.j\n",
       "   0.00000000+0.j          0.00000000+0.j          0.00000000+0.j        ]\n",
       " [ 0.17091511+0.j          0.00000000+0.j          0.00000000+0.j\n",
       "   0.00000000+0.j          0.00000000+0.j          0.00000000+0.j\n",
       "   0.00000000+0.j          0.00000000+0.j          0.00000000+0.j\n",
       "   0.16137142+0.23826558j  0.00000000+0.j          0.00000000+0.j\n",
       "   0.00000000+0.j          0.00000000+0.j          0.00000000+0.j\n",
       "   0.00000000+0.j          0.00000000+0.j          0.00000000+0.j\n",
       "  -0.12563050-0.19902323j  0.00000000+0.j          0.00000000+0.j\n",
       "   0.00000000+0.j          0.00000000+0.j          0.00000000+0.j\n",
       "   0.00000000+0.j          0.00000000+0.j          0.00000000+0.j        ]\n",
       " [-0.26625566+0.j          0.00000000+0.j          0.00000000+0.j\n",
       "   0.00000000+0.j          0.00000000+0.j          0.00000000+0.j\n",
       "   0.00000000+0.j          0.00000000+0.j          0.00000000+0.j\n",
       "   0.10065343+0.25602274j  0.00000000+0.j          0.00000000+0.j\n",
       "   0.00000000+0.j          0.00000000+0.j          0.00000000+0.j\n",
       "   0.00000000+0.j          0.00000000+0.j          0.00000000+0.j\n",
       "   0.12324396-0.15175006j  0.00000000+0.j          0.00000000+0.j\n",
       "   0.00000000+0.j          0.00000000+0.j          0.00000000+0.j\n",
       "   0.00000000+0.j          0.00000000+0.j          0.00000000+0.j        ]\n",
       " [ 0.23348119+0.j          0.00000000+0.j          0.00000000+0.j\n",
       "   0.00000000+0.j          0.00000000+0.j          0.00000000+0.j\n",
       "   0.00000000+0.j          0.00000000+0.j          0.00000000+0.j\n",
       "   0.12564329+0.20703651j  0.00000000+0.j          0.00000000+0.j\n",
       "   0.00000000+0.j          0.00000000+0.j          0.00000000+0.j\n",
       "   0.00000000+0.j          0.00000000+0.j          0.00000000+0.j\n",
       "  -0.03828156-0.1253961j   0.00000000+0.j          0.00000000+0.j\n",
       "   0.00000000+0.j          0.00000000+0.j          0.00000000+0.j\n",
       "   0.00000000+0.j          0.00000000+0.j          0.00000000+0.j        ]\n",
       " [-0.13531210+0.j          0.00000000+0.j          0.00000000+0.j\n",
       "   0.00000000+0.j          0.00000000+0.j          0.00000000+0.j\n",
       "   0.00000000+0.j          0.00000000+0.j          0.00000000+0.j\n",
       "   0.15700793-0.09215325j  0.00000000+0.j          0.00000000+0.j\n",
       "   0.00000000+0.j          0.00000000+0.j          0.00000000+0.j\n",
       "   0.00000000+0.j          0.00000000+0.j          0.00000000+0.j\n",
       "   0.14677156-0.07474015j  0.00000000+0.j          0.00000000+0.j\n",
       "   0.00000000+0.j          0.00000000+0.j          0.00000000+0.j\n",
       "   0.00000000+0.j          0.00000000+0.j          0.00000000+0.j        ]\n",
       " [ 0.10513760+0.j          0.00000000+0.j          0.00000000+0.j\n",
       "   0.00000000+0.j          0.00000000+0.j          0.00000000+0.j\n",
       "   0.00000000+0.j          0.00000000+0.j          0.00000000+0.j\n",
       "   0.00442229-0.08464583j  0.00000000+0.j          0.00000000+0.j\n",
       "   0.00000000+0.j          0.00000000+0.j          0.00000000+0.j\n",
       "   0.00000000+0.j          0.00000000+0.j          0.00000000+0.j\n",
       "   0.04651994-0.05576672j  0.00000000+0.j          0.00000000+0.j\n",
       "   0.00000000+0.j          0.00000000+0.j          0.00000000+0.j\n",
       "   0.00000000+0.j          0.00000000+0.j          0.00000000+0.j        ]\n",
       " [-0.07772972+0.j          0.00000000+0.j          0.00000000+0.j\n",
       "   0.00000000+0.j          0.00000000+0.j          0.00000000+0.j\n",
       "   0.00000000+0.j          0.00000000+0.j          0.00000000+0.j\n",
       "  -0.01246213-0.01306289j  0.00000000+0.j          0.00000000+0.j\n",
       "   0.00000000+0.j          0.00000000+0.j          0.00000000+0.j\n",
       "   0.00000000+0.j          0.00000000+0.j          0.00000000+0.j\n",
       "  -0.03286948+0.00926989j  0.00000000+0.j          0.00000000+0.j\n",
       "   0.00000000+0.j          0.00000000+0.j          0.00000000+0.j\n",
       "   0.00000000+0.j          0.00000000+0.j          0.00000000+0.j        ]\n",
       " [ 0.04275339+0.j          0.00000000+0.j          0.00000000+0.j\n",
       "   0.00000000+0.j          0.00000000+0.j          0.00000000+0.j\n",
       "   0.00000000+0.j          0.00000000+0.j          0.00000000+0.j\n",
       "  -0.00784522+0.02646141j  0.00000000+0.j          0.00000000+0.j\n",
       "   0.00000000+0.j          0.00000000+0.j          0.00000000+0.j\n",
       "   0.00000000+0.j          0.00000000+0.j          0.00000000+0.j\n",
       "   0.01932549+0.04008755j  0.00000000+0.j          0.00000000+0.j\n",
       "   0.00000000+0.j          0.00000000+0.j          0.00000000+0.j\n",
       "   0.00000000+0.j          0.00000000+0.j          0.00000000+0.j        ]\n",
       " [ 0.23729489-0.31763531j  0.00000000+0.j          0.00000000+0.j\n",
       "   0.00000000+0.j          0.00000000+0.j          0.00000000+0.j\n",
       "   0.00000000+0.j          0.00000000+0.j          0.00000000+0.j\n",
       "  -0.07095245+0.24338916j  0.00000000+0.j          0.00000000+0.j\n",
       "   0.00000000+0.j          0.00000000+0.j          0.00000000+0.j\n",
       "   0.00000000+0.j          0.00000000+0.j          0.00000000+0.j\n",
       "   0.15265472-0.18156748j  0.00000000+0.j          0.00000000+0.j\n",
       "   0.00000000+0.j          0.00000000+0.j          0.00000000+0.j\n",
       "   0.00000000+0.j          0.00000000+0.j          0.00000000+0.j        ]\n",
       " [ 0.00359451+0.32569467j  0.00000000+0.j          0.00000000+0.j\n",
       "   0.00000000+0.j          0.00000000+0.j          0.00000000+0.j\n",
       "   0.00000000+0.j          0.00000000+0.j          0.00000000+0.j\n",
       "   0.10911217-0.35481215j  0.00000000+0.j          0.00000000+0.j\n",
       "   0.00000000+0.j          0.00000000+0.j          0.00000000+0.j\n",
       "   0.00000000+0.j          0.00000000+0.j          0.00000000+0.j\n",
       "  -0.11969155-0.30591942j  0.00000000+0.j          0.00000000+0.j\n",
       "   0.00000000+0.j          0.00000000+0.j          0.00000000+0.j\n",
       "   0.00000000+0.j          0.00000000+0.j          0.00000000+0.j        ]\n",
       " [-0.28874623-0.03964296j  0.00000000+0.j          0.00000000+0.j\n",
       "   0.00000000+0.j          0.00000000+0.j          0.00000000+0.j\n",
       "   0.00000000+0.j          0.00000000+0.j          0.00000000+0.j\n",
       "  -0.22409833-0.07784487j  0.00000000+0.j          0.00000000+0.j\n",
       "   0.00000000+0.j          0.00000000+0.j          0.00000000+0.j\n",
       "   0.00000000+0.j          0.00000000+0.j          0.00000000+0.j\n",
       "   0.07798248-0.21958908j  0.00000000+0.j          0.00000000+0.j\n",
       "   0.00000000+0.j          0.00000000+0.j          0.00000000+0.j\n",
       "   0.00000000+0.j          0.00000000+0.j          0.00000000+0.j        ]\n",
       " [-0.17593421+0.07317909j  0.00000000+0.j          0.00000000+0.j\n",
       "   0.00000000+0.j          0.00000000+0.j          0.00000000+0.j\n",
       "   0.00000000+0.j          0.00000000+0.j          0.00000000+0.j\n",
       "  -0.10536593+0.07107698j  0.00000000+0.j          0.00000000+0.j\n",
       "   0.00000000+0.j          0.00000000+0.j          0.00000000+0.j\n",
       "   0.00000000+0.j          0.00000000+0.j          0.00000000+0.j\n",
       "  -0.08561438+0.07005932j  0.00000000+0.j          0.00000000+0.j\n",
       "   0.00000000+0.j          0.00000000+0.j          0.00000000+0.j\n",
       "   0.00000000+0.j          0.00000000+0.j          0.00000000+0.j        ]\n",
       " [ 0.08811031-0.07535421j  0.00000000+0.j          0.00000000+0.j\n",
       "   0.00000000+0.j          0.00000000+0.j          0.00000000+0.j\n",
       "   0.00000000+0.j          0.00000000+0.j          0.00000000+0.j\n",
       "   0.24812566-0.12543192j  0.00000000+0.j          0.00000000+0.j\n",
       "   0.00000000+0.j          0.00000000+0.j          0.00000000+0.j\n",
       "   0.00000000+0.j          0.00000000+0.j          0.00000000+0.j\n",
       "  -0.16254615+0.12469738j  0.00000000+0.j          0.00000000+0.j\n",
       "   0.00000000+0.j          0.00000000+0.j          0.00000000+0.j\n",
       "   0.00000000+0.j          0.00000000+0.j          0.00000000+0.j        ]\n",
       " [ 0.04507114-0.20506344j  0.00000000+0.j          0.00000000+0.j\n",
       "   0.00000000+0.j          0.00000000+0.j          0.00000000+0.j\n",
       "   0.00000000+0.j          0.00000000+0.j          0.00000000+0.j\n",
       "   0.00846357+0.00378439j  0.00000000+0.j          0.00000000+0.j\n",
       "   0.00000000+0.j          0.00000000+0.j          0.00000000+0.j\n",
       "   0.00000000+0.j          0.00000000+0.j          0.00000000+0.j\n",
       "  -0.06245910-0.137808j    0.00000000+0.j          0.00000000+0.j\n",
       "   0.00000000+0.j          0.00000000+0.j          0.00000000+0.j\n",
       "   0.00000000+0.j          0.00000000+0.j          0.00000000+0.j        ]\n",
       " [-0.00154343+0.03159972j  0.00000000+0.j          0.00000000+0.j\n",
       "   0.00000000+0.j          0.00000000+0.j          0.00000000+0.j\n",
       "   0.00000000+0.j          0.00000000+0.j          0.00000000+0.j\n",
       "  -0.00922035-0.06693822j  0.00000000+0.j          0.00000000+0.j\n",
       "   0.00000000+0.j          0.00000000+0.j          0.00000000+0.j\n",
       "   0.00000000+0.j          0.00000000+0.j          0.00000000+0.j\n",
       "  -0.03781244-0.13433212j  0.00000000+0.j          0.00000000+0.j\n",
       "   0.00000000+0.j          0.00000000+0.j          0.00000000+0.j\n",
       "   0.00000000+0.j          0.00000000+0.j          0.00000000+0.j        ]\n",
       " [-0.01179238-0.02212491j  0.00000000+0.j          0.00000000+0.j\n",
       "   0.00000000+0.j          0.00000000+0.j          0.00000000+0.j\n",
       "   0.00000000+0.j          0.00000000+0.j          0.00000000+0.j\n",
       "   0.05270996-0.05237786j  0.00000000+0.j          0.00000000+0.j\n",
       "   0.00000000+0.j          0.00000000+0.j          0.00000000+0.j\n",
       "   0.00000000+0.j          0.00000000+0.j          0.00000000+0.j\n",
       "  -0.03808276+0.04203297j  0.00000000+0.j          0.00000000+0.j\n",
       "   0.00000000+0.j          0.00000000+0.j          0.00000000+0.j\n",
       "   0.00000000+0.j          0.00000000+0.j          0.00000000+0.j        ]\n",
       " [-0.03031632-0.02100583j  0.00000000+0.j          0.00000000+0.j\n",
       "   0.00000000+0.j          0.00000000+0.j          0.00000000+0.j\n",
       "   0.00000000+0.j          0.00000000+0.j          0.00000000+0.j\n",
       "  -0.02750168+0.0347169j   0.00000000+0.j          0.00000000+0.j\n",
       "   0.00000000+0.j          0.00000000+0.j          0.00000000+0.j\n",
       "   0.00000000+0.j          0.00000000+0.j          0.00000000+0.j\n",
       "  -0.02976390+0.01429899j  0.00000000+0.j          0.00000000+0.j\n",
       "   0.00000000+0.j          0.00000000+0.j          0.00000000+0.j\n",
       "   0.00000000+0.j          0.00000000+0.j          0.00000000+0.j        ]\n",
       " [ 0.06373678+0.37255975j  0.00000000+0.j          0.00000000+0.j\n",
       "   0.00000000+0.j          0.00000000+0.j          0.00000000+0.j\n",
       "   0.00000000+0.j          0.00000000+0.j          0.00000000+0.j\n",
       "  -0.04786604+0.11548658j  0.00000000+0.j          0.00000000+0.j\n",
       "   0.00000000+0.j          0.00000000+0.j          0.00000000+0.j\n",
       "   0.00000000+0.j          0.00000000+0.j          0.00000000+0.j\n",
       "   0.23307764+0.11413764j  0.00000000+0.j          0.00000000+0.j\n",
       "   0.00000000+0.j          0.00000000+0.j          0.00000000+0.j\n",
       "   0.00000000+0.j          0.00000000+0.j          0.00000000+0.j        ]\n",
       " [-0.26710165+0.07814791j  0.00000000+0.j          0.00000000+0.j\n",
       "   0.00000000+0.j          0.00000000+0.j          0.00000000+0.j\n",
       "   0.00000000+0.j          0.00000000+0.j          0.00000000+0.j\n",
       "   0.15323341-0.03152684j  0.00000000+0.j          0.00000000+0.j\n",
       "   0.00000000+0.j          0.00000000+0.j          0.00000000+0.j\n",
       "   0.00000000+0.j          0.00000000+0.j          0.00000000+0.j\n",
       "   0.21107485-0.06266335j  0.00000000+0.j          0.00000000+0.j\n",
       "   0.00000000+0.j          0.00000000+0.j          0.00000000+0.j\n",
       "   0.00000000+0.j          0.00000000+0.j          0.00000000+0.j        ]\n",
       " [ 0.02332038-0.11381595j  0.00000000+0.j          0.00000000+0.j\n",
       "   0.00000000+0.j          0.00000000+0.j          0.00000000+0.j\n",
       "   0.00000000+0.j          0.00000000+0.j          0.00000000+0.j\n",
       "  -0.09325548-0.34915823j  0.00000000+0.j          0.00000000+0.j\n",
       "   0.00000000+0.j          0.00000000+0.j          0.00000000+0.j\n",
       "   0.00000000+0.j          0.00000000+0.j          0.00000000+0.j\n",
       "  -0.12737418-0.03310584j  0.00000000+0.j          0.00000000+0.j\n",
       "   0.00000000+0.j          0.00000000+0.j          0.00000000+0.j\n",
       "   0.00000000+0.j          0.00000000+0.j          0.00000000+0.j        ]\n",
       " [ 0.11453897+0.01784442j  0.00000000+0.j          0.00000000+0.j\n",
       "   0.00000000+0.j          0.00000000+0.j          0.00000000+0.j\n",
       "   0.00000000+0.j          0.00000000+0.j          0.00000000+0.j\n",
       "   0.07127097+0.26785016j  0.00000000+0.j          0.00000000+0.j\n",
       "   0.00000000+0.j          0.00000000+0.j          0.00000000+0.j\n",
       "   0.00000000+0.j          0.00000000+0.j          0.00000000+0.j\n",
       "  -0.08397931+0.04657339j  0.00000000+0.j          0.00000000+0.j\n",
       "   0.00000000+0.j          0.00000000+0.j          0.00000000+0.j\n",
       "   0.00000000+0.j          0.00000000+0.j          0.00000000+0.j        ]\n",
       " [-0.05735397-0.04759126j  0.00000000+0.j          0.00000000+0.j\n",
       "   0.00000000+0.j          0.00000000+0.j          0.00000000+0.j\n",
       "   0.00000000+0.j          0.00000000+0.j          0.00000000+0.j\n",
       "  -0.10707484+0.1178039j   0.00000000+0.j          0.00000000+0.j\n",
       "   0.00000000+0.j          0.00000000+0.j          0.00000000+0.j\n",
       "   0.00000000+0.j          0.00000000+0.j          0.00000000+0.j\n",
       "   0.02395321+0.02432077j  0.00000000+0.j          0.00000000+0.j\n",
       "   0.00000000+0.j          0.00000000+0.j          0.00000000+0.j\n",
       "   0.00000000+0.j          0.00000000+0.j          0.00000000+0.j        ]\n",
       " [-0.09770808-0.08741437j  0.00000000+0.j          0.00000000+0.j\n",
       "   0.00000000+0.j          0.00000000+0.j          0.00000000+0.j\n",
       "   0.00000000+0.j          0.00000000+0.j          0.00000000+0.j\n",
       "  -0.02896806-0.02919885j  0.00000000+0.j          0.00000000+0.j\n",
       "   0.00000000+0.j          0.00000000+0.j          0.00000000+0.j\n",
       "   0.00000000+0.j          0.00000000+0.j          0.00000000+0.j\n",
       "   0.11045944+0.04532371j  0.00000000+0.j          0.00000000+0.j\n",
       "   0.00000000+0.j          0.00000000+0.j          0.00000000+0.j\n",
       "   0.00000000+0.j          0.00000000+0.j          0.00000000+0.j        ]\n",
       " [ 0.13476915+0.08551988j  0.00000000+0.j          0.00000000+0.j\n",
       "   0.00000000+0.j          0.00000000+0.j          0.00000000+0.j\n",
       "   0.00000000+0.j          0.00000000+0.j          0.00000000+0.j\n",
       "   0.03975917+0.06659844j  0.00000000+0.j          0.00000000+0.j\n",
       "   0.00000000+0.j          0.00000000+0.j          0.00000000+0.j\n",
       "   0.00000000+0.j          0.00000000+0.j          0.00000000+0.j\n",
       "  -0.00080447+0.10087113j  0.00000000+0.j          0.00000000+0.j\n",
       "   0.00000000+0.j          0.00000000+0.j          0.00000000+0.j\n",
       "   0.00000000+0.j          0.00000000+0.j          0.00000000+0.j        ]\n",
       " [ 0.03487820+0.02508843j  0.00000000+0.j          0.00000000+0.j\n",
       "   0.00000000+0.j          0.00000000+0.j          0.00000000+0.j\n",
       "   0.00000000+0.j          0.00000000+0.j          0.00000000+0.j\n",
       "  -0.01956077-0.07838574j  0.00000000+0.j          0.00000000+0.j\n",
       "   0.00000000+0.j          0.00000000+0.j          0.00000000+0.j\n",
       "   0.00000000+0.j          0.00000000+0.j          0.00000000+0.j\n",
       "  -0.06243416+0.10049242j  0.00000000+0.j          0.00000000+0.j\n",
       "   0.00000000+0.j          0.00000000+0.j          0.00000000+0.j\n",
       "   0.00000000+0.j          0.00000000+0.j          0.00000000+0.j        ]\n",
       " [-0.06005658+0.02753638j  0.00000000+0.j          0.00000000+0.j\n",
       "   0.00000000+0.j          0.00000000+0.j          0.00000000+0.j\n",
       "   0.00000000+0.j          0.00000000+0.j          0.00000000+0.j\n",
       "   0.05433663-0.01179864j  0.00000000+0.j          0.00000000+0.j\n",
       "   0.00000000+0.j          0.00000000+0.j          0.00000000+0.j\n",
       "   0.00000000+0.j          0.00000000+0.j          0.00000000+0.j\n",
       "   0.01377637+0.06913863j  0.00000000+0.j          0.00000000+0.j\n",
       "   0.00000000+0.j          0.00000000+0.j          0.00000000+0.j\n",
       "   0.00000000+0.j          0.00000000+0.j          0.00000000+0.j        ]]"
      ]
     },
     "execution_count": 17,
     "metadata": {},
     "output_type": "execute_result"
    }
   ],
   "source": [
    "A, B = qt.to_stinespring(qt.rand_super_bcsz(3))\n",
    "V = qt.tensor(A, qt.basis(A.dims[0][-1], 0).dag())\n",
    "# This adds an annoying left index, so let's drop it now.\n",
    "del V.dims[0][-1]\n",
    "V"
   ]
  },
  {
   "cell_type": "code",
   "execution_count": 18,
   "metadata": {},
   "outputs": [
    {
     "data": {
      "text/latex": [
       "Quantum object: dims = [[3], [3]], shape = (3, 3), type = oper, isherm = True\\begin{equation*}\\left(\\begin{array}{*{11}c}0.0 & 0.0 & 0.0\\\\0.0 & 0.0 & 0.0\\\\0.0 & 0.0 & 0.0\\\\\\end{array}\\right)\\end{equation*}"
      ],
      "text/plain": [
       "Quantum object: dims = [[3], [3]], shape = (3, 3), type = oper, isherm = True\n",
       "Qobj data =\n",
       "[[ 0.  0.  0.]\n",
       " [ 0.  0.  0.]\n",
       " [ 0.  0.  0.]]"
      ]
     },
     "execution_count": 18,
     "metadata": {},
     "output_type": "execute_result"
    }
   ],
   "source": [
    "rho = qt.rand_dm_ginibre(3)\n",
    "(A * rho * A.dag()).ptrace((0,)) - (V * qt.tensor(rho, qt.ket2dm(qt.basis(A.dims[0][-1], 0))) * V.dag()).ptrace((0,))"
   ]
  },
  {
   "cell_type": "markdown",
   "metadata": {},
   "source": [
    "It thus remains to extend $V$ to act non-trivially on the full space. This is done by noting that the singular values of $V$ are each one or zero, convienently partitioning $\\Hil_X \\otimes \\Hil_Z$ into the null space of $V$ and its complement."
   ]
  },
  {
   "cell_type": "code",
   "execution_count": 19,
   "metadata": {},
   "outputs": [
    {
     "data": {
      "text/latex": [
       "Quantum object: dims = [[3, 9], [3, 9]], shape = (27, 27), type = oper, isherm = True\\begin{equation*}\\left(\\begin{array}{*{11}c}1.000 & 0.0 & 0.0 & 0.0 & 0.0 & \\cdots & 0.0 & 0.0 & 0.0 & 0.0 & 0.0\\\\0.0 & 1.000 & 0.0 & 0.0 & 0.0 & \\cdots & 0.0 & 0.0 & 0.0 & 0.0 & 0.0\\\\0.0 & 0.0 & 1.0 & 0.0 & 0.0 & \\cdots & 0.0 & 0.0 & 0.0 & 0.0 & 0.0\\\\0.0 & 0.0 & 0.0 & 1.0 & 0.0 & \\cdots & 0.0 & 0.0 & 0.0 & 0.0 & 0.0\\\\0.0 & 0.0 & 0.0 & 0.0 & 1.000 & \\cdots & 0.0 & 0.0 & 0.0 & 0.0 & 0.0\\\\\\vdots & \\vdots & \\vdots & \\vdots & \\vdots & \\ddots & \\vdots & \\vdots & \\vdots & \\vdots & \\vdots\\\\0.0 & 0.0 & 0.0 & 0.0 & 0.0 & \\cdots & 1.000 & 0.0 & 0.0 & 0.0 & 0.0\\\\0.0 & 0.0 & 0.0 & 0.0 & 0.0 & \\cdots & 0.0 & 1.0 & 0.0 & 0.0 & 0.0\\\\0.0 & 0.0 & 0.0 & 0.0 & 0.0 & \\cdots & 0.0 & 0.0 & 1.0 & 0.0 & 0.0\\\\0.0 & 0.0 & 0.0 & 0.0 & 0.0 & \\cdots & 0.0 & 0.0 & 0.0 & 1.000 & 0.0\\\\0.0 & 0.0 & 0.0 & 0.0 & 0.0 & \\cdots & 0.0 & 0.0 & 0.0 & 0.0 & 1.000\\\\\\end{array}\\right)\\end{equation*}"
      ],
      "text/plain": [
       "Quantum object: dims = [[3, 9], [3, 9]], shape = (27, 27), type = oper, isherm = True\n",
       "Qobj data =\n",
       "[[ 1.  0.  0.  0.  0.  0.  0.  0.  0.  0.  0.  0.  0.  0.  0.  0.  0.  0.\n",
       "   0.  0.  0.  0.  0.  0.  0.  0.  0.]\n",
       " [ 0.  1.  0.  0.  0.  0.  0.  0.  0.  0.  0.  0.  0.  0.  0.  0.  0.  0.\n",
       "   0.  0.  0.  0.  0.  0.  0.  0.  0.]\n",
       " [ 0.  0.  1.  0.  0.  0.  0.  0.  0.  0.  0.  0.  0.  0.  0.  0.  0.  0.\n",
       "   0.  0.  0.  0.  0.  0.  0.  0.  0.]\n",
       " [ 0.  0.  0.  1.  0.  0.  0.  0.  0.  0.  0.  0.  0.  0.  0.  0.  0.  0.\n",
       "   0.  0.  0.  0.  0.  0.  0.  0.  0.]\n",
       " [ 0.  0.  0.  0.  1.  0.  0.  0.  0.  0.  0.  0.  0.  0.  0.  0.  0.  0.\n",
       "   0.  0.  0.  0.  0.  0.  0.  0.  0.]\n",
       " [ 0.  0.  0.  0.  0.  1.  0.  0.  0.  0.  0.  0.  0.  0.  0.  0.  0.  0.\n",
       "   0.  0.  0.  0.  0.  0.  0.  0.  0.]\n",
       " [ 0.  0.  0.  0.  0.  0.  1.  0.  0.  0.  0.  0.  0.  0.  0.  0.  0.  0.\n",
       "   0.  0.  0.  0.  0.  0.  0.  0.  0.]\n",
       " [ 0.  0.  0.  0.  0.  0.  0.  1.  0.  0.  0.  0.  0.  0.  0.  0.  0.  0.\n",
       "   0.  0.  0.  0.  0.  0.  0.  0.  0.]\n",
       " [ 0.  0.  0.  0.  0.  0.  0.  0.  1.  0.  0.  0.  0.  0.  0.  0.  0.  0.\n",
       "   0.  0.  0.  0.  0.  0.  0.  0.  0.]\n",
       " [ 0.  0.  0.  0.  0.  0.  0.  0.  0.  1.  0.  0.  0.  0.  0.  0.  0.  0.\n",
       "   0.  0.  0.  0.  0.  0.  0.  0.  0.]\n",
       " [ 0.  0.  0.  0.  0.  0.  0.  0.  0.  0.  1.  0.  0.  0.  0.  0.  0.  0.\n",
       "   0.  0.  0.  0.  0.  0.  0.  0.  0.]\n",
       " [ 0.  0.  0.  0.  0.  0.  0.  0.  0.  0.  0.  1.  0.  0.  0.  0.  0.  0.\n",
       "   0.  0.  0.  0.  0.  0.  0.  0.  0.]\n",
       " [ 0.  0.  0.  0.  0.  0.  0.  0.  0.  0.  0.  0.  1.  0.  0.  0.  0.  0.\n",
       "   0.  0.  0.  0.  0.  0.  0.  0.  0.]\n",
       " [ 0.  0.  0.  0.  0.  0.  0.  0.  0.  0.  0.  0.  0.  1.  0.  0.  0.  0.\n",
       "   0.  0.  0.  0.  0.  0.  0.  0.  0.]\n",
       " [ 0.  0.  0.  0.  0.  0.  0.  0.  0.  0.  0.  0.  0.  0.  1.  0.  0.  0.\n",
       "   0.  0.  0.  0.  0.  0.  0.  0.  0.]\n",
       " [ 0.  0.  0.  0.  0.  0.  0.  0.  0.  0.  0.  0.  0.  0.  0.  1.  0.  0.\n",
       "   0.  0.  0.  0.  0.  0.  0.  0.  0.]\n",
       " [ 0.  0.  0.  0.  0.  0.  0.  0.  0.  0.  0.  0.  0.  0.  0.  0.  1.  0.\n",
       "   0.  0.  0.  0.  0.  0.  0.  0.  0.]\n",
       " [ 0.  0.  0.  0.  0.  0.  0.  0.  0.  0.  0.  0.  0.  0.  0.  0.  0.  1.\n",
       "   0.  0.  0.  0.  0.  0.  0.  0.  0.]\n",
       " [ 0.  0.  0.  0.  0.  0.  0.  0.  0.  0.  0.  0.  0.  0.  0.  0.  0.  0.\n",
       "   1.  0.  0.  0.  0.  0.  0.  0.  0.]\n",
       " [ 0.  0.  0.  0.  0.  0.  0.  0.  0.  0.  0.  0.  0.  0.  0.  0.  0.  0.\n",
       "   0.  1.  0.  0.  0.  0.  0.  0.  0.]\n",
       " [ 0.  0.  0.  0.  0.  0.  0.  0.  0.  0.  0.  0.  0.  0.  0.  0.  0.  0.\n",
       "   0.  0.  1.  0.  0.  0.  0.  0.  0.]\n",
       " [ 0.  0.  0.  0.  0.  0.  0.  0.  0.  0.  0.  0.  0.  0.  0.  0.  0.  0.\n",
       "   0.  0.  0.  1.  0.  0.  0.  0.  0.]\n",
       " [ 0.  0.  0.  0.  0.  0.  0.  0.  0.  0.  0.  0.  0.  0.  0.  0.  0.  0.\n",
       "   0.  0.  0.  0.  1.  0.  0.  0.  0.]\n",
       " [ 0.  0.  0.  0.  0.  0.  0.  0.  0.  0.  0.  0.  0.  0.  0.  0.  0.  0.\n",
       "   0.  0.  0.  0.  0.  1.  0.  0.  0.]\n",
       " [ 0.  0.  0.  0.  0.  0.  0.  0.  0.  0.  0.  0.  0.  0.  0.  0.  0.  0.\n",
       "   0.  0.  0.  0.  0.  0.  1.  0.  0.]\n",
       " [ 0.  0.  0.  0.  0.  0.  0.  0.  0.  0.  0.  0.  0.  0.  0.  0.  0.  0.\n",
       "   0.  0.  0.  0.  0.  0.  0.  1.  0.]\n",
       " [ 0.  0.  0.  0.  0.  0.  0.  0.  0.  0.  0.  0.  0.  0.  0.  0.  0.  0.\n",
       "   0.  0.  0.  0.  0.  0.  0.  0.  1.]]"
      ]
     },
     "execution_count": 19,
     "metadata": {},
     "output_type": "execute_result"
    }
   ],
   "source": [
    "Vu, Vs, Vv = np.linalg.svd(V.data.todense())\n",
    "U = qt.Qobj(Vu, dims=V.dims) * qt.Qobj(Vv, dims=V.dims)\n",
    "U * U.dag()"
   ]
  },
  {
   "cell_type": "markdown",
   "metadata": {},
   "source": [
    "We finish by verifying that preparing an environment state, evolving under the system/environment unitary $U$, then partial tracing over the environment produces the same map as the original channel."
   ]
  },
  {
   "cell_type": "code",
   "execution_count": 20,
   "metadata": {},
   "outputs": [
    {
     "data": {
      "text/latex": [
       "Quantum object: dims = [[3], [3]], shape = (3, 3), type = oper, isherm = True\\begin{equation*}\\left(\\begin{array}{*{11}c}0.0 & 0.0 & 0.0\\\\0.0 & 0.0 & 0.0\\\\0.0 & 0.0 & 0.0\\\\\\end{array}\\right)\\end{equation*}"
      ],
      "text/plain": [
       "Quantum object: dims = [[3], [3]], shape = (3, 3), type = oper, isherm = True\n",
       "Qobj data =\n",
       "[[ 0.  0.  0.]\n",
       " [ 0.  0.  0.]\n",
       " [ 0.  0.  0.]]"
      ]
     },
     "execution_count": 20,
     "metadata": {},
     "output_type": "execute_result"
    }
   ],
   "source": [
    "(A * rho * A.dag()).ptrace((0,)) - (U * qt.tensor(rho, qt.ket2dm(qt.basis(A.dims[0][-1], 0))) * U.dag()).ptrace((0,))"
   ]
  },
  {
   "cell_type": "markdown",
   "metadata": {},
   "source": [
    "## Epilouge"
   ]
  },
  {
   "cell_type": "code",
   "execution_count": 21,
   "metadata": {
    "scrolled": true
   },
   "outputs": [
    {
     "data": {
      "text/html": [
       "<table><tr><th>Software</th><th>Version</th></tr><tr><td>QuTiP</td><td>4.3.0.dev0+6e5b1d43</td></tr><tr><td>Numpy</td><td>1.13.1</td></tr><tr><td>SciPy</td><td>0.19.1</td></tr><tr><td>matplotlib</td><td>2.0.2</td></tr><tr><td>Cython</td><td>0.25.2</td></tr><tr><td>Number of CPUs</td><td>2</td></tr><tr><td>BLAS Info</td><td>INTEL MKL</td></tr><tr><td>IPython</td><td>6.1.0</td></tr><tr><td>Python</td><td>3.6.2 |Anaconda custom (x86_64)| (default, Jul 20 2017, 13:14:59) \n",
       "[GCC 4.2.1 Compatible Apple LLVM 6.0 (clang-600.0.57)]</td></tr><tr><td>OS</td><td>posix [darwin]</td></tr><tr><td colspan='2'>Thu Jul 20 22:58:26 2017 MDT</td></tr></table>"
      ],
      "text/plain": [
       "<IPython.core.display.HTML object>"
      ]
     },
     "execution_count": 21,
     "metadata": {},
     "output_type": "execute_result"
    }
   ],
   "source": [
    "version_table()"
   ]
  }
 ],
 "metadata": {
  "kernelspec": {
   "display_name": "Python 3",
   "language": "python",
   "name": "python3"
  },
  "language_info": {
   "codemirror_mode": {
    "name": "ipython",
    "version": 3
   },
   "file_extension": ".py",
   "mimetype": "text/x-python",
   "name": "python",
   "nbconvert_exporter": "python",
   "pygments_lexer": "ipython3",
   "version": "3.6.2"
  }
 },
 "nbformat": 4,
 "nbformat_minor": 1
}
