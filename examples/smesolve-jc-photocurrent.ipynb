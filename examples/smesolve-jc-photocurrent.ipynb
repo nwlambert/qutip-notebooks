{
 "cells": [
  {
   "cell_type": "markdown",
   "metadata": {},
   "source": [
    "# Stochastic photo-current detection in a JC model"
   ]
  },
  {
   "cell_type": "markdown",
   "metadata": {},
   "source": [
    "## Mixing stochastic and deterministic master equations"
   ]
  },
  {
   "cell_type": "markdown",
   "metadata": {},
   "source": [
    "Copyright (C) 2011 and later, Paul D. Nation & Robert J. Johansson"
   ]
  },
  {
   "cell_type": "code",
   "execution_count": 1,
   "metadata": {},
   "outputs": [],
   "source": [
    "%matplotlib inline\n",
    "import matplotlib.pyplot as plt"
   ]
  },
  {
   "cell_type": "code",
   "execution_count": 2,
   "metadata": {
    "collapsed": true
   },
   "outputs": [],
   "source": [
    "import numpy as np\n",
    "import qutip.settings \n",
    "from qutip import *"
   ]
  },
  {
   "cell_type": "code",
   "execution_count": 3,
   "metadata": {},
   "outputs": [],
   "source": [
    "from qutip.ipynbtools import HTMLProgressBar"
   ]
  },
  {
   "cell_type": "code",
   "execution_count": 4,
   "metadata": {},
   "outputs": [],
   "source": [
    "from matplotlib import rcParams\n",
    "rcParams['font.family'] = 'STIXGeneral'\n",
    "rcParams['mathtext.fontset'] = 'stix'\n",
    "rcParams['font.size'] = '14'"
   ]
  },
  {
   "cell_type": "code",
   "execution_count": 5,
   "metadata": {},
   "outputs": [],
   "source": [
    "N = 15\n",
    "w0 = 1.0 * 2 * np.pi\n",
    "g = 0.2 * 2 * np.pi\n",
    "times = np.linspace(0, 15, 150)\n",
    "dt = times[1] - times[0]\n",
    "gamma = 0.01\n",
    "kappa = 0.1\n",
    "ntraj = 150"
   ]
  },
  {
   "cell_type": "code",
   "execution_count": 6,
   "metadata": {},
   "outputs": [],
   "source": [
    "a = tensor(destroy(N), identity(2))\n",
    "sm = tensor(identity(N), destroy(2))"
   ]
  },
  {
   "cell_type": "code",
   "execution_count": 7,
   "metadata": {},
   "outputs": [],
   "source": [
    "H = w0 * a.dag() * a + w0 * sm.dag() * sm + g * (sm * a.dag() + sm.dag() * a)"
   ]
  },
  {
   "cell_type": "code",
   "execution_count": 8,
   "metadata": {},
   "outputs": [],
   "source": [
    "rho0 = tensor(fock(N, 5), fock(2, 0))"
   ]
  },
  {
   "cell_type": "code",
   "execution_count": 9,
   "metadata": {},
   "outputs": [],
   "source": [
    "e_ops = [a.dag() * a, a + a.dag(), sm.dag() * sm]"
   ]
  },
  {
   "cell_type": "markdown",
   "metadata": {},
   "source": [
    "### Highly efficient detection"
   ]
  },
  {
   "cell_type": "code",
   "execution_count": 10,
   "metadata": {},
   "outputs": [],
   "source": [
    "c_ops = [np.sqrt(gamma) * sm]  # collapse operator for qubit\n",
    "sc_ops = [np.sqrt(kappa) * a]  # stochastic collapse for resonator"
   ]
  },
  {
   "cell_type": "code",
   "execution_count": 11,
   "metadata": {},
   "outputs": [],
   "source": [
    "result_ref = mesolve(H, rho0, times, c_ops+sc_ops, e_ops)"
   ]
  },
  {
   "cell_type": "code",
   "execution_count": 12,
   "metadata": {},
   "outputs": [
    {
     "name": "stdout",
     "output_type": "stream",
     "text": [
      "Total run time:  11.17s\n"
     ]
    }
   ],
   "source": [
    "result1 = smesolve(H, rho0, times, c_ops=c_ops, sc_ops=sc_ops, e_ops=e_ops, \n",
    "                   ntraj=1, nsubsteps=100, method='photocurrent',\n",
    "                   store_measurement=True,\n",
    "                   options=Options(store_states=True))"
   ]
  },
  {
   "cell_type": "markdown",
   "metadata": {},
   "source": [
    "Run the `smesolve` solver in parallel by passing the keyword argument `map_func=parallel_map`:"
   ]
  },
  {
   "cell_type": "code",
   "execution_count": 13,
   "metadata": {},
   "outputs": [
    {
     "data": {
      "text/html": [
       "<div style=\"border: 2px solid grey; width: 600px\">\n",
       "  <div id=\"5c28e63f-3b31-4590-92c5-384bf6ad8911\" style=\"background-color: rgba(121,195,106,0.75); width:0%\">&nbsp;</div>\n",
       "</div>\n",
       "<p id=\"070a8cd2-6c82-4fd6-9902-a93ee5615366\"></p>\n"
      ],
      "text/plain": [
       "<IPython.core.display.HTML object>"
      ]
     },
     "metadata": {},
     "output_type": "display_data"
    },
    {
     "data": {
      "application/javascript": [
       "$('div#5c28e63f-3b31-4590-92c5-384bf6ad8911').width('1%');$('p#070a8cd2-6c82-4fd6-9902-a93ee5615366').text('Elapsed time:  12.90s. Est. remaining time: 00:00:15:54.');"
      ],
      "text/plain": [
       "<IPython.core.display.Javascript object>"
      ]
     },
     "metadata": {},
     "output_type": "display_data"
    },
    {
     "data": {
      "application/javascript": [
       "$('div#5c28e63f-3b31-4590-92c5-384bf6ad8911').width('2%');$('p#070a8cd2-6c82-4fd6-9902-a93ee5615366').text('Elapsed time:  26.86s. Est. remaining time: 00:00:21:56.');"
      ],
      "text/plain": [
       "<IPython.core.display.Javascript object>"
      ]
     },
     "metadata": {},
     "output_type": "display_data"
    },
    {
     "data": {
      "application/javascript": [
       "$('div#5c28e63f-3b31-4590-92c5-384bf6ad8911').width('3%');$('p#070a8cd2-6c82-4fd6-9902-a93ee5615366').text('Elapsed time:  39.34s. Est. remaining time: 00:00:19:00.');"
      ],
      "text/plain": [
       "<IPython.core.display.Javascript object>"
      ]
     },
     "metadata": {},
     "output_type": "display_data"
    },
    {
     "data": {
      "application/javascript": [
       "$('div#5c28e63f-3b31-4590-92c5-384bf6ad8911').width('4%');$('p#070a8cd2-6c82-4fd6-9902-a93ee5615366').text('Elapsed time:  39.77s. Est. remaining time: 00:00:15:54.');"
      ],
      "text/plain": [
       "<IPython.core.display.Javascript object>"
      ]
     },
     "metadata": {},
     "output_type": "display_data"
    },
    {
     "data": {
      "application/javascript": [
       "$('div#5c28e63f-3b31-4590-92c5-384bf6ad8911').width('5%');$('p#070a8cd2-6c82-4fd6-9902-a93ee5615366').text('Elapsed time:  53.73s. Est. remaining time: 00:00:15:53.');"
      ],
      "text/plain": [
       "<IPython.core.display.Javascript object>"
      ]
     },
     "metadata": {},
     "output_type": "display_data"
    },
    {
     "data": {
      "application/javascript": [
       "$('div#5c28e63f-3b31-4590-92c5-384bf6ad8911').width('6%');$('p#070a8cd2-6c82-4fd6-9902-a93ee5615366').text('Elapsed time:  67.01s. Est. remaining time: 00:00:17:29.');"
      ],
      "text/plain": [
       "<IPython.core.display.Javascript object>"
      ]
     },
     "metadata": {},
     "output_type": "display_data"
    },
    {
     "data": {
      "application/javascript": [
       "$('div#5c28e63f-3b31-4590-92c5-384bf6ad8911').width('7%');$('p#070a8cd2-6c82-4fd6-9902-a93ee5615366').text('Elapsed time:  79.96s. Est. remaining time: 00:00:16:50.');"
      ],
      "text/plain": [
       "<IPython.core.display.Javascript object>"
      ]
     },
     "metadata": {},
     "output_type": "display_data"
    },
    {
     "data": {
      "application/javascript": [
       "$('div#5c28e63f-3b31-4590-92c5-384bf6ad8911').width('8%');$('p#070a8cd2-6c82-4fd6-9902-a93ee5615366').text('Elapsed time:  80.75s. Est. remaining time: 00:00:15:28.');"
      ],
      "text/plain": [
       "<IPython.core.display.Javascript object>"
      ]
     },
     "metadata": {},
     "output_type": "display_data"
    },
    {
     "data": {
      "application/javascript": [
       "$('div#5c28e63f-3b31-4590-92c5-384bf6ad8911').width('9%');$('p#070a8cd2-6c82-4fd6-9902-a93ee5615366').text('Elapsed time:  92.99s. Est. remaining time: 00:00:15:03.');"
      ],
      "text/plain": [
       "<IPython.core.display.Javascript object>"
      ]
     },
     "metadata": {},
     "output_type": "display_data"
    },
    {
     "data": {
      "application/javascript": [
       "$('div#5c28e63f-3b31-4590-92c5-384bf6ad8911').width('10%');$('p#070a8cd2-6c82-4fd6-9902-a93ee5615366').text('Elapsed time: 105.17s. Est. remaining time: 00:00:15:46.');"
      ],
      "text/plain": [
       "<IPython.core.display.Javascript object>"
      ]
     },
     "metadata": {},
     "output_type": "display_data"
    },
    {
     "data": {
      "application/javascript": [
       "$('div#5c28e63f-3b31-4590-92c5-384bf6ad8911').width('11%');$('p#070a8cd2-6c82-4fd6-9902-a93ee5615366').text('Elapsed time: 117.75s. Est. remaining time: 00:00:15:21.');"
      ],
      "text/plain": [
       "<IPython.core.display.Javascript object>"
      ]
     },
     "metadata": {},
     "output_type": "display_data"
    },
    {
     "data": {
      "application/javascript": [
       "$('div#5c28e63f-3b31-4590-92c5-384bf6ad8911').width('12%');$('p#070a8cd2-6c82-4fd6-9902-a93ee5615366').text('Elapsed time: 117.97s. Est. remaining time: 00:00:14:25.');"
      ],
      "text/plain": [
       "<IPython.core.display.Javascript object>"
      ]
     },
     "metadata": {},
     "output_type": "display_data"
    },
    {
     "data": {
      "application/javascript": [
       "$('div#5c28e63f-3b31-4590-92c5-384bf6ad8911').width('13%');$('p#070a8cd2-6c82-4fd6-9902-a93ee5615366').text('Elapsed time: 132.04s. Est. remaining time: 00:00:14:18.');"
      ],
      "text/plain": [
       "<IPython.core.display.Javascript object>"
      ]
     },
     "metadata": {},
     "output_type": "display_data"
    },
    {
     "data": {
      "application/javascript": [
       "$('div#5c28e63f-3b31-4590-92c5-384bf6ad8911').width('14%');$('p#070a8cd2-6c82-4fd6-9902-a93ee5615366').text('Elapsed time: 144.11s. Est. remaining time: 00:00:14:45.');"
      ],
      "text/plain": [
       "<IPython.core.display.Javascript object>"
      ]
     },
     "metadata": {},
     "output_type": "display_data"
    },
    {
     "data": {
      "application/javascript": [
       "$('div#5c28e63f-3b31-4590-92c5-384bf6ad8911').width('15%');$('p#070a8cd2-6c82-4fd6-9902-a93ee5615366').text('Elapsed time: 156.03s. Est. remaining time: 00:00:14:21.');"
      ],
      "text/plain": [
       "<IPython.core.display.Javascript object>"
      ]
     },
     "metadata": {},
     "output_type": "display_data"
    },
    {
     "data": {
      "application/javascript": [
       "$('div#5c28e63f-3b31-4590-92c5-384bf6ad8911').width('16%');$('p#070a8cd2-6c82-4fd6-9902-a93ee5615366').text('Elapsed time: 156.38s. Est. remaining time: 00:00:13:41.');"
      ],
      "text/plain": [
       "<IPython.core.display.Javascript object>"
      ]
     },
     "metadata": {},
     "output_type": "display_data"
    },
    {
     "data": {
      "application/javascript": [
       "$('div#5c28e63f-3b31-4590-92c5-384bf6ad8911').width('17%');$('p#070a8cd2-6c82-4fd6-9902-a93ee5615366').text('Elapsed time: 169.02s. Est. remaining time: 00:00:13:26.');"
      ],
      "text/plain": [
       "<IPython.core.display.Javascript object>"
      ]
     },
     "metadata": {},
     "output_type": "display_data"
    },
    {
     "data": {
      "application/javascript": [
       "$('div#5c28e63f-3b31-4590-92c5-384bf6ad8911').width('18%');$('p#070a8cd2-6c82-4fd6-9902-a93ee5615366').text('Elapsed time: 181.73s. Est. remaining time: 00:00:13:47.');"
      ],
      "text/plain": [
       "<IPython.core.display.Javascript object>"
      ]
     },
     "metadata": {},
     "output_type": "display_data"
    },
    {
     "data": {
      "application/javascript": [
       "$('div#5c28e63f-3b31-4590-92c5-384bf6ad8911').width('19%');$('p#070a8cd2-6c82-4fd6-9902-a93ee5615366').text('Elapsed time: 193.72s. Est. remaining time: 00:00:13:28.');"
      ],
      "text/plain": [
       "<IPython.core.display.Javascript object>"
      ]
     },
     "metadata": {},
     "output_type": "display_data"
    },
    {
     "data": {
      "application/javascript": [
       "$('div#5c28e63f-3b31-4590-92c5-384bf6ad8911').width('20%');$('p#070a8cd2-6c82-4fd6-9902-a93ee5615366').text('Elapsed time: 194.13s. Est. remaining time: 00:00:12:56.');"
      ],
      "text/plain": [
       "<IPython.core.display.Javascript object>"
      ]
     },
     "metadata": {},
     "output_type": "display_data"
    },
    {
     "data": {
      "application/javascript": [
       "$('div#5c28e63f-3b31-4590-92c5-384bf6ad8911').width('21%');$('p#070a8cd2-6c82-4fd6-9902-a93ee5615366').text('Elapsed time: 204.93s. Est. remaining time: 00:00:12:35.');"
      ],
      "text/plain": [
       "<IPython.core.display.Javascript object>"
      ]
     },
     "metadata": {},
     "output_type": "display_data"
    },
    {
     "data": {
      "application/javascript": [
       "$('div#5c28e63f-3b31-4590-92c5-384bf6ad8911').width('22%');$('p#070a8cd2-6c82-4fd6-9902-a93ee5615366').text('Elapsed time: 216.08s. Est. remaining time: 00:00:12:46.');"
      ],
      "text/plain": [
       "<IPython.core.display.Javascript object>"
      ]
     },
     "metadata": {},
     "output_type": "display_data"
    },
    {
     "data": {
      "application/javascript": [
       "$('div#5c28e63f-3b31-4590-92c5-384bf6ad8911').width('23%');$('p#070a8cd2-6c82-4fd6-9902-a93ee5615366').text('Elapsed time: 230.90s. Est. remaining time: 00:00:12:38.');"
      ],
      "text/plain": [
       "<IPython.core.display.Javascript object>"
      ]
     },
     "metadata": {},
     "output_type": "display_data"
    },
    {
     "data": {
      "application/javascript": [
       "$('div#5c28e63f-3b31-4590-92c5-384bf6ad8911').width('24%');$('p#070a8cd2-6c82-4fd6-9902-a93ee5615366').text('Elapsed time: 231.45s. Est. remaining time: 00:00:12:12.');"
      ],
      "text/plain": [
       "<IPython.core.display.Javascript object>"
      ]
     },
     "metadata": {},
     "output_type": "display_data"
    },
    {
     "data": {
      "application/javascript": [
       "$('div#5c28e63f-3b31-4590-92c5-384bf6ad8911').width('25%');$('p#070a8cd2-6c82-4fd6-9902-a93ee5615366').text('Elapsed time: 247.22s. Est. remaining time: 00:00:12:08.');"
      ],
      "text/plain": [
       "<IPython.core.display.Javascript object>"
      ]
     },
     "metadata": {},
     "output_type": "display_data"
    },
    {
     "data": {
      "application/javascript": [
       "$('div#5c28e63f-3b31-4590-92c5-384bf6ad8911').width('26%');$('p#070a8cd2-6c82-4fd6-9902-a93ee5615366').text('Elapsed time: 261.65s. Est. remaining time: 00:00:12:24.');"
      ],
      "text/plain": [
       "<IPython.core.display.Javascript object>"
      ]
     },
     "metadata": {},
     "output_type": "display_data"
    },
    {
     "data": {
      "application/javascript": [
       "$('div#5c28e63f-3b31-4590-92c5-384bf6ad8911').width('27%');$('p#070a8cd2-6c82-4fd6-9902-a93ee5615366').text('Elapsed time: 276.68s. Est. remaining time: 00:00:12:15.');"
      ],
      "text/plain": [
       "<IPython.core.display.Javascript object>"
      ]
     },
     "metadata": {},
     "output_type": "display_data"
    },
    {
     "data": {
      "application/javascript": [
       "$('div#5c28e63f-3b31-4590-92c5-384bf6ad8911').width('28%');$('p#070a8cd2-6c82-4fd6-9902-a93ee5615366').text('Elapsed time: 277.98s. Est. remaining time: 00:00:11:54.');"
      ],
      "text/plain": [
       "<IPython.core.display.Javascript object>"
      ]
     },
     "metadata": {},
     "output_type": "display_data"
    },
    {
     "data": {
      "application/javascript": [
       "$('div#5c28e63f-3b31-4590-92c5-384bf6ad8911').width('29%');$('p#070a8cd2-6c82-4fd6-9902-a93ee5615366').text('Elapsed time: 292.77s. Est. remaining time: 00:00:11:45.');"
      ],
      "text/plain": [
       "<IPython.core.display.Javascript object>"
      ]
     },
     "metadata": {},
     "output_type": "display_data"
    },
    {
     "data": {
      "application/javascript": [
       "$('div#5c28e63f-3b31-4590-92c5-384bf6ad8911').width('30%');$('p#070a8cd2-6c82-4fd6-9902-a93ee5615366').text('Elapsed time: 306.23s. Est. remaining time: 00:00:11:54.');"
      ],
      "text/plain": [
       "<IPython.core.display.Javascript object>"
      ]
     },
     "metadata": {},
     "output_type": "display_data"
    },
    {
     "data": {
      "application/javascript": [
       "$('div#5c28e63f-3b31-4590-92c5-384bf6ad8911').width('31%');$('p#070a8cd2-6c82-4fd6-9902-a93ee5615366').text('Elapsed time: 321.06s. Est. remaining time: 00:00:11:43.');"
      ],
      "text/plain": [
       "<IPython.core.display.Javascript object>"
      ]
     },
     "metadata": {},
     "output_type": "display_data"
    },
    {
     "data": {
      "application/javascript": [
       "$('div#5c28e63f-3b31-4590-92c5-384bf6ad8911').width('32%');$('p#070a8cd2-6c82-4fd6-9902-a93ee5615366').text('Elapsed time: 322.40s. Est. remaining time: 00:00:11:25.');"
      ],
      "text/plain": [
       "<IPython.core.display.Javascript object>"
      ]
     },
     "metadata": {},
     "output_type": "display_data"
    },
    {
     "data": {
      "application/javascript": [
       "$('div#5c28e63f-3b31-4590-92c5-384bf6ad8911').width('33%');$('p#070a8cd2-6c82-4fd6-9902-a93ee5615366').text('Elapsed time: 337.49s. Est. remaining time: 00:00:11:14.');"
      ],
      "text/plain": [
       "<IPython.core.display.Javascript object>"
      ]
     },
     "metadata": {},
     "output_type": "display_data"
    },
    {
     "data": {
      "application/javascript": [
       "$('div#5c28e63f-3b31-4590-92c5-384bf6ad8911').width('34%');$('p#070a8cd2-6c82-4fd6-9902-a93ee5615366').text('Elapsed time: 351.39s. Est. remaining time: 00:00:11:22.');"
      ],
      "text/plain": [
       "<IPython.core.display.Javascript object>"
      ]
     },
     "metadata": {},
     "output_type": "display_data"
    },
    {
     "data": {
      "application/javascript": [
       "$('div#5c28e63f-3b31-4590-92c5-384bf6ad8911').width('35%');$('p#070a8cd2-6c82-4fd6-9902-a93ee5615366').text('Elapsed time: 366.25s. Est. remaining time: 00:00:11:10.');"
      ],
      "text/plain": [
       "<IPython.core.display.Javascript object>"
      ]
     },
     "metadata": {},
     "output_type": "display_data"
    },
    {
     "data": {
      "application/javascript": [
       "$('div#5c28e63f-3b31-4590-92c5-384bf6ad8911').width('36%');$('p#070a8cd2-6c82-4fd6-9902-a93ee5615366').text('Elapsed time: 367.41s. Est. remaining time: 00:00:10:53.');"
      ],
      "text/plain": [
       "<IPython.core.display.Javascript object>"
      ]
     },
     "metadata": {},
     "output_type": "display_data"
    },
    {
     "data": {
      "application/javascript": [
       "$('div#5c28e63f-3b31-4590-92c5-384bf6ad8911').width('37%');$('p#070a8cd2-6c82-4fd6-9902-a93ee5615366').text('Elapsed time: 380.24s. Est. remaining time: 00:00:10:38.');"
      ],
      "text/plain": [
       "<IPython.core.display.Javascript object>"
      ]
     },
     "metadata": {},
     "output_type": "display_data"
    },
    {
     "data": {
      "application/javascript": [
       "$('div#5c28e63f-3b31-4590-92c5-384bf6ad8911').width('38%');$('p#070a8cd2-6c82-4fd6-9902-a93ee5615366').text('Elapsed time: 391.43s. Est. remaining time: 00:00:10:38.');"
      ],
      "text/plain": [
       "<IPython.core.display.Javascript object>"
      ]
     },
     "metadata": {},
     "output_type": "display_data"
    },
    {
     "data": {
      "application/javascript": [
       "$('div#5c28e63f-3b31-4590-92c5-384bf6ad8911').width('39%');$('p#070a8cd2-6c82-4fd6-9902-a93ee5615366').text('Elapsed time: 403.34s. Est. remaining time: 00:00:10:22.');"
      ],
      "text/plain": [
       "<IPython.core.display.Javascript object>"
      ]
     },
     "metadata": {},
     "output_type": "display_data"
    },
    {
     "data": {
      "application/javascript": [
       "$('div#5c28e63f-3b31-4590-92c5-384bf6ad8911').width('40%');$('p#070a8cd2-6c82-4fd6-9902-a93ee5615366').text('Elapsed time: 404.44s. Est. remaining time: 00:00:10:06.');"
      ],
      "text/plain": [
       "<IPython.core.display.Javascript object>"
      ]
     },
     "metadata": {},
     "output_type": "display_data"
    },
    {
     "data": {
      "application/javascript": [
       "$('div#5c28e63f-3b31-4590-92c5-384bf6ad8911').width('41%');$('p#070a8cd2-6c82-4fd6-9902-a93ee5615366').text('Elapsed time: 416.98s. Est. remaining time: 00:00:09:51.');"
      ],
      "text/plain": [
       "<IPython.core.display.Javascript object>"
      ]
     },
     "metadata": {},
     "output_type": "display_data"
    },
    {
     "data": {
      "application/javascript": [
       "$('div#5c28e63f-3b31-4590-92c5-384bf6ad8911').width('42%');$('p#070a8cd2-6c82-4fd6-9902-a93ee5615366').text('Elapsed time: 428.64s. Est. remaining time: 00:00:09:51.');"
      ],
      "text/plain": [
       "<IPython.core.display.Javascript object>"
      ]
     },
     "metadata": {},
     "output_type": "display_data"
    },
    {
     "data": {
      "application/javascript": [
       "$('div#5c28e63f-3b31-4590-92c5-384bf6ad8911').width('43%');$('p#070a8cd2-6c82-4fd6-9902-a93ee5615366').text('Elapsed time: 441.94s. Est. remaining time: 00:00:09:37.');"
      ],
      "text/plain": [
       "<IPython.core.display.Javascript object>"
      ]
     },
     "metadata": {},
     "output_type": "display_data"
    },
    {
     "data": {
      "application/javascript": [
       "$('div#5c28e63f-3b31-4590-92c5-384bf6ad8911').width('44%');$('p#070a8cd2-6c82-4fd6-9902-a93ee5615366').text('Elapsed time: 443.29s. Est. remaining time: 00:00:09:24.');"
      ],
      "text/plain": [
       "<IPython.core.display.Javascript object>"
      ]
     },
     "metadata": {},
     "output_type": "display_data"
    },
    {
     "data": {
      "application/javascript": [
       "$('div#5c28e63f-3b31-4590-92c5-384bf6ad8911').width('45%');$('p#070a8cd2-6c82-4fd6-9902-a93ee5615366').text('Elapsed time: 455.77s. Est. remaining time: 00:00:09:09.');"
      ],
      "text/plain": [
       "<IPython.core.display.Javascript object>"
      ]
     },
     "metadata": {},
     "output_type": "display_data"
    },
    {
     "data": {
      "application/javascript": [
       "$('div#5c28e63f-3b31-4590-92c5-384bf6ad8911').width('46%');$('p#070a8cd2-6c82-4fd6-9902-a93ee5615366').text('Elapsed time: 467.02s. Est. remaining time: 00:00:09:08.');"
      ],
      "text/plain": [
       "<IPython.core.display.Javascript object>"
      ]
     },
     "metadata": {},
     "output_type": "display_data"
    },
    {
     "data": {
      "application/javascript": [
       "$('div#5c28e63f-3b31-4590-92c5-384bf6ad8911').width('47%');$('p#070a8cd2-6c82-4fd6-9902-a93ee5615366').text('Elapsed time: 479.32s. Est. remaining time: 00:00:08:53.');"
      ],
      "text/plain": [
       "<IPython.core.display.Javascript object>"
      ]
     },
     "metadata": {},
     "output_type": "display_data"
    },
    {
     "data": {
      "application/javascript": [
       "$('div#5c28e63f-3b31-4590-92c5-384bf6ad8911').width('48%');$('p#070a8cd2-6c82-4fd6-9902-a93ee5615366').text('Elapsed time: 480.79s. Est. remaining time: 00:00:08:40.');"
      ],
      "text/plain": [
       "<IPython.core.display.Javascript object>"
      ]
     },
     "metadata": {},
     "output_type": "display_data"
    },
    {
     "data": {
      "application/javascript": [
       "$('div#5c28e63f-3b31-4590-92c5-384bf6ad8911').width('49%');$('p#070a8cd2-6c82-4fd6-9902-a93ee5615366').text('Elapsed time: 493.19s. Est. remaining time: 00:00:08:26.');"
      ],
      "text/plain": [
       "<IPython.core.display.Javascript object>"
      ]
     },
     "metadata": {},
     "output_type": "display_data"
    },
    {
     "data": {
      "application/javascript": [
       "$('div#5c28e63f-3b31-4590-92c5-384bf6ad8911').width('50%');$('p#070a8cd2-6c82-4fd6-9902-a93ee5615366').text('Elapsed time: 503.90s. Est. remaining time: 00:00:08:23.');"
      ],
      "text/plain": [
       "<IPython.core.display.Javascript object>"
      ]
     },
     "metadata": {},
     "output_type": "display_data"
    },
    {
     "data": {
      "application/javascript": [
       "$('div#5c28e63f-3b31-4590-92c5-384bf6ad8911').width('51%');$('p#070a8cd2-6c82-4fd6-9902-a93ee5615366').text('Elapsed time: 515.12s. Est. remaining time: 00:00:08:08.');"
      ],
      "text/plain": [
       "<IPython.core.display.Javascript object>"
      ]
     },
     "metadata": {},
     "output_type": "display_data"
    },
    {
     "data": {
      "application/javascript": [
       "$('div#5c28e63f-3b31-4590-92c5-384bf6ad8911').width('52%');$('p#070a8cd2-6c82-4fd6-9902-a93ee5615366').text('Elapsed time: 516.50s. Est. remaining time: 00:00:07:56.');"
      ],
      "text/plain": [
       "<IPython.core.display.Javascript object>"
      ]
     },
     "metadata": {},
     "output_type": "display_data"
    },
    {
     "data": {
      "application/javascript": [
       "$('div#5c28e63f-3b31-4590-92c5-384bf6ad8911').width('53%');$('p#070a8cd2-6c82-4fd6-9902-a93ee5615366').text('Elapsed time: 530.77s. Est. remaining time: 00:00:07:44.');"
      ],
      "text/plain": [
       "<IPython.core.display.Javascript object>"
      ]
     },
     "metadata": {},
     "output_type": "display_data"
    },
    {
     "data": {
      "application/javascript": [
       "$('div#5c28e63f-3b31-4590-92c5-384bf6ad8911').width('54%');$('p#070a8cd2-6c82-4fd6-9902-a93ee5615366').text('Elapsed time: 541.05s. Est. remaining time: 00:00:07:40.');"
      ],
      "text/plain": [
       "<IPython.core.display.Javascript object>"
      ]
     },
     "metadata": {},
     "output_type": "display_data"
    },
    {
     "data": {
      "application/javascript": [
       "$('div#5c28e63f-3b31-4590-92c5-384bf6ad8911').width('55%');$('p#070a8cd2-6c82-4fd6-9902-a93ee5615366').text('Elapsed time: 551.87s. Est. remaining time: 00:00:07:25.');"
      ],
      "text/plain": [
       "<IPython.core.display.Javascript object>"
      ]
     },
     "metadata": {},
     "output_type": "display_data"
    },
    {
     "data": {
      "application/javascript": [
       "$('div#5c28e63f-3b31-4590-92c5-384bf6ad8911').width('56%');$('p#070a8cd2-6c82-4fd6-9902-a93ee5615366').text('Elapsed time: 553.14s. Est. remaining time: 00:00:07:14.');"
      ],
      "text/plain": [
       "<IPython.core.display.Javascript object>"
      ]
     },
     "metadata": {},
     "output_type": "display_data"
    },
    {
     "data": {
      "application/javascript": [
       "$('div#5c28e63f-3b31-4590-92c5-384bf6ad8911').width('57%');$('p#070a8cd2-6c82-4fd6-9902-a93ee5615366').text('Elapsed time: 564.44s. Est. remaining time: 00:00:07:00.');"
      ],
      "text/plain": [
       "<IPython.core.display.Javascript object>"
      ]
     },
     "metadata": {},
     "output_type": "display_data"
    },
    {
     "data": {
      "application/javascript": [
       "$('div#5c28e63f-3b31-4590-92c5-384bf6ad8911').width('58%');$('p#070a8cd2-6c82-4fd6-9902-a93ee5615366').text('Elapsed time: 575.27s. Est. remaining time: 00:00:06:45.');"
      ],
      "text/plain": [
       "<IPython.core.display.Javascript object>"
      ]
     },
     "metadata": {},
     "output_type": "display_data"
    },
    {
     "data": {
      "application/javascript": [
       "$('div#5c28e63f-3b31-4590-92c5-384bf6ad8911').width('59%');$('p#070a8cd2-6c82-4fd6-9902-a93ee5615366').text('Elapsed time: 586.52s. Est. remaining time: 00:00:06:41.');"
      ],
      "text/plain": [
       "<IPython.core.display.Javascript object>"
      ]
     },
     "metadata": {},
     "output_type": "display_data"
    },
    {
     "data": {
      "application/javascript": [
       "$('div#5c28e63f-3b31-4590-92c5-384bf6ad8911').width('60%');$('p#070a8cd2-6c82-4fd6-9902-a93ee5615366').text('Elapsed time: 588.58s. Est. remaining time: 00:00:06:32.');"
      ],
      "text/plain": [
       "<IPython.core.display.Javascript object>"
      ]
     },
     "metadata": {},
     "output_type": "display_data"
    },
    {
     "data": {
      "application/javascript": [
       "$('div#5c28e63f-3b31-4590-92c5-384bf6ad8911').width('61%');$('p#070a8cd2-6c82-4fd6-9902-a93ee5615366').text('Elapsed time: 603.17s. Est. remaining time: 00:00:06:20.');"
      ],
      "text/plain": [
       "<IPython.core.display.Javascript object>"
      ]
     },
     "metadata": {},
     "output_type": "display_data"
    },
    {
     "data": {
      "application/javascript": [
       "$('div#5c28e63f-3b31-4590-92c5-384bf6ad8911').width('62%');$('p#070a8cd2-6c82-4fd6-9902-a93ee5615366').text('Elapsed time: 615.49s. Est. remaining time: 00:00:06:17.');"
      ],
      "text/plain": [
       "<IPython.core.display.Javascript object>"
      ]
     },
     "metadata": {},
     "output_type": "display_data"
    },
    {
     "data": {
      "application/javascript": [
       "$('div#5c28e63f-3b31-4590-92c5-384bf6ad8911').width('63%');$('p#070a8cd2-6c82-4fd6-9902-a93ee5615366').text('Elapsed time: 627.39s. Est. remaining time: 00:00:06:03.');"
      ],
      "text/plain": [
       "<IPython.core.display.Javascript object>"
      ]
     },
     "metadata": {},
     "output_type": "display_data"
    },
    {
     "data": {
      "application/javascript": [
       "$('div#5c28e63f-3b31-4590-92c5-384bf6ad8911').width('64%');$('p#070a8cd2-6c82-4fd6-9902-a93ee5615366').text('Elapsed time: 628.51s. Est. remaining time: 00:00:05:53.');"
      ],
      "text/plain": [
       "<IPython.core.display.Javascript object>"
      ]
     },
     "metadata": {},
     "output_type": "display_data"
    },
    {
     "data": {
      "application/javascript": [
       "$('div#5c28e63f-3b31-4590-92c5-384bf6ad8911').width('65%');$('p#070a8cd2-6c82-4fd6-9902-a93ee5615366').text('Elapsed time: 637.43s. Est. remaining time: 00:00:05:38.');"
      ],
      "text/plain": [
       "<IPython.core.display.Javascript object>"
      ]
     },
     "metadata": {},
     "output_type": "display_data"
    },
    {
     "data": {
      "application/javascript": [
       "$('div#5c28e63f-3b31-4590-92c5-384bf6ad8911').width('66%');$('p#070a8cd2-6c82-4fd6-9902-a93ee5615366').text('Elapsed time: 644.27s. Est. remaining time: 00:00:05:31.');"
      ],
      "text/plain": [
       "<IPython.core.display.Javascript object>"
      ]
     },
     "metadata": {},
     "output_type": "display_data"
    },
    {
     "data": {
      "application/javascript": [
       "$('div#5c28e63f-3b31-4590-92c5-384bf6ad8911').width('67%');$('p#070a8cd2-6c82-4fd6-9902-a93ee5615366').text('Elapsed time: 653.06s. Est. remaining time: 00:00:05:16.');"
      ],
      "text/plain": [
       "<IPython.core.display.Javascript object>"
      ]
     },
     "metadata": {},
     "output_type": "display_data"
    },
    {
     "data": {
      "application/javascript": [
       "$('div#5c28e63f-3b31-4590-92c5-384bf6ad8911').width('68%');$('p#070a8cd2-6c82-4fd6-9902-a93ee5615366').text('Elapsed time: 654.62s. Est. remaining time: 00:00:05:08.');"
      ],
      "text/plain": [
       "<IPython.core.display.Javascript object>"
      ]
     },
     "metadata": {},
     "output_type": "display_data"
    },
    {
     "data": {
      "application/javascript": [
       "$('div#5c28e63f-3b31-4590-92c5-384bf6ad8911').width('69%');$('p#070a8cd2-6c82-4fd6-9902-a93ee5615366').text('Elapsed time: 663.26s. Est. remaining time: 00:00:04:53.');"
      ],
      "text/plain": [
       "<IPython.core.display.Javascript object>"
      ]
     },
     "metadata": {},
     "output_type": "display_data"
    },
    {
     "data": {
      "application/javascript": [
       "$('div#5c28e63f-3b31-4590-92c5-384bf6ad8911').width('70%');$('p#070a8cd2-6c82-4fd6-9902-a93ee5615366').text('Elapsed time: 671.18s. Est. remaining time: 00:00:04:47.');"
      ],
      "text/plain": [
       "<IPython.core.display.Javascript object>"
      ]
     },
     "metadata": {},
     "output_type": "display_data"
    },
    {
     "data": {
      "application/javascript": [
       "$('div#5c28e63f-3b31-4590-92c5-384bf6ad8911').width('71%');$('p#070a8cd2-6c82-4fd6-9902-a93ee5615366').text('Elapsed time: 679.30s. Est. remaining time: 00:00:04:32.');"
      ],
      "text/plain": [
       "<IPython.core.display.Javascript object>"
      ]
     },
     "metadata": {},
     "output_type": "display_data"
    },
    {
     "data": {
      "application/javascript": [
       "$('div#5c28e63f-3b31-4590-92c5-384bf6ad8911').width('72%');$('p#070a8cd2-6c82-4fd6-9902-a93ee5615366').text('Elapsed time: 680.94s. Est. remaining time: 00:00:04:24.');"
      ],
      "text/plain": [
       "<IPython.core.display.Javascript object>"
      ]
     },
     "metadata": {},
     "output_type": "display_data"
    },
    {
     "data": {
      "application/javascript": [
       "$('div#5c28e63f-3b31-4590-92c5-384bf6ad8911').width('73%');$('p#070a8cd2-6c82-4fd6-9902-a93ee5615366').text('Elapsed time: 692.92s. Est. remaining time: 00:00:04:11.');"
      ],
      "text/plain": [
       "<IPython.core.display.Javascript object>"
      ]
     },
     "metadata": {},
     "output_type": "display_data"
    },
    {
     "data": {
      "application/javascript": [
       "$('div#5c28e63f-3b31-4590-92c5-384bf6ad8911').width('74%');$('p#070a8cd2-6c82-4fd6-9902-a93ee5615366').text('Elapsed time: 703.40s. Est. remaining time: 00:00:04:07.');"
      ],
      "text/plain": [
       "<IPython.core.display.Javascript object>"
      ]
     },
     "metadata": {},
     "output_type": "display_data"
    },
    {
     "data": {
      "application/javascript": [
       "$('div#5c28e63f-3b31-4590-92c5-384bf6ad8911').width('75%');$('p#070a8cd2-6c82-4fd6-9902-a93ee5615366').text('Elapsed time: 716.98s. Est. remaining time: 00:00:03:54.');"
      ],
      "text/plain": [
       "<IPython.core.display.Javascript object>"
      ]
     },
     "metadata": {},
     "output_type": "display_data"
    },
    {
     "data": {
      "application/javascript": [
       "$('div#5c28e63f-3b31-4590-92c5-384bf6ad8911').width('76%');$('p#070a8cd2-6c82-4fd6-9902-a93ee5615366').text('Elapsed time: 720.31s. Est. remaining time: 00:00:03:47.');"
      ],
      "text/plain": [
       "<IPython.core.display.Javascript object>"
      ]
     },
     "metadata": {},
     "output_type": "display_data"
    },
    {
     "data": {
      "application/javascript": [
       "$('div#5c28e63f-3b31-4590-92c5-384bf6ad8911').width('77%');$('p#070a8cd2-6c82-4fd6-9902-a93ee5615366').text('Elapsed time: 737.87s. Est. remaining time: 00:00:03:36.');"
      ],
      "text/plain": [
       "<IPython.core.display.Javascript object>"
      ]
     },
     "metadata": {},
     "output_type": "display_data"
    },
    {
     "data": {
      "application/javascript": [
       "$('div#5c28e63f-3b31-4590-92c5-384bf6ad8911').width('78%');$('p#070a8cd2-6c82-4fd6-9902-a93ee5615366').text('Elapsed time: 751.89s. Est. remaining time: 00:00:03:32.');"
      ],
      "text/plain": [
       "<IPython.core.display.Javascript object>"
      ]
     },
     "metadata": {},
     "output_type": "display_data"
    },
    {
     "data": {
      "application/javascript": [
       "$('div#5c28e63f-3b31-4590-92c5-384bf6ad8911').width('79%');$('p#070a8cd2-6c82-4fd6-9902-a93ee5615366').text('Elapsed time: 769.15s. Est. remaining time: 00:00:03:20.');"
      ],
      "text/plain": [
       "<IPython.core.display.Javascript object>"
      ]
     },
     "metadata": {},
     "output_type": "display_data"
    },
    {
     "data": {
      "application/javascript": [
       "$('div#5c28e63f-3b31-4590-92c5-384bf6ad8911').width('80%');$('p#070a8cd2-6c82-4fd6-9902-a93ee5615366').text('Elapsed time: 771.74s. Est. remaining time: 00:00:03:12.');"
      ],
      "text/plain": [
       "<IPython.core.display.Javascript object>"
      ]
     },
     "metadata": {},
     "output_type": "display_data"
    },
    {
     "data": {
      "application/javascript": [
       "$('div#5c28e63f-3b31-4590-92c5-384bf6ad8911').width('81%');$('p#070a8cd2-6c82-4fd6-9902-a93ee5615366').text('Elapsed time: 789.66s. Est. remaining time: 00:00:03:01.');"
      ],
      "text/plain": [
       "<IPython.core.display.Javascript object>"
      ]
     },
     "metadata": {},
     "output_type": "display_data"
    },
    {
     "data": {
      "application/javascript": [
       "$('div#5c28e63f-3b31-4590-92c5-384bf6ad8911').width('82%');$('p#070a8cd2-6c82-4fd6-9902-a93ee5615366').text('Elapsed time: 804.83s. Est. remaining time: 00:00:02:56.');"
      ],
      "text/plain": [
       "<IPython.core.display.Javascript object>"
      ]
     },
     "metadata": {},
     "output_type": "display_data"
    },
    {
     "data": {
      "application/javascript": [
       "$('div#5c28e63f-3b31-4590-92c5-384bf6ad8911').width('83%');$('p#070a8cd2-6c82-4fd6-9902-a93ee5615366').text('Elapsed time: 820.87s. Est. remaining time: 00:00:02:44.');"
      ],
      "text/plain": [
       "<IPython.core.display.Javascript object>"
      ]
     },
     "metadata": {},
     "output_type": "display_data"
    },
    {
     "data": {
      "application/javascript": [
       "$('div#5c28e63f-3b31-4590-92c5-384bf6ad8911').width('84%');$('p#070a8cd2-6c82-4fd6-9902-a93ee5615366').text('Elapsed time: 823.61s. Est. remaining time: 00:00:02:36.');"
      ],
      "text/plain": [
       "<IPython.core.display.Javascript object>"
      ]
     },
     "metadata": {},
     "output_type": "display_data"
    },
    {
     "data": {
      "application/javascript": [
       "$('div#5c28e63f-3b31-4590-92c5-384bf6ad8911').width('85%');$('p#070a8cd2-6c82-4fd6-9902-a93ee5615366').text('Elapsed time: 840.03s. Est. remaining time: 00:00:02:24.');"
      ],
      "text/plain": [
       "<IPython.core.display.Javascript object>"
      ]
     },
     "metadata": {},
     "output_type": "display_data"
    },
    {
     "data": {
      "application/javascript": [
       "$('div#5c28e63f-3b31-4590-92c5-384bf6ad8911').width('86%');$('p#070a8cd2-6c82-4fd6-9902-a93ee5615366').text('Elapsed time: 851.99s. Est. remaining time: 00:00:02:18.');"
      ],
      "text/plain": [
       "<IPython.core.display.Javascript object>"
      ]
     },
     "metadata": {},
     "output_type": "display_data"
    },
    {
     "data": {
      "application/javascript": [
       "$('div#5c28e63f-3b31-4590-92c5-384bf6ad8911').width('87%');$('p#070a8cd2-6c82-4fd6-9902-a93ee5615366').text('Elapsed time: 861.60s. Est. remaining time: 00:00:02:04.');"
      ],
      "text/plain": [
       "<IPython.core.display.Javascript object>"
      ]
     },
     "metadata": {},
     "output_type": "display_data"
    },
    {
     "data": {
      "application/javascript": [
       "$('div#5c28e63f-3b31-4590-92c5-384bf6ad8911').width('88%');$('p#070a8cd2-6c82-4fd6-9902-a93ee5615366').text('Elapsed time: 862.62s. Est. remaining time: 00:00:01:57.');"
      ],
      "text/plain": [
       "<IPython.core.display.Javascript object>"
      ]
     },
     "metadata": {},
     "output_type": "display_data"
    },
    {
     "data": {
      "application/javascript": [
       "$('div#5c28e63f-3b31-4590-92c5-384bf6ad8911').width('89%');$('p#070a8cd2-6c82-4fd6-9902-a93ee5615366').text('Elapsed time: 875.83s. Est. remaining time: 00:00:01:44.');"
      ],
      "text/plain": [
       "<IPython.core.display.Javascript object>"
      ]
     },
     "metadata": {},
     "output_type": "display_data"
    },
    {
     "data": {
      "application/javascript": [
       "$('div#5c28e63f-3b31-4590-92c5-384bf6ad8911').width('90%');$('p#070a8cd2-6c82-4fd6-9902-a93ee5615366').text('Elapsed time: 888.46s. Est. remaining time: 00:00:01:38.');"
      ],
      "text/plain": [
       "<IPython.core.display.Javascript object>"
      ]
     },
     "metadata": {},
     "output_type": "display_data"
    },
    {
     "data": {
      "application/javascript": [
       "$('div#5c28e63f-3b31-4590-92c5-384bf6ad8911').width('91%');$('p#070a8cd2-6c82-4fd6-9902-a93ee5615366').text('Elapsed time: 901.79s. Est. remaining time: 00:00:01:25.');"
      ],
      "text/plain": [
       "<IPython.core.display.Javascript object>"
      ]
     },
     "metadata": {},
     "output_type": "display_data"
    },
    {
     "data": {
      "application/javascript": [
       "$('div#5c28e63f-3b31-4590-92c5-384bf6ad8911').width('92%');$('p#070a8cd2-6c82-4fd6-9902-a93ee5615366').text('Elapsed time: 902.70s. Est. remaining time: 00:00:01:18.');"
      ],
      "text/plain": [
       "<IPython.core.display.Javascript object>"
      ]
     },
     "metadata": {},
     "output_type": "display_data"
    },
    {
     "data": {
      "application/javascript": [
       "$('div#5c28e63f-3b31-4590-92c5-384bf6ad8911').width('93%');$('p#070a8cd2-6c82-4fd6-9902-a93ee5615366').text('Elapsed time: 910.90s. Est. remaining time: 00:00:01:05.');"
      ],
      "text/plain": [
       "<IPython.core.display.Javascript object>"
      ]
     },
     "metadata": {},
     "output_type": "display_data"
    },
    {
     "data": {
      "application/javascript": [
       "$('div#5c28e63f-3b31-4590-92c5-384bf6ad8911').width('94%');$('p#070a8cd2-6c82-4fd6-9902-a93ee5615366').text('Elapsed time: 917.29s. Est. remaining time: 00:00:00:58.');"
      ],
      "text/plain": [
       "<IPython.core.display.Javascript object>"
      ]
     },
     "metadata": {},
     "output_type": "display_data"
    },
    {
     "data": {
      "application/javascript": [
       "$('div#5c28e63f-3b31-4590-92c5-384bf6ad8911').width('95%');$('p#070a8cd2-6c82-4fd6-9902-a93ee5615366').text('Elapsed time: 926.94s. Est. remaining time: 00:00:00:45.');"
      ],
      "text/plain": [
       "<IPython.core.display.Javascript object>"
      ]
     },
     "metadata": {},
     "output_type": "display_data"
    },
    {
     "data": {
      "application/javascript": [
       "$('div#5c28e63f-3b31-4590-92c5-384bf6ad8911').width('96%');$('p#070a8cd2-6c82-4fd6-9902-a93ee5615366').text('Elapsed time: 928.65s. Est. remaining time: 00:00:00:38.');"
      ],
      "text/plain": [
       "<IPython.core.display.Javascript object>"
      ]
     },
     "metadata": {},
     "output_type": "display_data"
    },
    {
     "data": {
      "application/javascript": [
       "$('div#5c28e63f-3b31-4590-92c5-384bf6ad8911').width('97%');$('p#070a8cd2-6c82-4fd6-9902-a93ee5615366').text('Elapsed time: 939.57s. Est. remaining time: 00:00:00:25.');"
      ],
      "text/plain": [
       "<IPython.core.display.Javascript object>"
      ]
     },
     "metadata": {},
     "output_type": "display_data"
    },
    {
     "data": {
      "application/javascript": [
       "$('div#5c28e63f-3b31-4590-92c5-384bf6ad8911').width('98%');$('p#070a8cd2-6c82-4fd6-9902-a93ee5615366').text('Elapsed time: 950.18s. Est. remaining time: 00:00:00:19.');"
      ],
      "text/plain": [
       "<IPython.core.display.Javascript object>"
      ]
     },
     "metadata": {},
     "output_type": "display_data"
    },
    {
     "data": {
      "application/javascript": [
       "$('div#5c28e63f-3b31-4590-92c5-384bf6ad8911').width('99%');$('p#070a8cd2-6c82-4fd6-9902-a93ee5615366').text('Elapsed time: 959.83s. Est. remaining time: 00:00:00:06.');"
      ],
      "text/plain": [
       "<IPython.core.display.Javascript object>"
      ]
     },
     "metadata": {},
     "output_type": "display_data"
    },
    {
     "data": {
      "application/javascript": [
       "$('div#5c28e63f-3b31-4590-92c5-384bf6ad8911').width('100%');$('p#070a8cd2-6c82-4fd6-9902-a93ee5615366').text('Elapsed time: 960.70s. Est. remaining time: 00:00:00:00.');"
      ],
      "text/plain": [
       "<IPython.core.display.Javascript object>"
      ]
     },
     "metadata": {},
     "output_type": "display_data"
    },
    {
     "data": {
      "application/javascript": [
       "$('div#5c28e63f-3b31-4590-92c5-384bf6ad8911').width('100%');$('p#070a8cd2-6c82-4fd6-9902-a93ee5615366').text('Elapsed time: 960.74s');"
      ],
      "text/plain": [
       "<IPython.core.display.Javascript object>"
      ]
     },
     "metadata": {},
     "output_type": "display_data"
    }
   ],
   "source": [
    "result2 = smesolve(H, rho0, times, c_ops=c_ops, sc_ops=sc_ops, e_ops=e_ops, \n",
    "                   ntraj=ntraj, nsubsteps=100, method='photocurrent',\n",
    "                   store_measurement=True,\n",
    "                   options=Options(store_states=True),\n",
    "                   progress_bar=HTMLProgressBar(),\n",
    "                   map_func=parallel_map)"
   ]
  },
  {
   "cell_type": "raw",
   "metadata": {},
   "source": [
    "# alternative: use the parallel_map based on IPython.parallel\n",
    "from qutip.ipynbtools import parallel_map as ip_parallel_map\n",
    "result2 = smesolve(H, rho0, times, c_ops=c_ops, sc_ops=sc_ops, e_ops=e_ops, \n",
    "                   ntraj=ntraj, nsubsteps=100, method='photocurrent',\n",
    "                   store_measurement=True,\n",
    "                   options=Options(store_states=True),\n",
    "                   progress_bar=HTMLProgressBar(),\n",
    "                   map_func=ip_parallel_map)"
   ]
  },
  {
   "cell_type": "code",
   "execution_count": 14,
   "metadata": {},
   "outputs": [
    {
     "data": {
      "image/png": "[encoded data removed]",
      "text/plain": [
       "<matplotlib.figure.Figure at 0x1130f1f60>"
      ]
     },
     "metadata": {},
     "output_type": "display_data"
    }
   ],
   "source": [
    "fig, axes = plt.subplots(2, 3, figsize=(16, 8), sharex=True)\n",
    "\n",
    "axes[0,0].plot(times, result1.expect[0], label=r'Stochastic ME (ntraj = 1)', lw=2)\n",
    "axes[0,0].plot(times, result_ref.expect[0], label=r'Lindblad ME', lw=2)\n",
    "axes[0,0].set_title(\"Cavity photon number (ntraj = 1)\")\n",
    "axes[0,0].legend()\n",
    "\n",
    "axes[1,0].plot(times, result2.expect[0], label=r'Stochatic ME (ntraj = %d)' % ntraj, lw=2)\n",
    "axes[1,0].plot(times, result_ref.expect[0], label=r'Lindblad ME', lw=2)\n",
    "axes[1,0].set_title(\"Cavity photon number (ntraj = 10)\")\n",
    "axes[1,0].legend()\n",
    "\n",
    "\n",
    "axes[0,1].plot(times, result1.expect[2], label=r'Stochastic ME (ntraj = 1)', lw=2)\n",
    "axes[0,1].plot(times, result_ref.expect[2], label=r'Lindblad ME', lw=2)\n",
    "axes[0,1].set_title(\"Qubit excition probability (ntraj = 1)\")\n",
    "axes[0,1].legend()\n",
    "\n",
    "axes[1,1].plot(times, result2.expect[2], label=r'Stochatic ME (ntraj = %d)' % ntraj, lw=2)\n",
    "axes[1,1].plot(times, result_ref.expect[2], label=r'Lindblad ME', lw=2)\n",
    "axes[1,1].set_title(\"Qubit excition probability (ntraj = %d)\" % ntraj)\n",
    "axes[1,1].legend()\n",
    "\n",
    "\n",
    "axes[0,2].step(times, dt * np.cumsum(result1.measurement[0].real), lw=2)\n",
    "axes[0,2].set_title(\"Cummulative photon detections (ntraj = 1)\")\n",
    "axes[1,2].step(times, dt * np.cumsum(np.array(result2.measurement).sum(axis=0).real) / ntraj, lw=2)\n",
    "axes[1,2].set_title(\"Cummulative avg. photon detections (ntraj = %d)\" % ntraj)\n",
    "\n",
    "fig.tight_layout()"
   ]
  },
  {
   "cell_type": "markdown",
   "metadata": {},
   "source": [
    "## Versions"
   ]
  },
  {
   "cell_type": "code",
   "execution_count": 15,
   "metadata": {},
   "outputs": [
    {
     "data": {
      "text/html": [
       "<table><tr><th>Software</th><th>Version</th></tr><tr><td>QuTiP</td><td>4.3.0.dev0+6e5b1d43</td></tr><tr><td>Numpy</td><td>1.13.1</td></tr><tr><td>SciPy</td><td>0.19.1</td></tr><tr><td>matplotlib</td><td>2.0.2</td></tr><tr><td>Cython</td><td>0.25.2</td></tr><tr><td>Number of CPUs</td><td>2</td></tr><tr><td>BLAS Info</td><td>INTEL MKL</td></tr><tr><td>IPython</td><td>6.1.0</td></tr><tr><td>Python</td><td>3.6.2 |Anaconda custom (x86_64)| (default, Jul 20 2017, 13:14:59) \n",
       "[GCC 4.2.1 Compatible Apple LLVM 6.0 (clang-600.0.57)]</td></tr><tr><td>OS</td><td>posix [darwin]</td></tr><tr><td colspan='2'>Thu Jul 20 22:59:29 2017 MDT</td></tr></table>"
      ],
      "text/plain": [
       "<IPython.core.display.HTML object>"
      ]
     },
     "execution_count": 15,
     "metadata": {},
     "output_type": "execute_result"
    }
   ],
   "source": [
    "from qutip.ipynbtools import version_table\n",
    "\n",
    "version_table()"
   ]
  }
 ],
 "metadata": {
  "kernelspec": {
   "display_name": "Python 3",
   "language": "python",
   "name": "python3"
  },
  "language_info": {
   "codemirror_mode": {
    "name": "ipython",
    "version": 3
   },
   "file_extension": ".py",
   "mimetype": "text/x-python",
   "name": "python",
   "nbconvert_exporter": "python",
   "pygments_lexer": "ipython3",
   "version": "3.6.2"
  }
 },
 "nbformat": 4,
 "nbformat_minor": 1
}
