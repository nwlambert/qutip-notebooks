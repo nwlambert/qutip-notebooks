{
 "cells": [
  {
   "cell_type": "markdown",
   "metadata": {},
   "source": [
    "# QuTiP example: Energy-levels of a quantum systems as a function of a single parameter"
   ]
  },
  {
   "cell_type": "markdown",
   "metadata": {},
   "source": [
    "J.R. Johansson and P.D. Nation\n",
    "\n",
    "For more information about QuTiP see [http://qutip.org](http://qutip.org)"
   ]
  },
  {
   "cell_type": "code",
   "execution_count": 1,
   "metadata": {},
   "outputs": [],
   "source": [
    "%matplotlib inline\n",
    "import matplotlib.pyplot as plt"
   ]
  },
  {
   "cell_type": "code",
   "execution_count": 2,
   "metadata": {},
   "outputs": [],
   "source": [
    "import numpy as np\n",
    "from numpy import pi"
   ]
  },
  {
   "cell_type": "code",
   "execution_count": 3,
   "metadata": {},
   "outputs": [],
   "source": [
    "from qutip import *"
   ]
  },
  {
   "cell_type": "markdown",
   "metadata": {},
   "source": [
    "## Energy spectrum of three coupled qubits"
   ]
  },
  {
   "cell_type": "code",
   "execution_count": 4,
   "metadata": {},
   "outputs": [],
   "source": [
    "def compute(w1list, w2, w3, g12, g13):\n",
    "\n",
    "    # Pre-compute operators for the hamiltonian\n",
    "    sz1 = tensor(sigmaz(), qeye(2), qeye(2))\n",
    "    sx1 = tensor(sigmax(), qeye(2), qeye(2))\n",
    "\n",
    "    sz2 = tensor(qeye(2), sigmaz(), qeye(2))\n",
    "    sx2 = tensor(qeye(2), sigmax(), qeye(2))\n",
    "\n",
    "    sz3 = tensor(qeye(2), qeye(2), sigmaz())\n",
    "    sx3 = tensor(qeye(2), qeye(2), sigmax())\n",
    "  \n",
    "    idx = 0\n",
    "    evals_mat = np.zeros((len(w1list),2*2*2))\n",
    "    for w1 in w1list:\n",
    "\n",
    "        # evaluate the Hamiltonian\n",
    "        H = w1 * sz1 + w2 * sz2 + w3 * sz3 + g12 * sx1 * sx2 + g13 * sx1 * sx3\n",
    "\n",
    "        # find the energy eigenvalues of the composite system\n",
    "        evals, ekets = H.eigenstates()\n",
    "\n",
    "        evals_mat[idx,:] = np.real(evals)\n",
    "\n",
    "        idx += 1\n",
    "\n",
    "    return evals_mat"
   ]
  },
  {
   "cell_type": "code",
   "execution_count": 5,
   "metadata": {},
   "outputs": [],
   "source": [
    "w1  = 1.0 * 2 * pi   # atom 1 frequency: sweep this one\n",
    "w2  = 0.9 * 2 * pi   # atom 2 frequency\n",
    "w3  = 1.1 * 2 * pi   # atom 3 frequency\n",
    "g12 = 0.05 * 2 * pi   # atom1-atom2 coupling strength\n",
    "g13 = 0.05 * 2 * pi   # atom1-atom3 coupling strength\n",
    "\n",
    "w1list = np.linspace(0.75, 1.25, 50) * 2 * pi # atom 1 frequency range"
   ]
  },
  {
   "cell_type": "code",
   "execution_count": 6,
   "metadata": {},
   "outputs": [],
   "source": [
    "evals_mat = compute(w1list, w2, w3, g12, g13)"
   ]
  },
  {
   "cell_type": "code",
   "execution_count": 7,
   "metadata": {},
   "outputs": [
    {
     "data": {
      "image/png": "[encoded data removed]",
      "text/plain": [
       "<matplotlib.figure.Figure at 0x10bd25b00>"
      ]
     },
     "metadata": {},
     "output_type": "display_data"
    }
   ],
   "source": [
    "fig, ax = plt.subplots(figsize=(12,6))\n",
    "\n",
    "for n in [1,2,3]:\n",
    "    ax.plot(w1list / (2*pi), (evals_mat[:,n]-evals_mat[:,0]) / (2*pi), 'b')\n",
    "\n",
    "ax.set_xlabel('Energy splitting of atom 1')\n",
    "ax.set_ylabel('Eigenenergies')\n",
    "ax.set_title('Energy spectrum of three coupled qubits');"
   ]
  },
  {
   "cell_type": "markdown",
   "metadata": {},
   "source": [
    "## Versions"
   ]
  },
  {
   "cell_type": "code",
   "execution_count": 8,
   "metadata": {},
   "outputs": [
    {
     "data": {
      "text/html": [
       "<table><tr><th>Software</th><th>Version</th></tr><tr><td>QuTiP</td><td>4.2.0</td></tr><tr><td>Numpy</td><td>1.13.1</td></tr><tr><td>SciPy</td><td>0.19.1</td></tr><tr><td>matplotlib</td><td>2.0.2</td></tr><tr><td>Cython</td><td>0.25.2</td></tr><tr><td>Number of CPUs</td><td>2</td></tr><tr><td>BLAS Info</td><td>INTEL MKL</td></tr><tr><td>IPython</td><td>6.1.0</td></tr><tr><td>Python</td><td>3.6.1 |Anaconda custom (x86_64)| (default, May 11 2017, 13:04:09) \n",
       "[GCC 4.2.1 Compatible Apple LLVM 6.0 (clang-600.0.57)]</td></tr><tr><td>OS</td><td>posix [darwin]</td></tr><tr><td colspan='2'>Wed Jul 19 22:16:09 2017 MDT</td></tr></table>"
      ],
      "text/plain": [
       "<IPython.core.display.HTML object>"
      ]
     },
     "execution_count": 8,
     "metadata": {},
     "output_type": "execute_result"
    }
   ],
   "source": [
    "from qutip.ipynbtools import version_table\n",
    "\n",
    "version_table()"
   ]
  }
 ],
 "metadata": {
  "kernelspec": {
   "display_name": "Python 3",
   "language": "python",
   "name": "python3"
  },
  "language_info": {
   "codemirror_mode": {
    "name": "ipython",
    "version": 3
   },
   "file_extension": ".py",
   "mimetype": "text/x-python",
   "name": "python",
   "nbconvert_exporter": "python",
   "pygments_lexer": "ipython3",
   "version": "3.6.1"
  }
 },
 "nbformat": 4,
 "nbformat_minor": 1
}
